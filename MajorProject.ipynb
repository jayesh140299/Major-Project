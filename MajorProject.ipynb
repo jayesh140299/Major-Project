{
  "nbformat": 4,
  "nbformat_minor": 0,
  "metadata": {
    "colab": {
      "name": "MajorProject.ipynb",
      "provenance": [],
      "mount_file_id": "1y4Rqd8B_8FpDncPxj0b3Xv-nkKHmh-1-",
      "authorship_tag": "ABX9TyMjHvD7mzBL/tBSo8voF14h",
      "include_colab_link": true
    },
    "kernelspec": {
      "name": "python3",
      "display_name": "Python 3"
    },
    "language_info": {
      "name": "python"
    }
  },
  "cells": [
    {
      "cell_type": "markdown",
      "metadata": {
        "id": "view-in-github",
        "colab_type": "text"
      },
      "source": [
        "<a href=\"https://colab.research.google.com/github/jayesh140299/Major-Project/blob/main/MajorProject.ipynb\" target=\"_parent\"><img src=\"https://colab.research.google.com/assets/colab-badge.svg\" alt=\"Open In Colab\"/></a>"
      ]
    },
    {
      "cell_type": "code",
      "metadata": {
        "id": "DUMQdNQcHpaA"
      },
      "source": [
        "import pandas as pd\n",
        "import matplotlib.pyplot as plt\n",
        "from matplotlib import style\n",
        "#style.use('ggplot')\n",
        "%matplotlib inline\n",
        "\n",
        "import plotly\n",
        "import plotly.express as px\n",
        "import plotly.graph_objects as go\n",
        "import cufflinks as cf\n",
        "import plotly.offline as pyo\n",
        "from plotly.offline import init_notebook_mode,plot,iplot\n",
        "\n",
        "\n",
        "import folium\n"
      ],
      "execution_count": null,
      "outputs": []
    },
    {
      "cell_type": "code",
      "metadata": {
        "id": "omXkOuOLJUFs",
        "colab": {
          "base_uri": "https://localhost:8080/",
          "height": 17
        },
        "outputId": "668ab5a9-a1d3-4223-8552-6747a43a50ac"
      },
      "source": [
        "pyo.init_notebook_mode(connected=True)\n",
        "cf.go_offline()"
      ],
      "execution_count": null,
      "outputs": [
        {
          "output_type": "display_data",
          "data": {
            "text/html": [
              "        <script type=\"text/javascript\">\n",
              "        window.PlotlyConfig = {MathJaxConfig: 'local'};\n",
              "        if (window.MathJax) {MathJax.Hub.Config({SVG: {font: \"STIX-Web\"}});}\n",
              "        if (typeof require !== 'undefined') {\n",
              "        require.undef(\"plotly\");\n",
              "        requirejs.config({\n",
              "            paths: {\n",
              "                'plotly': ['https://cdn.plot.ly/plotly-latest.min']\n",
              "            }\n",
              "        });\n",
              "        require(['plotly'], function(Plotly) {\n",
              "            window._Plotly = Plotly;\n",
              "        });\n",
              "        }\n",
              "        </script>\n",
              "        "
            ]
          },
          "metadata": {
            "tags": []
          }
        },
        {
          "output_type": "display_data",
          "data": {
            "text/html": [
              "        <script type=\"text/javascript\">\n",
              "        window.PlotlyConfig = {MathJaxConfig: 'local'};\n",
              "        if (window.MathJax) {MathJax.Hub.Config({SVG: {font: \"STIX-Web\"}});}\n",
              "        if (typeof require !== 'undefined') {\n",
              "        require.undef(\"plotly\");\n",
              "        requirejs.config({\n",
              "            paths: {\n",
              "                'plotly': ['https://cdn.plot.ly/plotly-latest.min']\n",
              "            }\n",
              "        });\n",
              "        require(['plotly'], function(Plotly) {\n",
              "            window._Plotly = Plotly;\n",
              "        });\n",
              "        }\n",
              "        </script>\n",
              "        "
            ]
          },
          "metadata": {
            "tags": []
          }
        }
      ]
    },
    {
      "cell_type": "code",
      "metadata": {
        "id": "kU6OZkl5ujNy"
      },
      "source": [
        "df=pd.read_excel(\"/content/drive/MyDrive/python - april/Covid cases in India.xlsx\")"
      ],
      "execution_count": null,
      "outputs": []
    },
    {
      "cell_type": "code",
      "metadata": {
        "colab": {
          "base_uri": "https://localhost:8080/",
          "height": 850
        },
        "id": "W6pe0BkkvFN2",
        "outputId": "7a518a2f-0076-459a-f9f1-f7af40499705"
      },
      "source": [
        "df"
      ],
      "execution_count": null,
      "outputs": [
        {
          "output_type": "execute_result",
          "data": {
            "text/html": [
              "<div>\n",
              "<style scoped>\n",
              "    .dataframe tbody tr th:only-of-type {\n",
              "        vertical-align: middle;\n",
              "    }\n",
              "\n",
              "    .dataframe tbody tr th {\n",
              "        vertical-align: top;\n",
              "    }\n",
              "\n",
              "    .dataframe thead th {\n",
              "        text-align: right;\n",
              "    }\n",
              "</style>\n",
              "<table border=\"1\" class=\"dataframe\">\n",
              "  <thead>\n",
              "    <tr style=\"text-align: right;\">\n",
              "      <th></th>\n",
              "      <th>S. No.</th>\n",
              "      <th>Name of State / UT</th>\n",
              "      <th>Total Confirmed cases (Indian National)</th>\n",
              "      <th>Total Confirmed cases ( Foreign National )</th>\n",
              "      <th>Cured</th>\n",
              "      <th>Death</th>\n",
              "    </tr>\n",
              "  </thead>\n",
              "  <tbody>\n",
              "    <tr>\n",
              "      <th>0</th>\n",
              "      <td>1</td>\n",
              "      <td>Andhra Pradesh</td>\n",
              "      <td>12</td>\n",
              "      <td>0</td>\n",
              "      <td>1</td>\n",
              "      <td>0</td>\n",
              "    </tr>\n",
              "    <tr>\n",
              "      <th>1</th>\n",
              "      <td>2</td>\n",
              "      <td>Chhattisgarh</td>\n",
              "      <td>6</td>\n",
              "      <td>0</td>\n",
              "      <td>0</td>\n",
              "      <td>0</td>\n",
              "    </tr>\n",
              "    <tr>\n",
              "      <th>2</th>\n",
              "      <td>3</td>\n",
              "      <td>Delhi</td>\n",
              "      <td>38</td>\n",
              "      <td>1</td>\n",
              "      <td>6</td>\n",
              "      <td>1</td>\n",
              "    </tr>\n",
              "    <tr>\n",
              "      <th>3</th>\n",
              "      <td>4</td>\n",
              "      <td>Gujarat</td>\n",
              "      <td>43</td>\n",
              "      <td>0</td>\n",
              "      <td>0</td>\n",
              "      <td>3</td>\n",
              "    </tr>\n",
              "    <tr>\n",
              "      <th>4</th>\n",
              "      <td>5</td>\n",
              "      <td>Haryana</td>\n",
              "      <td>16</td>\n",
              "      <td>14</td>\n",
              "      <td>11</td>\n",
              "      <td>0</td>\n",
              "    </tr>\n",
              "    <tr>\n",
              "      <th>5</th>\n",
              "      <td>6</td>\n",
              "      <td>Himachal Pradesh</td>\n",
              "      <td>4</td>\n",
              "      <td>0</td>\n",
              "      <td>0</td>\n",
              "      <td>1</td>\n",
              "    </tr>\n",
              "    <tr>\n",
              "      <th>6</th>\n",
              "      <td>7</td>\n",
              "      <td>Karnataka</td>\n",
              "      <td>20</td>\n",
              "      <td>0</td>\n",
              "      <td>3</td>\n",
              "      <td>2</td>\n",
              "    </tr>\n",
              "    <tr>\n",
              "      <th>7</th>\n",
              "      <td>8</td>\n",
              "      <td>Kerala</td>\n",
              "      <td>131</td>\n",
              "      <td>7</td>\n",
              "      <td>11</td>\n",
              "      <td>0</td>\n",
              "    </tr>\n",
              "    <tr>\n",
              "      <th>8</th>\n",
              "      <td>9</td>\n",
              "      <td>Madhya Pradesh</td>\n",
              "      <td>23</td>\n",
              "      <td>0</td>\n",
              "      <td>0</td>\n",
              "      <td>1</td>\n",
              "    </tr>\n",
              "    <tr>\n",
              "      <th>9</th>\n",
              "      <td>10</td>\n",
              "      <td>Maharashtra</td>\n",
              "      <td>144</td>\n",
              "      <td>3</td>\n",
              "      <td>15</td>\n",
              "      <td>4</td>\n",
              "    </tr>\n",
              "    <tr>\n",
              "      <th>10</th>\n",
              "      <td>11</td>\n",
              "      <td>Odisha</td>\n",
              "      <td>3</td>\n",
              "      <td>0</td>\n",
              "      <td>0</td>\n",
              "      <td>0</td>\n",
              "    </tr>\n",
              "    <tr>\n",
              "      <th>11</th>\n",
              "      <td>12</td>\n",
              "      <td>Puducherry</td>\n",
              "      <td>1</td>\n",
              "      <td>0</td>\n",
              "      <td>0</td>\n",
              "      <td>0</td>\n",
              "    </tr>\n",
              "    <tr>\n",
              "      <th>12</th>\n",
              "      <td>13</td>\n",
              "      <td>Punjab</td>\n",
              "      <td>29</td>\n",
              "      <td>0</td>\n",
              "      <td>0</td>\n",
              "      <td>1</td>\n",
              "    </tr>\n",
              "    <tr>\n",
              "      <th>13</th>\n",
              "      <td>14</td>\n",
              "      <td>Rajasthan</td>\n",
              "      <td>41</td>\n",
              "      <td>2</td>\n",
              "      <td>3</td>\n",
              "      <td>0</td>\n",
              "    </tr>\n",
              "    <tr>\n",
              "      <th>14</th>\n",
              "      <td>15</td>\n",
              "      <td>Tamil Nadu</td>\n",
              "      <td>32</td>\n",
              "      <td>3</td>\n",
              "      <td>1</td>\n",
              "      <td>1</td>\n",
              "    </tr>\n",
              "    <tr>\n",
              "      <th>15</th>\n",
              "      <td>16</td>\n",
              "      <td>Telengana</td>\n",
              "      <td>34</td>\n",
              "      <td>11</td>\n",
              "      <td>1</td>\n",
              "      <td>0</td>\n",
              "    </tr>\n",
              "    <tr>\n",
              "      <th>16</th>\n",
              "      <td>17</td>\n",
              "      <td>Chandigarh</td>\n",
              "      <td>7</td>\n",
              "      <td>0</td>\n",
              "      <td>0</td>\n",
              "      <td>0</td>\n",
              "    </tr>\n",
              "    <tr>\n",
              "      <th>17</th>\n",
              "      <td>18</td>\n",
              "      <td>Jammu and Kashmir</td>\n",
              "      <td>18</td>\n",
              "      <td>0</td>\n",
              "      <td>1</td>\n",
              "      <td>1</td>\n",
              "    </tr>\n",
              "    <tr>\n",
              "      <th>18</th>\n",
              "      <td>19</td>\n",
              "      <td>Ladakh</td>\n",
              "      <td>13</td>\n",
              "      <td>0</td>\n",
              "      <td>0</td>\n",
              "      <td>0</td>\n",
              "    </tr>\n",
              "    <tr>\n",
              "      <th>19</th>\n",
              "      <td>20</td>\n",
              "      <td>Uttar Pradesh</td>\n",
              "      <td>42</td>\n",
              "      <td>1</td>\n",
              "      <td>11</td>\n",
              "      <td>0</td>\n",
              "    </tr>\n",
              "    <tr>\n",
              "      <th>20</th>\n",
              "      <td>21</td>\n",
              "      <td>Uttarakhand</td>\n",
              "      <td>4</td>\n",
              "      <td>0</td>\n",
              "      <td>0</td>\n",
              "      <td>0</td>\n",
              "    </tr>\n",
              "    <tr>\n",
              "      <th>21</th>\n",
              "      <td>22</td>\n",
              "      <td>West Bengal</td>\n",
              "      <td>11</td>\n",
              "      <td>0</td>\n",
              "      <td>0</td>\n",
              "      <td>1</td>\n",
              "    </tr>\n",
              "    <tr>\n",
              "      <th>22</th>\n",
              "      <td>23</td>\n",
              "      <td>Bihar</td>\n",
              "      <td>7</td>\n",
              "      <td>0</td>\n",
              "      <td>0</td>\n",
              "      <td>1</td>\n",
              "    </tr>\n",
              "    <tr>\n",
              "      <th>23</th>\n",
              "      <td>24</td>\n",
              "      <td>Mizoram</td>\n",
              "      <td>1</td>\n",
              "      <td>0</td>\n",
              "      <td>0</td>\n",
              "      <td>0</td>\n",
              "    </tr>\n",
              "    <tr>\n",
              "      <th>24</th>\n",
              "      <td>25</td>\n",
              "      <td>Goa</td>\n",
              "      <td>6</td>\n",
              "      <td>0</td>\n",
              "      <td>0</td>\n",
              "      <td>0</td>\n",
              "    </tr>\n",
              "    <tr>\n",
              "      <th>25</th>\n",
              "      <td>26</td>\n",
              "      <td>Manipur</td>\n",
              "      <td>1</td>\n",
              "      <td>0</td>\n",
              "      <td>0</td>\n",
              "      <td>0</td>\n",
              "    </tr>\n",
              "  </tbody>\n",
              "</table>\n",
              "</div>"
            ],
            "text/plain": [
              "    S. No. Name of State / UT  ...  Cured  Death\n",
              "0        1     Andhra Pradesh  ...      1      0\n",
              "1        2       Chhattisgarh  ...      0      0\n",
              "2        3              Delhi  ...      6      1\n",
              "3        4            Gujarat  ...      0      3\n",
              "4        5            Haryana  ...     11      0\n",
              "5        6   Himachal Pradesh  ...      0      1\n",
              "6        7          Karnataka  ...      3      2\n",
              "7        8             Kerala  ...     11      0\n",
              "8        9     Madhya Pradesh  ...      0      1\n",
              "9       10        Maharashtra  ...     15      4\n",
              "10      11             Odisha  ...      0      0\n",
              "11      12         Puducherry  ...      0      0\n",
              "12      13             Punjab  ...      0      1\n",
              "13      14          Rajasthan  ...      3      0\n",
              "14      15         Tamil Nadu  ...      1      1\n",
              "15      16          Telengana  ...      1      0\n",
              "16      17         Chandigarh  ...      0      0\n",
              "17      18  Jammu and Kashmir  ...      1      1\n",
              "18      19             Ladakh  ...      0      0\n",
              "19      20      Uttar Pradesh  ...     11      0\n",
              "20      21        Uttarakhand  ...      0      0\n",
              "21      22        West Bengal  ...      0      1\n",
              "22      23              Bihar  ...      0      1\n",
              "23      24            Mizoram  ...      0      0\n",
              "24      25                Goa  ...      0      0\n",
              "25      26            Manipur  ...      0      0\n",
              "\n",
              "[26 rows x 6 columns]"
            ]
          },
          "metadata": {
            "tags": []
          },
          "execution_count": 59
        }
      ]
    },
    {
      "cell_type": "code",
      "metadata": {
        "id": "bzkG-xoMvI02"
      },
      "source": [
        "df.drop(['S. No.'],axis=1,inplace=True)"
      ],
      "execution_count": null,
      "outputs": []
    },
    {
      "cell_type": "code",
      "metadata": {
        "colab": {
          "base_uri": "https://localhost:8080/",
          "height": 850
        },
        "id": "uTjzyQoDvT2L",
        "outputId": "8c05ad69-71d1-4826-ad36-9a0e7febb955"
      },
      "source": [
        "df"
      ],
      "execution_count": null,
      "outputs": [
        {
          "output_type": "execute_result",
          "data": {
            "text/html": [
              "<div>\n",
              "<style scoped>\n",
              "    .dataframe tbody tr th:only-of-type {\n",
              "        vertical-align: middle;\n",
              "    }\n",
              "\n",
              "    .dataframe tbody tr th {\n",
              "        vertical-align: top;\n",
              "    }\n",
              "\n",
              "    .dataframe thead th {\n",
              "        text-align: right;\n",
              "    }\n",
              "</style>\n",
              "<table border=\"1\" class=\"dataframe\">\n",
              "  <thead>\n",
              "    <tr style=\"text-align: right;\">\n",
              "      <th></th>\n",
              "      <th>Name of State / UT</th>\n",
              "      <th>Total Confirmed cases (Indian National)</th>\n",
              "      <th>Total Confirmed cases ( Foreign National )</th>\n",
              "      <th>Cured</th>\n",
              "      <th>Death</th>\n",
              "    </tr>\n",
              "  </thead>\n",
              "  <tbody>\n",
              "    <tr>\n",
              "      <th>0</th>\n",
              "      <td>Andhra Pradesh</td>\n",
              "      <td>12</td>\n",
              "      <td>0</td>\n",
              "      <td>1</td>\n",
              "      <td>0</td>\n",
              "    </tr>\n",
              "    <tr>\n",
              "      <th>1</th>\n",
              "      <td>Chhattisgarh</td>\n",
              "      <td>6</td>\n",
              "      <td>0</td>\n",
              "      <td>0</td>\n",
              "      <td>0</td>\n",
              "    </tr>\n",
              "    <tr>\n",
              "      <th>2</th>\n",
              "      <td>Delhi</td>\n",
              "      <td>38</td>\n",
              "      <td>1</td>\n",
              "      <td>6</td>\n",
              "      <td>1</td>\n",
              "    </tr>\n",
              "    <tr>\n",
              "      <th>3</th>\n",
              "      <td>Gujarat</td>\n",
              "      <td>43</td>\n",
              "      <td>0</td>\n",
              "      <td>0</td>\n",
              "      <td>3</td>\n",
              "    </tr>\n",
              "    <tr>\n",
              "      <th>4</th>\n",
              "      <td>Haryana</td>\n",
              "      <td>16</td>\n",
              "      <td>14</td>\n",
              "      <td>11</td>\n",
              "      <td>0</td>\n",
              "    </tr>\n",
              "    <tr>\n",
              "      <th>5</th>\n",
              "      <td>Himachal Pradesh</td>\n",
              "      <td>4</td>\n",
              "      <td>0</td>\n",
              "      <td>0</td>\n",
              "      <td>1</td>\n",
              "    </tr>\n",
              "    <tr>\n",
              "      <th>6</th>\n",
              "      <td>Karnataka</td>\n",
              "      <td>20</td>\n",
              "      <td>0</td>\n",
              "      <td>3</td>\n",
              "      <td>2</td>\n",
              "    </tr>\n",
              "    <tr>\n",
              "      <th>7</th>\n",
              "      <td>Kerala</td>\n",
              "      <td>131</td>\n",
              "      <td>7</td>\n",
              "      <td>11</td>\n",
              "      <td>0</td>\n",
              "    </tr>\n",
              "    <tr>\n",
              "      <th>8</th>\n",
              "      <td>Madhya Pradesh</td>\n",
              "      <td>23</td>\n",
              "      <td>0</td>\n",
              "      <td>0</td>\n",
              "      <td>1</td>\n",
              "    </tr>\n",
              "    <tr>\n",
              "      <th>9</th>\n",
              "      <td>Maharashtra</td>\n",
              "      <td>144</td>\n",
              "      <td>3</td>\n",
              "      <td>15</td>\n",
              "      <td>4</td>\n",
              "    </tr>\n",
              "    <tr>\n",
              "      <th>10</th>\n",
              "      <td>Odisha</td>\n",
              "      <td>3</td>\n",
              "      <td>0</td>\n",
              "      <td>0</td>\n",
              "      <td>0</td>\n",
              "    </tr>\n",
              "    <tr>\n",
              "      <th>11</th>\n",
              "      <td>Puducherry</td>\n",
              "      <td>1</td>\n",
              "      <td>0</td>\n",
              "      <td>0</td>\n",
              "      <td>0</td>\n",
              "    </tr>\n",
              "    <tr>\n",
              "      <th>12</th>\n",
              "      <td>Punjab</td>\n",
              "      <td>29</td>\n",
              "      <td>0</td>\n",
              "      <td>0</td>\n",
              "      <td>1</td>\n",
              "    </tr>\n",
              "    <tr>\n",
              "      <th>13</th>\n",
              "      <td>Rajasthan</td>\n",
              "      <td>41</td>\n",
              "      <td>2</td>\n",
              "      <td>3</td>\n",
              "      <td>0</td>\n",
              "    </tr>\n",
              "    <tr>\n",
              "      <th>14</th>\n",
              "      <td>Tamil Nadu</td>\n",
              "      <td>32</td>\n",
              "      <td>3</td>\n",
              "      <td>1</td>\n",
              "      <td>1</td>\n",
              "    </tr>\n",
              "    <tr>\n",
              "      <th>15</th>\n",
              "      <td>Telengana</td>\n",
              "      <td>34</td>\n",
              "      <td>11</td>\n",
              "      <td>1</td>\n",
              "      <td>0</td>\n",
              "    </tr>\n",
              "    <tr>\n",
              "      <th>16</th>\n",
              "      <td>Chandigarh</td>\n",
              "      <td>7</td>\n",
              "      <td>0</td>\n",
              "      <td>0</td>\n",
              "      <td>0</td>\n",
              "    </tr>\n",
              "    <tr>\n",
              "      <th>17</th>\n",
              "      <td>Jammu and Kashmir</td>\n",
              "      <td>18</td>\n",
              "      <td>0</td>\n",
              "      <td>1</td>\n",
              "      <td>1</td>\n",
              "    </tr>\n",
              "    <tr>\n",
              "      <th>18</th>\n",
              "      <td>Ladakh</td>\n",
              "      <td>13</td>\n",
              "      <td>0</td>\n",
              "      <td>0</td>\n",
              "      <td>0</td>\n",
              "    </tr>\n",
              "    <tr>\n",
              "      <th>19</th>\n",
              "      <td>Uttar Pradesh</td>\n",
              "      <td>42</td>\n",
              "      <td>1</td>\n",
              "      <td>11</td>\n",
              "      <td>0</td>\n",
              "    </tr>\n",
              "    <tr>\n",
              "      <th>20</th>\n",
              "      <td>Uttarakhand</td>\n",
              "      <td>4</td>\n",
              "      <td>0</td>\n",
              "      <td>0</td>\n",
              "      <td>0</td>\n",
              "    </tr>\n",
              "    <tr>\n",
              "      <th>21</th>\n",
              "      <td>West Bengal</td>\n",
              "      <td>11</td>\n",
              "      <td>0</td>\n",
              "      <td>0</td>\n",
              "      <td>1</td>\n",
              "    </tr>\n",
              "    <tr>\n",
              "      <th>22</th>\n",
              "      <td>Bihar</td>\n",
              "      <td>7</td>\n",
              "      <td>0</td>\n",
              "      <td>0</td>\n",
              "      <td>1</td>\n",
              "    </tr>\n",
              "    <tr>\n",
              "      <th>23</th>\n",
              "      <td>Mizoram</td>\n",
              "      <td>1</td>\n",
              "      <td>0</td>\n",
              "      <td>0</td>\n",
              "      <td>0</td>\n",
              "    </tr>\n",
              "    <tr>\n",
              "      <th>24</th>\n",
              "      <td>Goa</td>\n",
              "      <td>6</td>\n",
              "      <td>0</td>\n",
              "      <td>0</td>\n",
              "      <td>0</td>\n",
              "    </tr>\n",
              "    <tr>\n",
              "      <th>25</th>\n",
              "      <td>Manipur</td>\n",
              "      <td>1</td>\n",
              "      <td>0</td>\n",
              "      <td>0</td>\n",
              "      <td>0</td>\n",
              "    </tr>\n",
              "  </tbody>\n",
              "</table>\n",
              "</div>"
            ],
            "text/plain": [
              "   Name of State / UT  Total Confirmed cases (Indian National)  ...  Cured  Death\n",
              "0      Andhra Pradesh                                       12  ...      1      0\n",
              "1        Chhattisgarh                                        6  ...      0      0\n",
              "2               Delhi                                       38  ...      6      1\n",
              "3             Gujarat                                       43  ...      0      3\n",
              "4             Haryana                                       16  ...     11      0\n",
              "5    Himachal Pradesh                                        4  ...      0      1\n",
              "6           Karnataka                                       20  ...      3      2\n",
              "7              Kerala                                      131  ...     11      0\n",
              "8      Madhya Pradesh                                       23  ...      0      1\n",
              "9         Maharashtra                                      144  ...     15      4\n",
              "10             Odisha                                        3  ...      0      0\n",
              "11         Puducherry                                        1  ...      0      0\n",
              "12             Punjab                                       29  ...      0      1\n",
              "13          Rajasthan                                       41  ...      3      0\n",
              "14         Tamil Nadu                                       32  ...      1      1\n",
              "15          Telengana                                       34  ...      1      0\n",
              "16         Chandigarh                                        7  ...      0      0\n",
              "17  Jammu and Kashmir                                       18  ...      1      1\n",
              "18             Ladakh                                       13  ...      0      0\n",
              "19      Uttar Pradesh                                       42  ...     11      0\n",
              "20        Uttarakhand                                        4  ...      0      0\n",
              "21        West Bengal                                       11  ...      0      1\n",
              "22              Bihar                                        7  ...      0      1\n",
              "23            Mizoram                                        1  ...      0      0\n",
              "24                Goa                                        6  ...      0      0\n",
              "25            Manipur                                        1  ...      0      0\n",
              "\n",
              "[26 rows x 5 columns]"
            ]
          },
          "metadata": {
            "tags": []
          },
          "execution_count": 61
        }
      ]
    },
    {
      "cell_type": "code",
      "metadata": {
        "id": "rovJqP9xvU-a"
      },
      "source": [
        "df['Total Cases']=df['Total Confirmed cases (Indian National)']+df['Total Confirmed cases ( Foreign National )']"
      ],
      "execution_count": null,
      "outputs": []
    },
    {
      "cell_type": "code",
      "metadata": {
        "colab": {
          "base_uri": "https://localhost:8080/",
          "height": 850
        },
        "id": "ULqsgB0Qvg2L",
        "outputId": "31032d35-2e30-4ea0-e22a-cd88538be024"
      },
      "source": [
        "\n",
        "df"
      ],
      "execution_count": null,
      "outputs": [
        {
          "output_type": "execute_result",
          "data": {
            "text/html": [
              "<div>\n",
              "<style scoped>\n",
              "    .dataframe tbody tr th:only-of-type {\n",
              "        vertical-align: middle;\n",
              "    }\n",
              "\n",
              "    .dataframe tbody tr th {\n",
              "        vertical-align: top;\n",
              "    }\n",
              "\n",
              "    .dataframe thead th {\n",
              "        text-align: right;\n",
              "    }\n",
              "</style>\n",
              "<table border=\"1\" class=\"dataframe\">\n",
              "  <thead>\n",
              "    <tr style=\"text-align: right;\">\n",
              "      <th></th>\n",
              "      <th>Name of State / UT</th>\n",
              "      <th>Total Confirmed cases (Indian National)</th>\n",
              "      <th>Total Confirmed cases ( Foreign National )</th>\n",
              "      <th>Cured</th>\n",
              "      <th>Death</th>\n",
              "      <th>Total Cases</th>\n",
              "    </tr>\n",
              "  </thead>\n",
              "  <tbody>\n",
              "    <tr>\n",
              "      <th>0</th>\n",
              "      <td>Andhra Pradesh</td>\n",
              "      <td>12</td>\n",
              "      <td>0</td>\n",
              "      <td>1</td>\n",
              "      <td>0</td>\n",
              "      <td>12</td>\n",
              "    </tr>\n",
              "    <tr>\n",
              "      <th>1</th>\n",
              "      <td>Chhattisgarh</td>\n",
              "      <td>6</td>\n",
              "      <td>0</td>\n",
              "      <td>0</td>\n",
              "      <td>0</td>\n",
              "      <td>6</td>\n",
              "    </tr>\n",
              "    <tr>\n",
              "      <th>2</th>\n",
              "      <td>Delhi</td>\n",
              "      <td>38</td>\n",
              "      <td>1</td>\n",
              "      <td>6</td>\n",
              "      <td>1</td>\n",
              "      <td>39</td>\n",
              "    </tr>\n",
              "    <tr>\n",
              "      <th>3</th>\n",
              "      <td>Gujarat</td>\n",
              "      <td>43</td>\n",
              "      <td>0</td>\n",
              "      <td>0</td>\n",
              "      <td>3</td>\n",
              "      <td>43</td>\n",
              "    </tr>\n",
              "    <tr>\n",
              "      <th>4</th>\n",
              "      <td>Haryana</td>\n",
              "      <td>16</td>\n",
              "      <td>14</td>\n",
              "      <td>11</td>\n",
              "      <td>0</td>\n",
              "      <td>30</td>\n",
              "    </tr>\n",
              "    <tr>\n",
              "      <th>5</th>\n",
              "      <td>Himachal Pradesh</td>\n",
              "      <td>4</td>\n",
              "      <td>0</td>\n",
              "      <td>0</td>\n",
              "      <td>1</td>\n",
              "      <td>4</td>\n",
              "    </tr>\n",
              "    <tr>\n",
              "      <th>6</th>\n",
              "      <td>Karnataka</td>\n",
              "      <td>20</td>\n",
              "      <td>0</td>\n",
              "      <td>3</td>\n",
              "      <td>2</td>\n",
              "      <td>20</td>\n",
              "    </tr>\n",
              "    <tr>\n",
              "      <th>7</th>\n",
              "      <td>Kerala</td>\n",
              "      <td>131</td>\n",
              "      <td>7</td>\n",
              "      <td>11</td>\n",
              "      <td>0</td>\n",
              "      <td>138</td>\n",
              "    </tr>\n",
              "    <tr>\n",
              "      <th>8</th>\n",
              "      <td>Madhya Pradesh</td>\n",
              "      <td>23</td>\n",
              "      <td>0</td>\n",
              "      <td>0</td>\n",
              "      <td>1</td>\n",
              "      <td>23</td>\n",
              "    </tr>\n",
              "    <tr>\n",
              "      <th>9</th>\n",
              "      <td>Maharashtra</td>\n",
              "      <td>144</td>\n",
              "      <td>3</td>\n",
              "      <td>15</td>\n",
              "      <td>4</td>\n",
              "      <td>147</td>\n",
              "    </tr>\n",
              "    <tr>\n",
              "      <th>10</th>\n",
              "      <td>Odisha</td>\n",
              "      <td>3</td>\n",
              "      <td>0</td>\n",
              "      <td>0</td>\n",
              "      <td>0</td>\n",
              "      <td>3</td>\n",
              "    </tr>\n",
              "    <tr>\n",
              "      <th>11</th>\n",
              "      <td>Puducherry</td>\n",
              "      <td>1</td>\n",
              "      <td>0</td>\n",
              "      <td>0</td>\n",
              "      <td>0</td>\n",
              "      <td>1</td>\n",
              "    </tr>\n",
              "    <tr>\n",
              "      <th>12</th>\n",
              "      <td>Punjab</td>\n",
              "      <td>29</td>\n",
              "      <td>0</td>\n",
              "      <td>0</td>\n",
              "      <td>1</td>\n",
              "      <td>29</td>\n",
              "    </tr>\n",
              "    <tr>\n",
              "      <th>13</th>\n",
              "      <td>Rajasthan</td>\n",
              "      <td>41</td>\n",
              "      <td>2</td>\n",
              "      <td>3</td>\n",
              "      <td>0</td>\n",
              "      <td>43</td>\n",
              "    </tr>\n",
              "    <tr>\n",
              "      <th>14</th>\n",
              "      <td>Tamil Nadu</td>\n",
              "      <td>32</td>\n",
              "      <td>3</td>\n",
              "      <td>1</td>\n",
              "      <td>1</td>\n",
              "      <td>35</td>\n",
              "    </tr>\n",
              "    <tr>\n",
              "      <th>15</th>\n",
              "      <td>Telengana</td>\n",
              "      <td>34</td>\n",
              "      <td>11</td>\n",
              "      <td>1</td>\n",
              "      <td>0</td>\n",
              "      <td>45</td>\n",
              "    </tr>\n",
              "    <tr>\n",
              "      <th>16</th>\n",
              "      <td>Chandigarh</td>\n",
              "      <td>7</td>\n",
              "      <td>0</td>\n",
              "      <td>0</td>\n",
              "      <td>0</td>\n",
              "      <td>7</td>\n",
              "    </tr>\n",
              "    <tr>\n",
              "      <th>17</th>\n",
              "      <td>Jammu and Kashmir</td>\n",
              "      <td>18</td>\n",
              "      <td>0</td>\n",
              "      <td>1</td>\n",
              "      <td>1</td>\n",
              "      <td>18</td>\n",
              "    </tr>\n",
              "    <tr>\n",
              "      <th>18</th>\n",
              "      <td>Ladakh</td>\n",
              "      <td>13</td>\n",
              "      <td>0</td>\n",
              "      <td>0</td>\n",
              "      <td>0</td>\n",
              "      <td>13</td>\n",
              "    </tr>\n",
              "    <tr>\n",
              "      <th>19</th>\n",
              "      <td>Uttar Pradesh</td>\n",
              "      <td>42</td>\n",
              "      <td>1</td>\n",
              "      <td>11</td>\n",
              "      <td>0</td>\n",
              "      <td>43</td>\n",
              "    </tr>\n",
              "    <tr>\n",
              "      <th>20</th>\n",
              "      <td>Uttarakhand</td>\n",
              "      <td>4</td>\n",
              "      <td>0</td>\n",
              "      <td>0</td>\n",
              "      <td>0</td>\n",
              "      <td>4</td>\n",
              "    </tr>\n",
              "    <tr>\n",
              "      <th>21</th>\n",
              "      <td>West Bengal</td>\n",
              "      <td>11</td>\n",
              "      <td>0</td>\n",
              "      <td>0</td>\n",
              "      <td>1</td>\n",
              "      <td>11</td>\n",
              "    </tr>\n",
              "    <tr>\n",
              "      <th>22</th>\n",
              "      <td>Bihar</td>\n",
              "      <td>7</td>\n",
              "      <td>0</td>\n",
              "      <td>0</td>\n",
              "      <td>1</td>\n",
              "      <td>7</td>\n",
              "    </tr>\n",
              "    <tr>\n",
              "      <th>23</th>\n",
              "      <td>Mizoram</td>\n",
              "      <td>1</td>\n",
              "      <td>0</td>\n",
              "      <td>0</td>\n",
              "      <td>0</td>\n",
              "      <td>1</td>\n",
              "    </tr>\n",
              "    <tr>\n",
              "      <th>24</th>\n",
              "      <td>Goa</td>\n",
              "      <td>6</td>\n",
              "      <td>0</td>\n",
              "      <td>0</td>\n",
              "      <td>0</td>\n",
              "      <td>6</td>\n",
              "    </tr>\n",
              "    <tr>\n",
              "      <th>25</th>\n",
              "      <td>Manipur</td>\n",
              "      <td>1</td>\n",
              "      <td>0</td>\n",
              "      <td>0</td>\n",
              "      <td>0</td>\n",
              "      <td>1</td>\n",
              "    </tr>\n",
              "  </tbody>\n",
              "</table>\n",
              "</div>"
            ],
            "text/plain": [
              "   Name of State / UT  ...  Total Cases\n",
              "0      Andhra Pradesh  ...           12\n",
              "1        Chhattisgarh  ...            6\n",
              "2               Delhi  ...           39\n",
              "3             Gujarat  ...           43\n",
              "4             Haryana  ...           30\n",
              "5    Himachal Pradesh  ...            4\n",
              "6           Karnataka  ...           20\n",
              "7              Kerala  ...          138\n",
              "8      Madhya Pradesh  ...           23\n",
              "9         Maharashtra  ...          147\n",
              "10             Odisha  ...            3\n",
              "11         Puducherry  ...            1\n",
              "12             Punjab  ...           29\n",
              "13          Rajasthan  ...           43\n",
              "14         Tamil Nadu  ...           35\n",
              "15          Telengana  ...           45\n",
              "16         Chandigarh  ...            7\n",
              "17  Jammu and Kashmir  ...           18\n",
              "18             Ladakh  ...           13\n",
              "19      Uttar Pradesh  ...           43\n",
              "20        Uttarakhand  ...            4\n",
              "21        West Bengal  ...           11\n",
              "22              Bihar  ...            7\n",
              "23            Mizoram  ...            1\n",
              "24                Goa  ...            6\n",
              "25            Manipur  ...            1\n",
              "\n",
              "[26 rows x 6 columns]"
            ]
          },
          "metadata": {
            "tags": []
          },
          "execution_count": 63
        }
      ]
    },
    {
      "cell_type": "code",
      "metadata": {
        "colab": {
          "base_uri": "https://localhost:8080/"
        },
        "id": "-P7xFAFvvi0g",
        "outputId": "803ee5aa-90d4-4af3-dfbc-d996a7459976"
      },
      "source": [
        "total_cases_overall=df['Total Cases'].sum()\n",
        "print('The total number of cases till now in India is ',total_cases_overall)"
      ],
      "execution_count": null,
      "outputs": [
        {
          "output_type": "stream",
          "text": [
            "The total number of cases till now in India is  729\n"
          ],
          "name": "stdout"
        }
      ]
    },
    {
      "cell_type": "code",
      "metadata": {
        "id": "OUQoRQZAvoNz"
      },
      "source": [
        "df['Active Cases']=df['Total Cases']-(df['Death']+df['Cured'])"
      ],
      "execution_count": null,
      "outputs": []
    },
    {
      "cell_type": "code",
      "metadata": {
        "colab": {
          "base_uri": "https://localhost:8080/",
          "height": 850
        },
        "id": "7JtopKwovvFS",
        "outputId": "a92a9edf-7d89-4d70-9490-ebd991e625a5"
      },
      "source": [
        "df"
      ],
      "execution_count": null,
      "outputs": [
        {
          "output_type": "execute_result",
          "data": {
            "text/html": [
              "<div>\n",
              "<style scoped>\n",
              "    .dataframe tbody tr th:only-of-type {\n",
              "        vertical-align: middle;\n",
              "    }\n",
              "\n",
              "    .dataframe tbody tr th {\n",
              "        vertical-align: top;\n",
              "    }\n",
              "\n",
              "    .dataframe thead th {\n",
              "        text-align: right;\n",
              "    }\n",
              "</style>\n",
              "<table border=\"1\" class=\"dataframe\">\n",
              "  <thead>\n",
              "    <tr style=\"text-align: right;\">\n",
              "      <th></th>\n",
              "      <th>Name of State / UT</th>\n",
              "      <th>Total Confirmed cases (Indian National)</th>\n",
              "      <th>Total Confirmed cases ( Foreign National )</th>\n",
              "      <th>Cured</th>\n",
              "      <th>Death</th>\n",
              "      <th>Total Cases</th>\n",
              "      <th>Active Cases</th>\n",
              "    </tr>\n",
              "  </thead>\n",
              "  <tbody>\n",
              "    <tr>\n",
              "      <th>0</th>\n",
              "      <td>Andhra Pradesh</td>\n",
              "      <td>12</td>\n",
              "      <td>0</td>\n",
              "      <td>1</td>\n",
              "      <td>0</td>\n",
              "      <td>12</td>\n",
              "      <td>11</td>\n",
              "    </tr>\n",
              "    <tr>\n",
              "      <th>1</th>\n",
              "      <td>Chhattisgarh</td>\n",
              "      <td>6</td>\n",
              "      <td>0</td>\n",
              "      <td>0</td>\n",
              "      <td>0</td>\n",
              "      <td>6</td>\n",
              "      <td>6</td>\n",
              "    </tr>\n",
              "    <tr>\n",
              "      <th>2</th>\n",
              "      <td>Delhi</td>\n",
              "      <td>38</td>\n",
              "      <td>1</td>\n",
              "      <td>6</td>\n",
              "      <td>1</td>\n",
              "      <td>39</td>\n",
              "      <td>32</td>\n",
              "    </tr>\n",
              "    <tr>\n",
              "      <th>3</th>\n",
              "      <td>Gujarat</td>\n",
              "      <td>43</td>\n",
              "      <td>0</td>\n",
              "      <td>0</td>\n",
              "      <td>3</td>\n",
              "      <td>43</td>\n",
              "      <td>40</td>\n",
              "    </tr>\n",
              "    <tr>\n",
              "      <th>4</th>\n",
              "      <td>Haryana</td>\n",
              "      <td>16</td>\n",
              "      <td>14</td>\n",
              "      <td>11</td>\n",
              "      <td>0</td>\n",
              "      <td>30</td>\n",
              "      <td>19</td>\n",
              "    </tr>\n",
              "    <tr>\n",
              "      <th>5</th>\n",
              "      <td>Himachal Pradesh</td>\n",
              "      <td>4</td>\n",
              "      <td>0</td>\n",
              "      <td>0</td>\n",
              "      <td>1</td>\n",
              "      <td>4</td>\n",
              "      <td>3</td>\n",
              "    </tr>\n",
              "    <tr>\n",
              "      <th>6</th>\n",
              "      <td>Karnataka</td>\n",
              "      <td>20</td>\n",
              "      <td>0</td>\n",
              "      <td>3</td>\n",
              "      <td>2</td>\n",
              "      <td>20</td>\n",
              "      <td>15</td>\n",
              "    </tr>\n",
              "    <tr>\n",
              "      <th>7</th>\n",
              "      <td>Kerala</td>\n",
              "      <td>131</td>\n",
              "      <td>7</td>\n",
              "      <td>11</td>\n",
              "      <td>0</td>\n",
              "      <td>138</td>\n",
              "      <td>127</td>\n",
              "    </tr>\n",
              "    <tr>\n",
              "      <th>8</th>\n",
              "      <td>Madhya Pradesh</td>\n",
              "      <td>23</td>\n",
              "      <td>0</td>\n",
              "      <td>0</td>\n",
              "      <td>1</td>\n",
              "      <td>23</td>\n",
              "      <td>22</td>\n",
              "    </tr>\n",
              "    <tr>\n",
              "      <th>9</th>\n",
              "      <td>Maharashtra</td>\n",
              "      <td>144</td>\n",
              "      <td>3</td>\n",
              "      <td>15</td>\n",
              "      <td>4</td>\n",
              "      <td>147</td>\n",
              "      <td>128</td>\n",
              "    </tr>\n",
              "    <tr>\n",
              "      <th>10</th>\n",
              "      <td>Odisha</td>\n",
              "      <td>3</td>\n",
              "      <td>0</td>\n",
              "      <td>0</td>\n",
              "      <td>0</td>\n",
              "      <td>3</td>\n",
              "      <td>3</td>\n",
              "    </tr>\n",
              "    <tr>\n",
              "      <th>11</th>\n",
              "      <td>Puducherry</td>\n",
              "      <td>1</td>\n",
              "      <td>0</td>\n",
              "      <td>0</td>\n",
              "      <td>0</td>\n",
              "      <td>1</td>\n",
              "      <td>1</td>\n",
              "    </tr>\n",
              "    <tr>\n",
              "      <th>12</th>\n",
              "      <td>Punjab</td>\n",
              "      <td>29</td>\n",
              "      <td>0</td>\n",
              "      <td>0</td>\n",
              "      <td>1</td>\n",
              "      <td>29</td>\n",
              "      <td>28</td>\n",
              "    </tr>\n",
              "    <tr>\n",
              "      <th>13</th>\n",
              "      <td>Rajasthan</td>\n",
              "      <td>41</td>\n",
              "      <td>2</td>\n",
              "      <td>3</td>\n",
              "      <td>0</td>\n",
              "      <td>43</td>\n",
              "      <td>40</td>\n",
              "    </tr>\n",
              "    <tr>\n",
              "      <th>14</th>\n",
              "      <td>Tamil Nadu</td>\n",
              "      <td>32</td>\n",
              "      <td>3</td>\n",
              "      <td>1</td>\n",
              "      <td>1</td>\n",
              "      <td>35</td>\n",
              "      <td>33</td>\n",
              "    </tr>\n",
              "    <tr>\n",
              "      <th>15</th>\n",
              "      <td>Telengana</td>\n",
              "      <td>34</td>\n",
              "      <td>11</td>\n",
              "      <td>1</td>\n",
              "      <td>0</td>\n",
              "      <td>45</td>\n",
              "      <td>44</td>\n",
              "    </tr>\n",
              "    <tr>\n",
              "      <th>16</th>\n",
              "      <td>Chandigarh</td>\n",
              "      <td>7</td>\n",
              "      <td>0</td>\n",
              "      <td>0</td>\n",
              "      <td>0</td>\n",
              "      <td>7</td>\n",
              "      <td>7</td>\n",
              "    </tr>\n",
              "    <tr>\n",
              "      <th>17</th>\n",
              "      <td>Jammu and Kashmir</td>\n",
              "      <td>18</td>\n",
              "      <td>0</td>\n",
              "      <td>1</td>\n",
              "      <td>1</td>\n",
              "      <td>18</td>\n",
              "      <td>16</td>\n",
              "    </tr>\n",
              "    <tr>\n",
              "      <th>18</th>\n",
              "      <td>Ladakh</td>\n",
              "      <td>13</td>\n",
              "      <td>0</td>\n",
              "      <td>0</td>\n",
              "      <td>0</td>\n",
              "      <td>13</td>\n",
              "      <td>13</td>\n",
              "    </tr>\n",
              "    <tr>\n",
              "      <th>19</th>\n",
              "      <td>Uttar Pradesh</td>\n",
              "      <td>42</td>\n",
              "      <td>1</td>\n",
              "      <td>11</td>\n",
              "      <td>0</td>\n",
              "      <td>43</td>\n",
              "      <td>32</td>\n",
              "    </tr>\n",
              "    <tr>\n",
              "      <th>20</th>\n",
              "      <td>Uttarakhand</td>\n",
              "      <td>4</td>\n",
              "      <td>0</td>\n",
              "      <td>0</td>\n",
              "      <td>0</td>\n",
              "      <td>4</td>\n",
              "      <td>4</td>\n",
              "    </tr>\n",
              "    <tr>\n",
              "      <th>21</th>\n",
              "      <td>West Bengal</td>\n",
              "      <td>11</td>\n",
              "      <td>0</td>\n",
              "      <td>0</td>\n",
              "      <td>1</td>\n",
              "      <td>11</td>\n",
              "      <td>10</td>\n",
              "    </tr>\n",
              "    <tr>\n",
              "      <th>22</th>\n",
              "      <td>Bihar</td>\n",
              "      <td>7</td>\n",
              "      <td>0</td>\n",
              "      <td>0</td>\n",
              "      <td>1</td>\n",
              "      <td>7</td>\n",
              "      <td>6</td>\n",
              "    </tr>\n",
              "    <tr>\n",
              "      <th>23</th>\n",
              "      <td>Mizoram</td>\n",
              "      <td>1</td>\n",
              "      <td>0</td>\n",
              "      <td>0</td>\n",
              "      <td>0</td>\n",
              "      <td>1</td>\n",
              "      <td>1</td>\n",
              "    </tr>\n",
              "    <tr>\n",
              "      <th>24</th>\n",
              "      <td>Goa</td>\n",
              "      <td>6</td>\n",
              "      <td>0</td>\n",
              "      <td>0</td>\n",
              "      <td>0</td>\n",
              "      <td>6</td>\n",
              "      <td>6</td>\n",
              "    </tr>\n",
              "    <tr>\n",
              "      <th>25</th>\n",
              "      <td>Manipur</td>\n",
              "      <td>1</td>\n",
              "      <td>0</td>\n",
              "      <td>0</td>\n",
              "      <td>0</td>\n",
              "      <td>1</td>\n",
              "      <td>1</td>\n",
              "    </tr>\n",
              "  </tbody>\n",
              "</table>\n",
              "</div>"
            ],
            "text/plain": [
              "   Name of State / UT  ...  Active Cases\n",
              "0      Andhra Pradesh  ...            11\n",
              "1        Chhattisgarh  ...             6\n",
              "2               Delhi  ...            32\n",
              "3             Gujarat  ...            40\n",
              "4             Haryana  ...            19\n",
              "5    Himachal Pradesh  ...             3\n",
              "6           Karnataka  ...            15\n",
              "7              Kerala  ...           127\n",
              "8      Madhya Pradesh  ...            22\n",
              "9         Maharashtra  ...           128\n",
              "10             Odisha  ...             3\n",
              "11         Puducherry  ...             1\n",
              "12             Punjab  ...            28\n",
              "13          Rajasthan  ...            40\n",
              "14         Tamil Nadu  ...            33\n",
              "15          Telengana  ...            44\n",
              "16         Chandigarh  ...             7\n",
              "17  Jammu and Kashmir  ...            16\n",
              "18             Ladakh  ...            13\n",
              "19      Uttar Pradesh  ...            32\n",
              "20        Uttarakhand  ...             4\n",
              "21        West Bengal  ...            10\n",
              "22              Bihar  ...             6\n",
              "23            Mizoram  ...             1\n",
              "24                Goa  ...             6\n",
              "25            Manipur  ...             1\n",
              "\n",
              "[26 rows x 7 columns]"
            ]
          },
          "metadata": {
            "tags": []
          },
          "execution_count": 66
        }
      ]
    },
    {
      "cell_type": "code",
      "metadata": {
        "colab": {
          "base_uri": "https://localhost:8080/",
          "height": 570
        },
        "id": "WcVW3o7ZvxcT",
        "outputId": "4f8d0788-3798-4f84-9194-9f9c636210cc"
      },
      "source": [
        "df.style.background_gradient(cmap='Reds')"
      ],
      "execution_count": null,
      "outputs": [
        {
          "output_type": "execute_result",
          "data": {
            "text/html": [
              "<style  type=\"text/css\" >\n",
              "#T_1972a2d2_cd08_11eb_8d12_0242ac1c0002row0_col1,#T_1972a2d2_cd08_11eb_8d12_0242ac1c0002row0_col5{\n",
              "            background-color:  #fee8de;\n",
              "            color:  #000000;\n",
              "        }#T_1972a2d2_cd08_11eb_8d12_0242ac1c0002row0_col2,#T_1972a2d2_cd08_11eb_8d12_0242ac1c0002row0_col4,#T_1972a2d2_cd08_11eb_8d12_0242ac1c0002row1_col2,#T_1972a2d2_cd08_11eb_8d12_0242ac1c0002row1_col3,#T_1972a2d2_cd08_11eb_8d12_0242ac1c0002row1_col4,#T_1972a2d2_cd08_11eb_8d12_0242ac1c0002row3_col2,#T_1972a2d2_cd08_11eb_8d12_0242ac1c0002row3_col3,#T_1972a2d2_cd08_11eb_8d12_0242ac1c0002row4_col4,#T_1972a2d2_cd08_11eb_8d12_0242ac1c0002row5_col2,#T_1972a2d2_cd08_11eb_8d12_0242ac1c0002row5_col3,#T_1972a2d2_cd08_11eb_8d12_0242ac1c0002row6_col2,#T_1972a2d2_cd08_11eb_8d12_0242ac1c0002row7_col4,#T_1972a2d2_cd08_11eb_8d12_0242ac1c0002row8_col2,#T_1972a2d2_cd08_11eb_8d12_0242ac1c0002row8_col3,#T_1972a2d2_cd08_11eb_8d12_0242ac1c0002row10_col2,#T_1972a2d2_cd08_11eb_8d12_0242ac1c0002row10_col3,#T_1972a2d2_cd08_11eb_8d12_0242ac1c0002row10_col4,#T_1972a2d2_cd08_11eb_8d12_0242ac1c0002row11_col1,#T_1972a2d2_cd08_11eb_8d12_0242ac1c0002row11_col2,#T_1972a2d2_cd08_11eb_8d12_0242ac1c0002row11_col3,#T_1972a2d2_cd08_11eb_8d12_0242ac1c0002row11_col4,#T_1972a2d2_cd08_11eb_8d12_0242ac1c0002row11_col5,#T_1972a2d2_cd08_11eb_8d12_0242ac1c0002row11_col6,#T_1972a2d2_cd08_11eb_8d12_0242ac1c0002row12_col2,#T_1972a2d2_cd08_11eb_8d12_0242ac1c0002row12_col3,#T_1972a2d2_cd08_11eb_8d12_0242ac1c0002row13_col4,#T_1972a2d2_cd08_11eb_8d12_0242ac1c0002row15_col4,#T_1972a2d2_cd08_11eb_8d12_0242ac1c0002row16_col2,#T_1972a2d2_cd08_11eb_8d12_0242ac1c0002row16_col3,#T_1972a2d2_cd08_11eb_8d12_0242ac1c0002row16_col4,#T_1972a2d2_cd08_11eb_8d12_0242ac1c0002row17_col2,#T_1972a2d2_cd08_11eb_8d12_0242ac1c0002row18_col2,#T_1972a2d2_cd08_11eb_8d12_0242ac1c0002row18_col3,#T_1972a2d2_cd08_11eb_8d12_0242ac1c0002row18_col4,#T_1972a2d2_cd08_11eb_8d12_0242ac1c0002row19_col4,#T_1972a2d2_cd08_11eb_8d12_0242ac1c0002row20_col2,#T_1972a2d2_cd08_11eb_8d12_0242ac1c0002row20_col3,#T_1972a2d2_cd08_11eb_8d12_0242ac1c0002row20_col4,#T_1972a2d2_cd08_11eb_8d12_0242ac1c0002row21_col2,#T_1972a2d2_cd08_11eb_8d12_0242ac1c0002row21_col3,#T_1972a2d2_cd08_11eb_8d12_0242ac1c0002row22_col2,#T_1972a2d2_cd08_11eb_8d12_0242ac1c0002row22_col3,#T_1972a2d2_cd08_11eb_8d12_0242ac1c0002row23_col1,#T_1972a2d2_cd08_11eb_8d12_0242ac1c0002row23_col2,#T_1972a2d2_cd08_11eb_8d12_0242ac1c0002row23_col3,#T_1972a2d2_cd08_11eb_8d12_0242ac1c0002row23_col4,#T_1972a2d2_cd08_11eb_8d12_0242ac1c0002row23_col5,#T_1972a2d2_cd08_11eb_8d12_0242ac1c0002row23_col6,#T_1972a2d2_cd08_11eb_8d12_0242ac1c0002row24_col2,#T_1972a2d2_cd08_11eb_8d12_0242ac1c0002row24_col3,#T_1972a2d2_cd08_11eb_8d12_0242ac1c0002row24_col4,#T_1972a2d2_cd08_11eb_8d12_0242ac1c0002row25_col1,#T_1972a2d2_cd08_11eb_8d12_0242ac1c0002row25_col2,#T_1972a2d2_cd08_11eb_8d12_0242ac1c0002row25_col3,#T_1972a2d2_cd08_11eb_8d12_0242ac1c0002row25_col4,#T_1972a2d2_cd08_11eb_8d12_0242ac1c0002row25_col5,#T_1972a2d2_cd08_11eb_8d12_0242ac1c0002row25_col6{\n",
              "            background-color:  #fff5f0;\n",
              "            color:  #000000;\n",
              "        }#T_1972a2d2_cd08_11eb_8d12_0242ac1c0002row0_col3,#T_1972a2d2_cd08_11eb_8d12_0242ac1c0002row14_col3,#T_1972a2d2_cd08_11eb_8d12_0242ac1c0002row15_col3,#T_1972a2d2_cd08_11eb_8d12_0242ac1c0002row17_col3,#T_1972a2d2_cd08_11eb_8d12_0242ac1c0002row21_col1,#T_1972a2d2_cd08_11eb_8d12_0242ac1c0002row21_col5{\n",
              "            background-color:  #feeae0;\n",
              "            color:  #000000;\n",
              "        }#T_1972a2d2_cd08_11eb_8d12_0242ac1c0002row0_col6{\n",
              "            background-color:  #fee8dd;\n",
              "            color:  #000000;\n",
              "        }#T_1972a2d2_cd08_11eb_8d12_0242ac1c0002row1_col1,#T_1972a2d2_cd08_11eb_8d12_0242ac1c0002row1_col5,#T_1972a2d2_cd08_11eb_8d12_0242ac1c0002row24_col1,#T_1972a2d2_cd08_11eb_8d12_0242ac1c0002row24_col5{\n",
              "            background-color:  #fff0e8;\n",
              "            color:  #000000;\n",
              "        }#T_1972a2d2_cd08_11eb_8d12_0242ac1c0002row1_col6,#T_1972a2d2_cd08_11eb_8d12_0242ac1c0002row16_col1,#T_1972a2d2_cd08_11eb_8d12_0242ac1c0002row16_col5,#T_1972a2d2_cd08_11eb_8d12_0242ac1c0002row22_col1,#T_1972a2d2_cd08_11eb_8d12_0242ac1c0002row22_col5,#T_1972a2d2_cd08_11eb_8d12_0242ac1c0002row22_col6,#T_1972a2d2_cd08_11eb_8d12_0242ac1c0002row24_col6{\n",
              "            background-color:  #ffeee7;\n",
              "            color:  #000000;\n",
              "        }#T_1972a2d2_cd08_11eb_8d12_0242ac1c0002row2_col1,#T_1972a2d2_cd08_11eb_8d12_0242ac1c0002row2_col5{\n",
              "            background-color:  #fcb89e;\n",
              "            color:  #000000;\n",
              "        }#T_1972a2d2_cd08_11eb_8d12_0242ac1c0002row2_col2,#T_1972a2d2_cd08_11eb_8d12_0242ac1c0002row19_col2,#T_1972a2d2_cd08_11eb_8d12_0242ac1c0002row21_col6{\n",
              "            background-color:  #fee9df;\n",
              "            color:  #000000;\n",
              "        }#T_1972a2d2_cd08_11eb_8d12_0242ac1c0002row2_col3{\n",
              "            background-color:  #fc8a6a;\n",
              "            color:  #000000;\n",
              "        }#T_1972a2d2_cd08_11eb_8d12_0242ac1c0002row2_col4,#T_1972a2d2_cd08_11eb_8d12_0242ac1c0002row5_col4,#T_1972a2d2_cd08_11eb_8d12_0242ac1c0002row8_col4,#T_1972a2d2_cd08_11eb_8d12_0242ac1c0002row12_col4,#T_1972a2d2_cd08_11eb_8d12_0242ac1c0002row14_col4,#T_1972a2d2_cd08_11eb_8d12_0242ac1c0002row14_col6,#T_1972a2d2_cd08_11eb_8d12_0242ac1c0002row17_col4,#T_1972a2d2_cd08_11eb_8d12_0242ac1c0002row21_col4,#T_1972a2d2_cd08_11eb_8d12_0242ac1c0002row22_col4{\n",
              "            background-color:  #fcbba1;\n",
              "            color:  #000000;\n",
              "        }#T_1972a2d2_cd08_11eb_8d12_0242ac1c0002row2_col6,#T_1972a2d2_cd08_11eb_8d12_0242ac1c0002row19_col6{\n",
              "            background-color:  #fcbda4;\n",
              "            color:  #000000;\n",
              "        }#T_1972a2d2_cd08_11eb_8d12_0242ac1c0002row3_col1{\n",
              "            background-color:  #fcad90;\n",
              "            color:  #000000;\n",
              "        }#T_1972a2d2_cd08_11eb_8d12_0242ac1c0002row3_col4{\n",
              "            background-color:  #ca181d;\n",
              "            color:  #f1f1f1;\n",
              "        }#T_1972a2d2_cd08_11eb_8d12_0242ac1c0002row3_col5,#T_1972a2d2_cd08_11eb_8d12_0242ac1c0002row13_col5,#T_1972a2d2_cd08_11eb_8d12_0242ac1c0002row19_col1,#T_1972a2d2_cd08_11eb_8d12_0242ac1c0002row19_col5{\n",
              "            background-color:  #fcaf93;\n",
              "            color:  #000000;\n",
              "        }#T_1972a2d2_cd08_11eb_8d12_0242ac1c0002row3_col6,#T_1972a2d2_cd08_11eb_8d12_0242ac1c0002row13_col6{\n",
              "            background-color:  #fca98c;\n",
              "            color:  #000000;\n",
              "        }#T_1972a2d2_cd08_11eb_8d12_0242ac1c0002row4_col1{\n",
              "            background-color:  #fee4d8;\n",
              "            color:  #000000;\n",
              "        }#T_1972a2d2_cd08_11eb_8d12_0242ac1c0002row4_col2,#T_1972a2d2_cd08_11eb_8d12_0242ac1c0002row9_col1,#T_1972a2d2_cd08_11eb_8d12_0242ac1c0002row9_col3,#T_1972a2d2_cd08_11eb_8d12_0242ac1c0002row9_col4,#T_1972a2d2_cd08_11eb_8d12_0242ac1c0002row9_col5,#T_1972a2d2_cd08_11eb_8d12_0242ac1c0002row9_col6{\n",
              "            background-color:  #67000d;\n",
              "            color:  #f1f1f1;\n",
              "        }#T_1972a2d2_cd08_11eb_8d12_0242ac1c0002row4_col3,#T_1972a2d2_cd08_11eb_8d12_0242ac1c0002row7_col3,#T_1972a2d2_cd08_11eb_8d12_0242ac1c0002row19_col3{\n",
              "            background-color:  #d01d1f;\n",
              "            color:  #f1f1f1;\n",
              "        }#T_1972a2d2_cd08_11eb_8d12_0242ac1c0002row4_col5,#T_1972a2d2_cd08_11eb_8d12_0242ac1c0002row12_col1{\n",
              "            background-color:  #fdcbb6;\n",
              "            color:  #000000;\n",
              "        }#T_1972a2d2_cd08_11eb_8d12_0242ac1c0002row4_col6,#T_1972a2d2_cd08_11eb_8d12_0242ac1c0002row13_col2{\n",
              "            background-color:  #fedbcc;\n",
              "            color:  #000000;\n",
              "        }#T_1972a2d2_cd08_11eb_8d12_0242ac1c0002row5_col1,#T_1972a2d2_cd08_11eb_8d12_0242ac1c0002row5_col5,#T_1972a2d2_cd08_11eb_8d12_0242ac1c0002row20_col1,#T_1972a2d2_cd08_11eb_8d12_0242ac1c0002row20_col5{\n",
              "            background-color:  #fff2eb;\n",
              "            color:  #000000;\n",
              "        }#T_1972a2d2_cd08_11eb_8d12_0242ac1c0002row5_col6,#T_1972a2d2_cd08_11eb_8d12_0242ac1c0002row10_col6{\n",
              "            background-color:  #fff2ec;\n",
              "            color:  #000000;\n",
              "        }#T_1972a2d2_cd08_11eb_8d12_0242ac1c0002row6_col1{\n",
              "            background-color:  #fedecf;\n",
              "            color:  #000000;\n",
              "        }#T_1972a2d2_cd08_11eb_8d12_0242ac1c0002row6_col3,#T_1972a2d2_cd08_11eb_8d12_0242ac1c0002row13_col3{\n",
              "            background-color:  #fdcab5;\n",
              "            color:  #000000;\n",
              "        }#T_1972a2d2_cd08_11eb_8d12_0242ac1c0002row6_col4,#T_1972a2d2_cd08_11eb_8d12_0242ac1c0002row7_col2{\n",
              "            background-color:  #fb694a;\n",
              "            color:  #000000;\n",
              "        }#T_1972a2d2_cd08_11eb_8d12_0242ac1c0002row6_col5{\n",
              "            background-color:  #fedfd0;\n",
              "            color:  #000000;\n",
              "        }#T_1972a2d2_cd08_11eb_8d12_0242ac1c0002row6_col6{\n",
              "            background-color:  #fee3d6;\n",
              "            color:  #000000;\n",
              "        }#T_1972a2d2_cd08_11eb_8d12_0242ac1c0002row7_col1{\n",
              "            background-color:  #940b13;\n",
              "            color:  #f1f1f1;\n",
              "        }#T_1972a2d2_cd08_11eb_8d12_0242ac1c0002row7_col5{\n",
              "            background-color:  #840711;\n",
              "            color:  #f1f1f1;\n",
              "        }#T_1972a2d2_cd08_11eb_8d12_0242ac1c0002row7_col6{\n",
              "            background-color:  #6b010e;\n",
              "            color:  #f1f1f1;\n",
              "        }#T_1972a2d2_cd08_11eb_8d12_0242ac1c0002row8_col1{\n",
              "            background-color:  #fed8c7;\n",
              "            color:  #000000;\n",
              "        }#T_1972a2d2_cd08_11eb_8d12_0242ac1c0002row8_col5{\n",
              "            background-color:  #fed9c9;\n",
              "            color:  #000000;\n",
              "        }#T_1972a2d2_cd08_11eb_8d12_0242ac1c0002row8_col6{\n",
              "            background-color:  #fdd4c2;\n",
              "            color:  #000000;\n",
              "        }#T_1972a2d2_cd08_11eb_8d12_0242ac1c0002row9_col2,#T_1972a2d2_cd08_11eb_8d12_0242ac1c0002row12_col6,#T_1972a2d2_cd08_11eb_8d12_0242ac1c0002row14_col2{\n",
              "            background-color:  #fdc6b0;\n",
              "            color:  #000000;\n",
              "        }#T_1972a2d2_cd08_11eb_8d12_0242ac1c0002row10_col1,#T_1972a2d2_cd08_11eb_8d12_0242ac1c0002row10_col5{\n",
              "            background-color:  #fff3ed;\n",
              "            color:  #000000;\n",
              "        }#T_1972a2d2_cd08_11eb_8d12_0242ac1c0002row12_col5{\n",
              "            background-color:  #fdccb8;\n",
              "            color:  #000000;\n",
              "        }#T_1972a2d2_cd08_11eb_8d12_0242ac1c0002row13_col1{\n",
              "            background-color:  #fcb296;\n",
              "            color:  #000000;\n",
              "        }#T_1972a2d2_cd08_11eb_8d12_0242ac1c0002row14_col1{\n",
              "            background-color:  #fdc5ae;\n",
              "            color:  #000000;\n",
              "        }#T_1972a2d2_cd08_11eb_8d12_0242ac1c0002row14_col5,#T_1972a2d2_cd08_11eb_8d12_0242ac1c0002row15_col1{\n",
              "            background-color:  #fcc1a8;\n",
              "            color:  #000000;\n",
              "        }#T_1972a2d2_cd08_11eb_8d12_0242ac1c0002row15_col2{\n",
              "            background-color:  #bf151b;\n",
              "            color:  #f1f1f1;\n",
              "        }#T_1972a2d2_cd08_11eb_8d12_0242ac1c0002row15_col5{\n",
              "            background-color:  #fcaa8d;\n",
              "            color:  #000000;\n",
              "        }#T_1972a2d2_cd08_11eb_8d12_0242ac1c0002row15_col6{\n",
              "            background-color:  #fc9e80;\n",
              "            color:  #000000;\n",
              "        }#T_1972a2d2_cd08_11eb_8d12_0242ac1c0002row16_col6{\n",
              "            background-color:  #ffede5;\n",
              "            color:  #000000;\n",
              "        }#T_1972a2d2_cd08_11eb_8d12_0242ac1c0002row17_col1,#T_1972a2d2_cd08_11eb_8d12_0242ac1c0002row17_col6{\n",
              "            background-color:  #fee1d4;\n",
              "            color:  #000000;\n",
              "        }#T_1972a2d2_cd08_11eb_8d12_0242ac1c0002row17_col5{\n",
              "            background-color:  #fee2d5;\n",
              "            color:  #000000;\n",
              "        }#T_1972a2d2_cd08_11eb_8d12_0242ac1c0002row18_col1,#T_1972a2d2_cd08_11eb_8d12_0242ac1c0002row18_col5{\n",
              "            background-color:  #fee7dc;\n",
              "            color:  #000000;\n",
              "        }#T_1972a2d2_cd08_11eb_8d12_0242ac1c0002row18_col6{\n",
              "            background-color:  #fee5d9;\n",
              "            color:  #000000;\n",
              "        }#T_1972a2d2_cd08_11eb_8d12_0242ac1c0002row20_col6{\n",
              "            background-color:  #fff1ea;\n",
              "            color:  #000000;\n",
              "        }</style><table id=\"T_1972a2d2_cd08_11eb_8d12_0242ac1c0002\" ><thead>    <tr>        <th class=\"blank level0\" ></th>        <th class=\"col_heading level0 col0\" >Name of State / UT</th>        <th class=\"col_heading level0 col1\" >Total Confirmed cases (Indian National)</th>        <th class=\"col_heading level0 col2\" >Total Confirmed cases ( Foreign National )</th>        <th class=\"col_heading level0 col3\" >Cured</th>        <th class=\"col_heading level0 col4\" >Death</th>        <th class=\"col_heading level0 col5\" >Total Cases</th>        <th class=\"col_heading level0 col6\" >Active Cases</th>    </tr></thead><tbody>\n",
              "                <tr>\n",
              "                        <th id=\"T_1972a2d2_cd08_11eb_8d12_0242ac1c0002level0_row0\" class=\"row_heading level0 row0\" >0</th>\n",
              "                        <td id=\"T_1972a2d2_cd08_11eb_8d12_0242ac1c0002row0_col0\" class=\"data row0 col0\" >Andhra Pradesh</td>\n",
              "                        <td id=\"T_1972a2d2_cd08_11eb_8d12_0242ac1c0002row0_col1\" class=\"data row0 col1\" >12</td>\n",
              "                        <td id=\"T_1972a2d2_cd08_11eb_8d12_0242ac1c0002row0_col2\" class=\"data row0 col2\" >0</td>\n",
              "                        <td id=\"T_1972a2d2_cd08_11eb_8d12_0242ac1c0002row0_col3\" class=\"data row0 col3\" >1</td>\n",
              "                        <td id=\"T_1972a2d2_cd08_11eb_8d12_0242ac1c0002row0_col4\" class=\"data row0 col4\" >0</td>\n",
              "                        <td id=\"T_1972a2d2_cd08_11eb_8d12_0242ac1c0002row0_col5\" class=\"data row0 col5\" >12</td>\n",
              "                        <td id=\"T_1972a2d2_cd08_11eb_8d12_0242ac1c0002row0_col6\" class=\"data row0 col6\" >11</td>\n",
              "            </tr>\n",
              "            <tr>\n",
              "                        <th id=\"T_1972a2d2_cd08_11eb_8d12_0242ac1c0002level0_row1\" class=\"row_heading level0 row1\" >1</th>\n",
              "                        <td id=\"T_1972a2d2_cd08_11eb_8d12_0242ac1c0002row1_col0\" class=\"data row1 col0\" >Chhattisgarh</td>\n",
              "                        <td id=\"T_1972a2d2_cd08_11eb_8d12_0242ac1c0002row1_col1\" class=\"data row1 col1\" >6</td>\n",
              "                        <td id=\"T_1972a2d2_cd08_11eb_8d12_0242ac1c0002row1_col2\" class=\"data row1 col2\" >0</td>\n",
              "                        <td id=\"T_1972a2d2_cd08_11eb_8d12_0242ac1c0002row1_col3\" class=\"data row1 col3\" >0</td>\n",
              "                        <td id=\"T_1972a2d2_cd08_11eb_8d12_0242ac1c0002row1_col4\" class=\"data row1 col4\" >0</td>\n",
              "                        <td id=\"T_1972a2d2_cd08_11eb_8d12_0242ac1c0002row1_col5\" class=\"data row1 col5\" >6</td>\n",
              "                        <td id=\"T_1972a2d2_cd08_11eb_8d12_0242ac1c0002row1_col6\" class=\"data row1 col6\" >6</td>\n",
              "            </tr>\n",
              "            <tr>\n",
              "                        <th id=\"T_1972a2d2_cd08_11eb_8d12_0242ac1c0002level0_row2\" class=\"row_heading level0 row2\" >2</th>\n",
              "                        <td id=\"T_1972a2d2_cd08_11eb_8d12_0242ac1c0002row2_col0\" class=\"data row2 col0\" >Delhi</td>\n",
              "                        <td id=\"T_1972a2d2_cd08_11eb_8d12_0242ac1c0002row2_col1\" class=\"data row2 col1\" >38</td>\n",
              "                        <td id=\"T_1972a2d2_cd08_11eb_8d12_0242ac1c0002row2_col2\" class=\"data row2 col2\" >1</td>\n",
              "                        <td id=\"T_1972a2d2_cd08_11eb_8d12_0242ac1c0002row2_col3\" class=\"data row2 col3\" >6</td>\n",
              "                        <td id=\"T_1972a2d2_cd08_11eb_8d12_0242ac1c0002row2_col4\" class=\"data row2 col4\" >1</td>\n",
              "                        <td id=\"T_1972a2d2_cd08_11eb_8d12_0242ac1c0002row2_col5\" class=\"data row2 col5\" >39</td>\n",
              "                        <td id=\"T_1972a2d2_cd08_11eb_8d12_0242ac1c0002row2_col6\" class=\"data row2 col6\" >32</td>\n",
              "            </tr>\n",
              "            <tr>\n",
              "                        <th id=\"T_1972a2d2_cd08_11eb_8d12_0242ac1c0002level0_row3\" class=\"row_heading level0 row3\" >3</th>\n",
              "                        <td id=\"T_1972a2d2_cd08_11eb_8d12_0242ac1c0002row3_col0\" class=\"data row3 col0\" >Gujarat</td>\n",
              "                        <td id=\"T_1972a2d2_cd08_11eb_8d12_0242ac1c0002row3_col1\" class=\"data row3 col1\" >43</td>\n",
              "                        <td id=\"T_1972a2d2_cd08_11eb_8d12_0242ac1c0002row3_col2\" class=\"data row3 col2\" >0</td>\n",
              "                        <td id=\"T_1972a2d2_cd08_11eb_8d12_0242ac1c0002row3_col3\" class=\"data row3 col3\" >0</td>\n",
              "                        <td id=\"T_1972a2d2_cd08_11eb_8d12_0242ac1c0002row3_col4\" class=\"data row3 col4\" >3</td>\n",
              "                        <td id=\"T_1972a2d2_cd08_11eb_8d12_0242ac1c0002row3_col5\" class=\"data row3 col5\" >43</td>\n",
              "                        <td id=\"T_1972a2d2_cd08_11eb_8d12_0242ac1c0002row3_col6\" class=\"data row3 col6\" >40</td>\n",
              "            </tr>\n",
              "            <tr>\n",
              "                        <th id=\"T_1972a2d2_cd08_11eb_8d12_0242ac1c0002level0_row4\" class=\"row_heading level0 row4\" >4</th>\n",
              "                        <td id=\"T_1972a2d2_cd08_11eb_8d12_0242ac1c0002row4_col0\" class=\"data row4 col0\" >Haryana</td>\n",
              "                        <td id=\"T_1972a2d2_cd08_11eb_8d12_0242ac1c0002row4_col1\" class=\"data row4 col1\" >16</td>\n",
              "                        <td id=\"T_1972a2d2_cd08_11eb_8d12_0242ac1c0002row4_col2\" class=\"data row4 col2\" >14</td>\n",
              "                        <td id=\"T_1972a2d2_cd08_11eb_8d12_0242ac1c0002row4_col3\" class=\"data row4 col3\" >11</td>\n",
              "                        <td id=\"T_1972a2d2_cd08_11eb_8d12_0242ac1c0002row4_col4\" class=\"data row4 col4\" >0</td>\n",
              "                        <td id=\"T_1972a2d2_cd08_11eb_8d12_0242ac1c0002row4_col5\" class=\"data row4 col5\" >30</td>\n",
              "                        <td id=\"T_1972a2d2_cd08_11eb_8d12_0242ac1c0002row4_col6\" class=\"data row4 col6\" >19</td>\n",
              "            </tr>\n",
              "            <tr>\n",
              "                        <th id=\"T_1972a2d2_cd08_11eb_8d12_0242ac1c0002level0_row5\" class=\"row_heading level0 row5\" >5</th>\n",
              "                        <td id=\"T_1972a2d2_cd08_11eb_8d12_0242ac1c0002row5_col0\" class=\"data row5 col0\" >Himachal Pradesh</td>\n",
              "                        <td id=\"T_1972a2d2_cd08_11eb_8d12_0242ac1c0002row5_col1\" class=\"data row5 col1\" >4</td>\n",
              "                        <td id=\"T_1972a2d2_cd08_11eb_8d12_0242ac1c0002row5_col2\" class=\"data row5 col2\" >0</td>\n",
              "                        <td id=\"T_1972a2d2_cd08_11eb_8d12_0242ac1c0002row5_col3\" class=\"data row5 col3\" >0</td>\n",
              "                        <td id=\"T_1972a2d2_cd08_11eb_8d12_0242ac1c0002row5_col4\" class=\"data row5 col4\" >1</td>\n",
              "                        <td id=\"T_1972a2d2_cd08_11eb_8d12_0242ac1c0002row5_col5\" class=\"data row5 col5\" >4</td>\n",
              "                        <td id=\"T_1972a2d2_cd08_11eb_8d12_0242ac1c0002row5_col6\" class=\"data row5 col6\" >3</td>\n",
              "            </tr>\n",
              "            <tr>\n",
              "                        <th id=\"T_1972a2d2_cd08_11eb_8d12_0242ac1c0002level0_row6\" class=\"row_heading level0 row6\" >6</th>\n",
              "                        <td id=\"T_1972a2d2_cd08_11eb_8d12_0242ac1c0002row6_col0\" class=\"data row6 col0\" >Karnataka</td>\n",
              "                        <td id=\"T_1972a2d2_cd08_11eb_8d12_0242ac1c0002row6_col1\" class=\"data row6 col1\" >20</td>\n",
              "                        <td id=\"T_1972a2d2_cd08_11eb_8d12_0242ac1c0002row6_col2\" class=\"data row6 col2\" >0</td>\n",
              "                        <td id=\"T_1972a2d2_cd08_11eb_8d12_0242ac1c0002row6_col3\" class=\"data row6 col3\" >3</td>\n",
              "                        <td id=\"T_1972a2d2_cd08_11eb_8d12_0242ac1c0002row6_col4\" class=\"data row6 col4\" >2</td>\n",
              "                        <td id=\"T_1972a2d2_cd08_11eb_8d12_0242ac1c0002row6_col5\" class=\"data row6 col5\" >20</td>\n",
              "                        <td id=\"T_1972a2d2_cd08_11eb_8d12_0242ac1c0002row6_col6\" class=\"data row6 col6\" >15</td>\n",
              "            </tr>\n",
              "            <tr>\n",
              "                        <th id=\"T_1972a2d2_cd08_11eb_8d12_0242ac1c0002level0_row7\" class=\"row_heading level0 row7\" >7</th>\n",
              "                        <td id=\"T_1972a2d2_cd08_11eb_8d12_0242ac1c0002row7_col0\" class=\"data row7 col0\" >Kerala</td>\n",
              "                        <td id=\"T_1972a2d2_cd08_11eb_8d12_0242ac1c0002row7_col1\" class=\"data row7 col1\" >131</td>\n",
              "                        <td id=\"T_1972a2d2_cd08_11eb_8d12_0242ac1c0002row7_col2\" class=\"data row7 col2\" >7</td>\n",
              "                        <td id=\"T_1972a2d2_cd08_11eb_8d12_0242ac1c0002row7_col3\" class=\"data row7 col3\" >11</td>\n",
              "                        <td id=\"T_1972a2d2_cd08_11eb_8d12_0242ac1c0002row7_col4\" class=\"data row7 col4\" >0</td>\n",
              "                        <td id=\"T_1972a2d2_cd08_11eb_8d12_0242ac1c0002row7_col5\" class=\"data row7 col5\" >138</td>\n",
              "                        <td id=\"T_1972a2d2_cd08_11eb_8d12_0242ac1c0002row7_col6\" class=\"data row7 col6\" >127</td>\n",
              "            </tr>\n",
              "            <tr>\n",
              "                        <th id=\"T_1972a2d2_cd08_11eb_8d12_0242ac1c0002level0_row8\" class=\"row_heading level0 row8\" >8</th>\n",
              "                        <td id=\"T_1972a2d2_cd08_11eb_8d12_0242ac1c0002row8_col0\" class=\"data row8 col0\" >Madhya Pradesh</td>\n",
              "                        <td id=\"T_1972a2d2_cd08_11eb_8d12_0242ac1c0002row8_col1\" class=\"data row8 col1\" >23</td>\n",
              "                        <td id=\"T_1972a2d2_cd08_11eb_8d12_0242ac1c0002row8_col2\" class=\"data row8 col2\" >0</td>\n",
              "                        <td id=\"T_1972a2d2_cd08_11eb_8d12_0242ac1c0002row8_col3\" class=\"data row8 col3\" >0</td>\n",
              "                        <td id=\"T_1972a2d2_cd08_11eb_8d12_0242ac1c0002row8_col4\" class=\"data row8 col4\" >1</td>\n",
              "                        <td id=\"T_1972a2d2_cd08_11eb_8d12_0242ac1c0002row8_col5\" class=\"data row8 col5\" >23</td>\n",
              "                        <td id=\"T_1972a2d2_cd08_11eb_8d12_0242ac1c0002row8_col6\" class=\"data row8 col6\" >22</td>\n",
              "            </tr>\n",
              "            <tr>\n",
              "                        <th id=\"T_1972a2d2_cd08_11eb_8d12_0242ac1c0002level0_row9\" class=\"row_heading level0 row9\" >9</th>\n",
              "                        <td id=\"T_1972a2d2_cd08_11eb_8d12_0242ac1c0002row9_col0\" class=\"data row9 col0\" >Maharashtra</td>\n",
              "                        <td id=\"T_1972a2d2_cd08_11eb_8d12_0242ac1c0002row9_col1\" class=\"data row9 col1\" >144</td>\n",
              "                        <td id=\"T_1972a2d2_cd08_11eb_8d12_0242ac1c0002row9_col2\" class=\"data row9 col2\" >3</td>\n",
              "                        <td id=\"T_1972a2d2_cd08_11eb_8d12_0242ac1c0002row9_col3\" class=\"data row9 col3\" >15</td>\n",
              "                        <td id=\"T_1972a2d2_cd08_11eb_8d12_0242ac1c0002row9_col4\" class=\"data row9 col4\" >4</td>\n",
              "                        <td id=\"T_1972a2d2_cd08_11eb_8d12_0242ac1c0002row9_col5\" class=\"data row9 col5\" >147</td>\n",
              "                        <td id=\"T_1972a2d2_cd08_11eb_8d12_0242ac1c0002row9_col6\" class=\"data row9 col6\" >128</td>\n",
              "            </tr>\n",
              "            <tr>\n",
              "                        <th id=\"T_1972a2d2_cd08_11eb_8d12_0242ac1c0002level0_row10\" class=\"row_heading level0 row10\" >10</th>\n",
              "                        <td id=\"T_1972a2d2_cd08_11eb_8d12_0242ac1c0002row10_col0\" class=\"data row10 col0\" >Odisha</td>\n",
              "                        <td id=\"T_1972a2d2_cd08_11eb_8d12_0242ac1c0002row10_col1\" class=\"data row10 col1\" >3</td>\n",
              "                        <td id=\"T_1972a2d2_cd08_11eb_8d12_0242ac1c0002row10_col2\" class=\"data row10 col2\" >0</td>\n",
              "                        <td id=\"T_1972a2d2_cd08_11eb_8d12_0242ac1c0002row10_col3\" class=\"data row10 col3\" >0</td>\n",
              "                        <td id=\"T_1972a2d2_cd08_11eb_8d12_0242ac1c0002row10_col4\" class=\"data row10 col4\" >0</td>\n",
              "                        <td id=\"T_1972a2d2_cd08_11eb_8d12_0242ac1c0002row10_col5\" class=\"data row10 col5\" >3</td>\n",
              "                        <td id=\"T_1972a2d2_cd08_11eb_8d12_0242ac1c0002row10_col6\" class=\"data row10 col6\" >3</td>\n",
              "            </tr>\n",
              "            <tr>\n",
              "                        <th id=\"T_1972a2d2_cd08_11eb_8d12_0242ac1c0002level0_row11\" class=\"row_heading level0 row11\" >11</th>\n",
              "                        <td id=\"T_1972a2d2_cd08_11eb_8d12_0242ac1c0002row11_col0\" class=\"data row11 col0\" >Puducherry</td>\n",
              "                        <td id=\"T_1972a2d2_cd08_11eb_8d12_0242ac1c0002row11_col1\" class=\"data row11 col1\" >1</td>\n",
              "                        <td id=\"T_1972a2d2_cd08_11eb_8d12_0242ac1c0002row11_col2\" class=\"data row11 col2\" >0</td>\n",
              "                        <td id=\"T_1972a2d2_cd08_11eb_8d12_0242ac1c0002row11_col3\" class=\"data row11 col3\" >0</td>\n",
              "                        <td id=\"T_1972a2d2_cd08_11eb_8d12_0242ac1c0002row11_col4\" class=\"data row11 col4\" >0</td>\n",
              "                        <td id=\"T_1972a2d2_cd08_11eb_8d12_0242ac1c0002row11_col5\" class=\"data row11 col5\" >1</td>\n",
              "                        <td id=\"T_1972a2d2_cd08_11eb_8d12_0242ac1c0002row11_col6\" class=\"data row11 col6\" >1</td>\n",
              "            </tr>\n",
              "            <tr>\n",
              "                        <th id=\"T_1972a2d2_cd08_11eb_8d12_0242ac1c0002level0_row12\" class=\"row_heading level0 row12\" >12</th>\n",
              "                        <td id=\"T_1972a2d2_cd08_11eb_8d12_0242ac1c0002row12_col0\" class=\"data row12 col0\" >Punjab</td>\n",
              "                        <td id=\"T_1972a2d2_cd08_11eb_8d12_0242ac1c0002row12_col1\" class=\"data row12 col1\" >29</td>\n",
              "                        <td id=\"T_1972a2d2_cd08_11eb_8d12_0242ac1c0002row12_col2\" class=\"data row12 col2\" >0</td>\n",
              "                        <td id=\"T_1972a2d2_cd08_11eb_8d12_0242ac1c0002row12_col3\" class=\"data row12 col3\" >0</td>\n",
              "                        <td id=\"T_1972a2d2_cd08_11eb_8d12_0242ac1c0002row12_col4\" class=\"data row12 col4\" >1</td>\n",
              "                        <td id=\"T_1972a2d2_cd08_11eb_8d12_0242ac1c0002row12_col5\" class=\"data row12 col5\" >29</td>\n",
              "                        <td id=\"T_1972a2d2_cd08_11eb_8d12_0242ac1c0002row12_col6\" class=\"data row12 col6\" >28</td>\n",
              "            </tr>\n",
              "            <tr>\n",
              "                        <th id=\"T_1972a2d2_cd08_11eb_8d12_0242ac1c0002level0_row13\" class=\"row_heading level0 row13\" >13</th>\n",
              "                        <td id=\"T_1972a2d2_cd08_11eb_8d12_0242ac1c0002row13_col0\" class=\"data row13 col0\" >Rajasthan</td>\n",
              "                        <td id=\"T_1972a2d2_cd08_11eb_8d12_0242ac1c0002row13_col1\" class=\"data row13 col1\" >41</td>\n",
              "                        <td id=\"T_1972a2d2_cd08_11eb_8d12_0242ac1c0002row13_col2\" class=\"data row13 col2\" >2</td>\n",
              "                        <td id=\"T_1972a2d2_cd08_11eb_8d12_0242ac1c0002row13_col3\" class=\"data row13 col3\" >3</td>\n",
              "                        <td id=\"T_1972a2d2_cd08_11eb_8d12_0242ac1c0002row13_col4\" class=\"data row13 col4\" >0</td>\n",
              "                        <td id=\"T_1972a2d2_cd08_11eb_8d12_0242ac1c0002row13_col5\" class=\"data row13 col5\" >43</td>\n",
              "                        <td id=\"T_1972a2d2_cd08_11eb_8d12_0242ac1c0002row13_col6\" class=\"data row13 col6\" >40</td>\n",
              "            </tr>\n",
              "            <tr>\n",
              "                        <th id=\"T_1972a2d2_cd08_11eb_8d12_0242ac1c0002level0_row14\" class=\"row_heading level0 row14\" >14</th>\n",
              "                        <td id=\"T_1972a2d2_cd08_11eb_8d12_0242ac1c0002row14_col0\" class=\"data row14 col0\" >Tamil Nadu</td>\n",
              "                        <td id=\"T_1972a2d2_cd08_11eb_8d12_0242ac1c0002row14_col1\" class=\"data row14 col1\" >32</td>\n",
              "                        <td id=\"T_1972a2d2_cd08_11eb_8d12_0242ac1c0002row14_col2\" class=\"data row14 col2\" >3</td>\n",
              "                        <td id=\"T_1972a2d2_cd08_11eb_8d12_0242ac1c0002row14_col3\" class=\"data row14 col3\" >1</td>\n",
              "                        <td id=\"T_1972a2d2_cd08_11eb_8d12_0242ac1c0002row14_col4\" class=\"data row14 col4\" >1</td>\n",
              "                        <td id=\"T_1972a2d2_cd08_11eb_8d12_0242ac1c0002row14_col5\" class=\"data row14 col5\" >35</td>\n",
              "                        <td id=\"T_1972a2d2_cd08_11eb_8d12_0242ac1c0002row14_col6\" class=\"data row14 col6\" >33</td>\n",
              "            </tr>\n",
              "            <tr>\n",
              "                        <th id=\"T_1972a2d2_cd08_11eb_8d12_0242ac1c0002level0_row15\" class=\"row_heading level0 row15\" >15</th>\n",
              "                        <td id=\"T_1972a2d2_cd08_11eb_8d12_0242ac1c0002row15_col0\" class=\"data row15 col0\" >Telengana</td>\n",
              "                        <td id=\"T_1972a2d2_cd08_11eb_8d12_0242ac1c0002row15_col1\" class=\"data row15 col1\" >34</td>\n",
              "                        <td id=\"T_1972a2d2_cd08_11eb_8d12_0242ac1c0002row15_col2\" class=\"data row15 col2\" >11</td>\n",
              "                        <td id=\"T_1972a2d2_cd08_11eb_8d12_0242ac1c0002row15_col3\" class=\"data row15 col3\" >1</td>\n",
              "                        <td id=\"T_1972a2d2_cd08_11eb_8d12_0242ac1c0002row15_col4\" class=\"data row15 col4\" >0</td>\n",
              "                        <td id=\"T_1972a2d2_cd08_11eb_8d12_0242ac1c0002row15_col5\" class=\"data row15 col5\" >45</td>\n",
              "                        <td id=\"T_1972a2d2_cd08_11eb_8d12_0242ac1c0002row15_col6\" class=\"data row15 col6\" >44</td>\n",
              "            </tr>\n",
              "            <tr>\n",
              "                        <th id=\"T_1972a2d2_cd08_11eb_8d12_0242ac1c0002level0_row16\" class=\"row_heading level0 row16\" >16</th>\n",
              "                        <td id=\"T_1972a2d2_cd08_11eb_8d12_0242ac1c0002row16_col0\" class=\"data row16 col0\" >Chandigarh</td>\n",
              "                        <td id=\"T_1972a2d2_cd08_11eb_8d12_0242ac1c0002row16_col1\" class=\"data row16 col1\" >7</td>\n",
              "                        <td id=\"T_1972a2d2_cd08_11eb_8d12_0242ac1c0002row16_col2\" class=\"data row16 col2\" >0</td>\n",
              "                        <td id=\"T_1972a2d2_cd08_11eb_8d12_0242ac1c0002row16_col3\" class=\"data row16 col3\" >0</td>\n",
              "                        <td id=\"T_1972a2d2_cd08_11eb_8d12_0242ac1c0002row16_col4\" class=\"data row16 col4\" >0</td>\n",
              "                        <td id=\"T_1972a2d2_cd08_11eb_8d12_0242ac1c0002row16_col5\" class=\"data row16 col5\" >7</td>\n",
              "                        <td id=\"T_1972a2d2_cd08_11eb_8d12_0242ac1c0002row16_col6\" class=\"data row16 col6\" >7</td>\n",
              "            </tr>\n",
              "            <tr>\n",
              "                        <th id=\"T_1972a2d2_cd08_11eb_8d12_0242ac1c0002level0_row17\" class=\"row_heading level0 row17\" >17</th>\n",
              "                        <td id=\"T_1972a2d2_cd08_11eb_8d12_0242ac1c0002row17_col0\" class=\"data row17 col0\" >Jammu and Kashmir</td>\n",
              "                        <td id=\"T_1972a2d2_cd08_11eb_8d12_0242ac1c0002row17_col1\" class=\"data row17 col1\" >18</td>\n",
              "                        <td id=\"T_1972a2d2_cd08_11eb_8d12_0242ac1c0002row17_col2\" class=\"data row17 col2\" >0</td>\n",
              "                        <td id=\"T_1972a2d2_cd08_11eb_8d12_0242ac1c0002row17_col3\" class=\"data row17 col3\" >1</td>\n",
              "                        <td id=\"T_1972a2d2_cd08_11eb_8d12_0242ac1c0002row17_col4\" class=\"data row17 col4\" >1</td>\n",
              "                        <td id=\"T_1972a2d2_cd08_11eb_8d12_0242ac1c0002row17_col5\" class=\"data row17 col5\" >18</td>\n",
              "                        <td id=\"T_1972a2d2_cd08_11eb_8d12_0242ac1c0002row17_col6\" class=\"data row17 col6\" >16</td>\n",
              "            </tr>\n",
              "            <tr>\n",
              "                        <th id=\"T_1972a2d2_cd08_11eb_8d12_0242ac1c0002level0_row18\" class=\"row_heading level0 row18\" >18</th>\n",
              "                        <td id=\"T_1972a2d2_cd08_11eb_8d12_0242ac1c0002row18_col0\" class=\"data row18 col0\" >Ladakh</td>\n",
              "                        <td id=\"T_1972a2d2_cd08_11eb_8d12_0242ac1c0002row18_col1\" class=\"data row18 col1\" >13</td>\n",
              "                        <td id=\"T_1972a2d2_cd08_11eb_8d12_0242ac1c0002row18_col2\" class=\"data row18 col2\" >0</td>\n",
              "                        <td id=\"T_1972a2d2_cd08_11eb_8d12_0242ac1c0002row18_col3\" class=\"data row18 col3\" >0</td>\n",
              "                        <td id=\"T_1972a2d2_cd08_11eb_8d12_0242ac1c0002row18_col4\" class=\"data row18 col4\" >0</td>\n",
              "                        <td id=\"T_1972a2d2_cd08_11eb_8d12_0242ac1c0002row18_col5\" class=\"data row18 col5\" >13</td>\n",
              "                        <td id=\"T_1972a2d2_cd08_11eb_8d12_0242ac1c0002row18_col6\" class=\"data row18 col6\" >13</td>\n",
              "            </tr>\n",
              "            <tr>\n",
              "                        <th id=\"T_1972a2d2_cd08_11eb_8d12_0242ac1c0002level0_row19\" class=\"row_heading level0 row19\" >19</th>\n",
              "                        <td id=\"T_1972a2d2_cd08_11eb_8d12_0242ac1c0002row19_col0\" class=\"data row19 col0\" >Uttar Pradesh</td>\n",
              "                        <td id=\"T_1972a2d2_cd08_11eb_8d12_0242ac1c0002row19_col1\" class=\"data row19 col1\" >42</td>\n",
              "                        <td id=\"T_1972a2d2_cd08_11eb_8d12_0242ac1c0002row19_col2\" class=\"data row19 col2\" >1</td>\n",
              "                        <td id=\"T_1972a2d2_cd08_11eb_8d12_0242ac1c0002row19_col3\" class=\"data row19 col3\" >11</td>\n",
              "                        <td id=\"T_1972a2d2_cd08_11eb_8d12_0242ac1c0002row19_col4\" class=\"data row19 col4\" >0</td>\n",
              "                        <td id=\"T_1972a2d2_cd08_11eb_8d12_0242ac1c0002row19_col5\" class=\"data row19 col5\" >43</td>\n",
              "                        <td id=\"T_1972a2d2_cd08_11eb_8d12_0242ac1c0002row19_col6\" class=\"data row19 col6\" >32</td>\n",
              "            </tr>\n",
              "            <tr>\n",
              "                        <th id=\"T_1972a2d2_cd08_11eb_8d12_0242ac1c0002level0_row20\" class=\"row_heading level0 row20\" >20</th>\n",
              "                        <td id=\"T_1972a2d2_cd08_11eb_8d12_0242ac1c0002row20_col0\" class=\"data row20 col0\" >Uttarakhand</td>\n",
              "                        <td id=\"T_1972a2d2_cd08_11eb_8d12_0242ac1c0002row20_col1\" class=\"data row20 col1\" >4</td>\n",
              "                        <td id=\"T_1972a2d2_cd08_11eb_8d12_0242ac1c0002row20_col2\" class=\"data row20 col2\" >0</td>\n",
              "                        <td id=\"T_1972a2d2_cd08_11eb_8d12_0242ac1c0002row20_col3\" class=\"data row20 col3\" >0</td>\n",
              "                        <td id=\"T_1972a2d2_cd08_11eb_8d12_0242ac1c0002row20_col4\" class=\"data row20 col4\" >0</td>\n",
              "                        <td id=\"T_1972a2d2_cd08_11eb_8d12_0242ac1c0002row20_col5\" class=\"data row20 col5\" >4</td>\n",
              "                        <td id=\"T_1972a2d2_cd08_11eb_8d12_0242ac1c0002row20_col6\" class=\"data row20 col6\" >4</td>\n",
              "            </tr>\n",
              "            <tr>\n",
              "                        <th id=\"T_1972a2d2_cd08_11eb_8d12_0242ac1c0002level0_row21\" class=\"row_heading level0 row21\" >21</th>\n",
              "                        <td id=\"T_1972a2d2_cd08_11eb_8d12_0242ac1c0002row21_col0\" class=\"data row21 col0\" >West Bengal</td>\n",
              "                        <td id=\"T_1972a2d2_cd08_11eb_8d12_0242ac1c0002row21_col1\" class=\"data row21 col1\" >11</td>\n",
              "                        <td id=\"T_1972a2d2_cd08_11eb_8d12_0242ac1c0002row21_col2\" class=\"data row21 col2\" >0</td>\n",
              "                        <td id=\"T_1972a2d2_cd08_11eb_8d12_0242ac1c0002row21_col3\" class=\"data row21 col3\" >0</td>\n",
              "                        <td id=\"T_1972a2d2_cd08_11eb_8d12_0242ac1c0002row21_col4\" class=\"data row21 col4\" >1</td>\n",
              "                        <td id=\"T_1972a2d2_cd08_11eb_8d12_0242ac1c0002row21_col5\" class=\"data row21 col5\" >11</td>\n",
              "                        <td id=\"T_1972a2d2_cd08_11eb_8d12_0242ac1c0002row21_col6\" class=\"data row21 col6\" >10</td>\n",
              "            </tr>\n",
              "            <tr>\n",
              "                        <th id=\"T_1972a2d2_cd08_11eb_8d12_0242ac1c0002level0_row22\" class=\"row_heading level0 row22\" >22</th>\n",
              "                        <td id=\"T_1972a2d2_cd08_11eb_8d12_0242ac1c0002row22_col0\" class=\"data row22 col0\" >Bihar</td>\n",
              "                        <td id=\"T_1972a2d2_cd08_11eb_8d12_0242ac1c0002row22_col1\" class=\"data row22 col1\" >7</td>\n",
              "                        <td id=\"T_1972a2d2_cd08_11eb_8d12_0242ac1c0002row22_col2\" class=\"data row22 col2\" >0</td>\n",
              "                        <td id=\"T_1972a2d2_cd08_11eb_8d12_0242ac1c0002row22_col3\" class=\"data row22 col3\" >0</td>\n",
              "                        <td id=\"T_1972a2d2_cd08_11eb_8d12_0242ac1c0002row22_col4\" class=\"data row22 col4\" >1</td>\n",
              "                        <td id=\"T_1972a2d2_cd08_11eb_8d12_0242ac1c0002row22_col5\" class=\"data row22 col5\" >7</td>\n",
              "                        <td id=\"T_1972a2d2_cd08_11eb_8d12_0242ac1c0002row22_col6\" class=\"data row22 col6\" >6</td>\n",
              "            </tr>\n",
              "            <tr>\n",
              "                        <th id=\"T_1972a2d2_cd08_11eb_8d12_0242ac1c0002level0_row23\" class=\"row_heading level0 row23\" >23</th>\n",
              "                        <td id=\"T_1972a2d2_cd08_11eb_8d12_0242ac1c0002row23_col0\" class=\"data row23 col0\" >Mizoram</td>\n",
              "                        <td id=\"T_1972a2d2_cd08_11eb_8d12_0242ac1c0002row23_col1\" class=\"data row23 col1\" >1</td>\n",
              "                        <td id=\"T_1972a2d2_cd08_11eb_8d12_0242ac1c0002row23_col2\" class=\"data row23 col2\" >0</td>\n",
              "                        <td id=\"T_1972a2d2_cd08_11eb_8d12_0242ac1c0002row23_col3\" class=\"data row23 col3\" >0</td>\n",
              "                        <td id=\"T_1972a2d2_cd08_11eb_8d12_0242ac1c0002row23_col4\" class=\"data row23 col4\" >0</td>\n",
              "                        <td id=\"T_1972a2d2_cd08_11eb_8d12_0242ac1c0002row23_col5\" class=\"data row23 col5\" >1</td>\n",
              "                        <td id=\"T_1972a2d2_cd08_11eb_8d12_0242ac1c0002row23_col6\" class=\"data row23 col6\" >1</td>\n",
              "            </tr>\n",
              "            <tr>\n",
              "                        <th id=\"T_1972a2d2_cd08_11eb_8d12_0242ac1c0002level0_row24\" class=\"row_heading level0 row24\" >24</th>\n",
              "                        <td id=\"T_1972a2d2_cd08_11eb_8d12_0242ac1c0002row24_col0\" class=\"data row24 col0\" >Goa</td>\n",
              "                        <td id=\"T_1972a2d2_cd08_11eb_8d12_0242ac1c0002row24_col1\" class=\"data row24 col1\" >6</td>\n",
              "                        <td id=\"T_1972a2d2_cd08_11eb_8d12_0242ac1c0002row24_col2\" class=\"data row24 col2\" >0</td>\n",
              "                        <td id=\"T_1972a2d2_cd08_11eb_8d12_0242ac1c0002row24_col3\" class=\"data row24 col3\" >0</td>\n",
              "                        <td id=\"T_1972a2d2_cd08_11eb_8d12_0242ac1c0002row24_col4\" class=\"data row24 col4\" >0</td>\n",
              "                        <td id=\"T_1972a2d2_cd08_11eb_8d12_0242ac1c0002row24_col5\" class=\"data row24 col5\" >6</td>\n",
              "                        <td id=\"T_1972a2d2_cd08_11eb_8d12_0242ac1c0002row24_col6\" class=\"data row24 col6\" >6</td>\n",
              "            </tr>\n",
              "            <tr>\n",
              "                        <th id=\"T_1972a2d2_cd08_11eb_8d12_0242ac1c0002level0_row25\" class=\"row_heading level0 row25\" >25</th>\n",
              "                        <td id=\"T_1972a2d2_cd08_11eb_8d12_0242ac1c0002row25_col0\" class=\"data row25 col0\" >Manipur</td>\n",
              "                        <td id=\"T_1972a2d2_cd08_11eb_8d12_0242ac1c0002row25_col1\" class=\"data row25 col1\" >1</td>\n",
              "                        <td id=\"T_1972a2d2_cd08_11eb_8d12_0242ac1c0002row25_col2\" class=\"data row25 col2\" >0</td>\n",
              "                        <td id=\"T_1972a2d2_cd08_11eb_8d12_0242ac1c0002row25_col3\" class=\"data row25 col3\" >0</td>\n",
              "                        <td id=\"T_1972a2d2_cd08_11eb_8d12_0242ac1c0002row25_col4\" class=\"data row25 col4\" >0</td>\n",
              "                        <td id=\"T_1972a2d2_cd08_11eb_8d12_0242ac1c0002row25_col5\" class=\"data row25 col5\" >1</td>\n",
              "                        <td id=\"T_1972a2d2_cd08_11eb_8d12_0242ac1c0002row25_col6\" class=\"data row25 col6\" >1</td>\n",
              "            </tr>\n",
              "    </tbody></table>"
            ],
            "text/plain": [
              "<pandas.io.formats.style.Styler at 0x7f5815cb7e50>"
            ]
          },
          "metadata": {
            "tags": []
          },
          "execution_count": 67
        }
      ]
    },
    {
      "cell_type": "code",
      "metadata": {
        "id": "qlVjULtLv2R2"
      },
      "source": [
        "Total_Active_Cases=df.groupby('Name of State / UT')['Total Cases'].sum().sort_values(ascending=False).to_frame()"
      ],
      "execution_count": null,
      "outputs": []
    },
    {
      "cell_type": "code",
      "metadata": {
        "colab": {
          "base_uri": "https://localhost:8080/",
          "height": 881
        },
        "id": "8fvIw2XMv9Ez",
        "outputId": "11ec03cf-fe2a-43f0-c276-fa4c3595fca6"
      },
      "source": [
        "Total_Active_Cases"
      ],
      "execution_count": null,
      "outputs": [
        {
          "output_type": "execute_result",
          "data": {
            "text/html": [
              "<div>\n",
              "<style scoped>\n",
              "    .dataframe tbody tr th:only-of-type {\n",
              "        vertical-align: middle;\n",
              "    }\n",
              "\n",
              "    .dataframe tbody tr th {\n",
              "        vertical-align: top;\n",
              "    }\n",
              "\n",
              "    .dataframe thead th {\n",
              "        text-align: right;\n",
              "    }\n",
              "</style>\n",
              "<table border=\"1\" class=\"dataframe\">\n",
              "  <thead>\n",
              "    <tr style=\"text-align: right;\">\n",
              "      <th></th>\n",
              "      <th>Total Cases</th>\n",
              "    </tr>\n",
              "    <tr>\n",
              "      <th>Name of State / UT</th>\n",
              "      <th></th>\n",
              "    </tr>\n",
              "  </thead>\n",
              "  <tbody>\n",
              "    <tr>\n",
              "      <th>Maharashtra</th>\n",
              "      <td>147</td>\n",
              "    </tr>\n",
              "    <tr>\n",
              "      <th>Kerala</th>\n",
              "      <td>138</td>\n",
              "    </tr>\n",
              "    <tr>\n",
              "      <th>Telengana</th>\n",
              "      <td>45</td>\n",
              "    </tr>\n",
              "    <tr>\n",
              "      <th>Uttar Pradesh</th>\n",
              "      <td>43</td>\n",
              "    </tr>\n",
              "    <tr>\n",
              "      <th>Rajasthan</th>\n",
              "      <td>43</td>\n",
              "    </tr>\n",
              "    <tr>\n",
              "      <th>Gujarat</th>\n",
              "      <td>43</td>\n",
              "    </tr>\n",
              "    <tr>\n",
              "      <th>Delhi</th>\n",
              "      <td>39</td>\n",
              "    </tr>\n",
              "    <tr>\n",
              "      <th>Tamil Nadu</th>\n",
              "      <td>35</td>\n",
              "    </tr>\n",
              "    <tr>\n",
              "      <th>Haryana</th>\n",
              "      <td>30</td>\n",
              "    </tr>\n",
              "    <tr>\n",
              "      <th>Punjab</th>\n",
              "      <td>29</td>\n",
              "    </tr>\n",
              "    <tr>\n",
              "      <th>Madhya Pradesh</th>\n",
              "      <td>23</td>\n",
              "    </tr>\n",
              "    <tr>\n",
              "      <th>Karnataka</th>\n",
              "      <td>20</td>\n",
              "    </tr>\n",
              "    <tr>\n",
              "      <th>Jammu and Kashmir</th>\n",
              "      <td>18</td>\n",
              "    </tr>\n",
              "    <tr>\n",
              "      <th>Ladakh</th>\n",
              "      <td>13</td>\n",
              "    </tr>\n",
              "    <tr>\n",
              "      <th>Andhra Pradesh</th>\n",
              "      <td>12</td>\n",
              "    </tr>\n",
              "    <tr>\n",
              "      <th>West Bengal</th>\n",
              "      <td>11</td>\n",
              "    </tr>\n",
              "    <tr>\n",
              "      <th>Chandigarh</th>\n",
              "      <td>7</td>\n",
              "    </tr>\n",
              "    <tr>\n",
              "      <th>Bihar</th>\n",
              "      <td>7</td>\n",
              "    </tr>\n",
              "    <tr>\n",
              "      <th>Goa</th>\n",
              "      <td>6</td>\n",
              "    </tr>\n",
              "    <tr>\n",
              "      <th>Chhattisgarh</th>\n",
              "      <td>6</td>\n",
              "    </tr>\n",
              "    <tr>\n",
              "      <th>Uttarakhand</th>\n",
              "      <td>4</td>\n",
              "    </tr>\n",
              "    <tr>\n",
              "      <th>Himachal Pradesh</th>\n",
              "      <td>4</td>\n",
              "    </tr>\n",
              "    <tr>\n",
              "      <th>Odisha</th>\n",
              "      <td>3</td>\n",
              "    </tr>\n",
              "    <tr>\n",
              "      <th>Manipur</th>\n",
              "      <td>1</td>\n",
              "    </tr>\n",
              "    <tr>\n",
              "      <th>Mizoram</th>\n",
              "      <td>1</td>\n",
              "    </tr>\n",
              "    <tr>\n",
              "      <th>Puducherry</th>\n",
              "      <td>1</td>\n",
              "    </tr>\n",
              "  </tbody>\n",
              "</table>\n",
              "</div>"
            ],
            "text/plain": [
              "                    Total Cases\n",
              "Name of State / UT             \n",
              "Maharashtra                 147\n",
              "Kerala                      138\n",
              "Telengana                    45\n",
              "Uttar Pradesh                43\n",
              "Rajasthan                    43\n",
              "Gujarat                      43\n",
              "Delhi                        39\n",
              "Tamil Nadu                   35\n",
              "Haryana                      30\n",
              "Punjab                       29\n",
              "Madhya Pradesh               23\n",
              "Karnataka                    20\n",
              "Jammu and Kashmir            18\n",
              "Ladakh                       13\n",
              "Andhra Pradesh               12\n",
              "West Bengal                  11\n",
              "Chandigarh                    7\n",
              "Bihar                         7\n",
              "Goa                           6\n",
              "Chhattisgarh                  6\n",
              "Uttarakhand                   4\n",
              "Himachal Pradesh              4\n",
              "Odisha                        3\n",
              "Manipur                       1\n",
              "Mizoram                       1\n",
              "Puducherry                    1"
            ]
          },
          "metadata": {
            "tags": []
          },
          "execution_count": 69
        }
      ]
    },
    {
      "cell_type": "code",
      "metadata": {
        "colab": {
          "base_uri": "https://localhost:8080/",
          "height": 590
        },
        "id": "sqDZQK7zwCuM",
        "outputId": "156021a4-3288-4533-e0c1-7e4c1c0762b1"
      },
      "source": [
        "Total_Active_Cases.style.background_gradient(cmap='Reds')"
      ],
      "execution_count": null,
      "outputs": [
        {
          "output_type": "execute_result",
          "data": {
            "text/html": [
              "<style  type=\"text/css\" >\n",
              "#T_1e140e48_cd08_11eb_8d12_0242ac1c0002row0_col0{\n",
              "            background-color:  #67000d;\n",
              "            color:  #f1f1f1;\n",
              "        }#T_1e140e48_cd08_11eb_8d12_0242ac1c0002row1_col0{\n",
              "            background-color:  #840711;\n",
              "            color:  #f1f1f1;\n",
              "        }#T_1e140e48_cd08_11eb_8d12_0242ac1c0002row2_col0{\n",
              "            background-color:  #fcaa8d;\n",
              "            color:  #000000;\n",
              "        }#T_1e140e48_cd08_11eb_8d12_0242ac1c0002row3_col0,#T_1e140e48_cd08_11eb_8d12_0242ac1c0002row4_col0,#T_1e140e48_cd08_11eb_8d12_0242ac1c0002row5_col0{\n",
              "            background-color:  #fcaf93;\n",
              "            color:  #000000;\n",
              "        }#T_1e140e48_cd08_11eb_8d12_0242ac1c0002row6_col0{\n",
              "            background-color:  #fcb89e;\n",
              "            color:  #000000;\n",
              "        }#T_1e140e48_cd08_11eb_8d12_0242ac1c0002row7_col0{\n",
              "            background-color:  #fcc1a8;\n",
              "            color:  #000000;\n",
              "        }#T_1e140e48_cd08_11eb_8d12_0242ac1c0002row8_col0{\n",
              "            background-color:  #fdcbb6;\n",
              "            color:  #000000;\n",
              "        }#T_1e140e48_cd08_11eb_8d12_0242ac1c0002row9_col0{\n",
              "            background-color:  #fdccb8;\n",
              "            color:  #000000;\n",
              "        }#T_1e140e48_cd08_11eb_8d12_0242ac1c0002row10_col0{\n",
              "            background-color:  #fed9c9;\n",
              "            color:  #000000;\n",
              "        }#T_1e140e48_cd08_11eb_8d12_0242ac1c0002row11_col0{\n",
              "            background-color:  #fedfd0;\n",
              "            color:  #000000;\n",
              "        }#T_1e140e48_cd08_11eb_8d12_0242ac1c0002row12_col0{\n",
              "            background-color:  #fee2d5;\n",
              "            color:  #000000;\n",
              "        }#T_1e140e48_cd08_11eb_8d12_0242ac1c0002row13_col0{\n",
              "            background-color:  #fee7dc;\n",
              "            color:  #000000;\n",
              "        }#T_1e140e48_cd08_11eb_8d12_0242ac1c0002row14_col0{\n",
              "            background-color:  #fee8de;\n",
              "            color:  #000000;\n",
              "        }#T_1e140e48_cd08_11eb_8d12_0242ac1c0002row15_col0{\n",
              "            background-color:  #feeae0;\n",
              "            color:  #000000;\n",
              "        }#T_1e140e48_cd08_11eb_8d12_0242ac1c0002row16_col0,#T_1e140e48_cd08_11eb_8d12_0242ac1c0002row17_col0{\n",
              "            background-color:  #ffeee7;\n",
              "            color:  #000000;\n",
              "        }#T_1e140e48_cd08_11eb_8d12_0242ac1c0002row18_col0,#T_1e140e48_cd08_11eb_8d12_0242ac1c0002row19_col0{\n",
              "            background-color:  #fff0e8;\n",
              "            color:  #000000;\n",
              "        }#T_1e140e48_cd08_11eb_8d12_0242ac1c0002row20_col0,#T_1e140e48_cd08_11eb_8d12_0242ac1c0002row21_col0{\n",
              "            background-color:  #fff2eb;\n",
              "            color:  #000000;\n",
              "        }#T_1e140e48_cd08_11eb_8d12_0242ac1c0002row22_col0{\n",
              "            background-color:  #fff3ed;\n",
              "            color:  #000000;\n",
              "        }#T_1e140e48_cd08_11eb_8d12_0242ac1c0002row23_col0,#T_1e140e48_cd08_11eb_8d12_0242ac1c0002row24_col0,#T_1e140e48_cd08_11eb_8d12_0242ac1c0002row25_col0{\n",
              "            background-color:  #fff5f0;\n",
              "            color:  #000000;\n",
              "        }</style><table id=\"T_1e140e48_cd08_11eb_8d12_0242ac1c0002\" ><thead>    <tr>        <th class=\"blank level0\" ></th>        <th class=\"col_heading level0 col0\" >Total Cases</th>    </tr>    <tr>        <th class=\"index_name level0\" >Name of State / UT</th>        <th class=\"blank\" ></th>    </tr></thead><tbody>\n",
              "                <tr>\n",
              "                        <th id=\"T_1e140e48_cd08_11eb_8d12_0242ac1c0002level0_row0\" class=\"row_heading level0 row0\" >Maharashtra</th>\n",
              "                        <td id=\"T_1e140e48_cd08_11eb_8d12_0242ac1c0002row0_col0\" class=\"data row0 col0\" >147</td>\n",
              "            </tr>\n",
              "            <tr>\n",
              "                        <th id=\"T_1e140e48_cd08_11eb_8d12_0242ac1c0002level0_row1\" class=\"row_heading level0 row1\" >Kerala</th>\n",
              "                        <td id=\"T_1e140e48_cd08_11eb_8d12_0242ac1c0002row1_col0\" class=\"data row1 col0\" >138</td>\n",
              "            </tr>\n",
              "            <tr>\n",
              "                        <th id=\"T_1e140e48_cd08_11eb_8d12_0242ac1c0002level0_row2\" class=\"row_heading level0 row2\" >Telengana</th>\n",
              "                        <td id=\"T_1e140e48_cd08_11eb_8d12_0242ac1c0002row2_col0\" class=\"data row2 col0\" >45</td>\n",
              "            </tr>\n",
              "            <tr>\n",
              "                        <th id=\"T_1e140e48_cd08_11eb_8d12_0242ac1c0002level0_row3\" class=\"row_heading level0 row3\" >Uttar Pradesh</th>\n",
              "                        <td id=\"T_1e140e48_cd08_11eb_8d12_0242ac1c0002row3_col0\" class=\"data row3 col0\" >43</td>\n",
              "            </tr>\n",
              "            <tr>\n",
              "                        <th id=\"T_1e140e48_cd08_11eb_8d12_0242ac1c0002level0_row4\" class=\"row_heading level0 row4\" >Rajasthan</th>\n",
              "                        <td id=\"T_1e140e48_cd08_11eb_8d12_0242ac1c0002row4_col0\" class=\"data row4 col0\" >43</td>\n",
              "            </tr>\n",
              "            <tr>\n",
              "                        <th id=\"T_1e140e48_cd08_11eb_8d12_0242ac1c0002level0_row5\" class=\"row_heading level0 row5\" >Gujarat</th>\n",
              "                        <td id=\"T_1e140e48_cd08_11eb_8d12_0242ac1c0002row5_col0\" class=\"data row5 col0\" >43</td>\n",
              "            </tr>\n",
              "            <tr>\n",
              "                        <th id=\"T_1e140e48_cd08_11eb_8d12_0242ac1c0002level0_row6\" class=\"row_heading level0 row6\" >Delhi</th>\n",
              "                        <td id=\"T_1e140e48_cd08_11eb_8d12_0242ac1c0002row6_col0\" class=\"data row6 col0\" >39</td>\n",
              "            </tr>\n",
              "            <tr>\n",
              "                        <th id=\"T_1e140e48_cd08_11eb_8d12_0242ac1c0002level0_row7\" class=\"row_heading level0 row7\" >Tamil Nadu</th>\n",
              "                        <td id=\"T_1e140e48_cd08_11eb_8d12_0242ac1c0002row7_col0\" class=\"data row7 col0\" >35</td>\n",
              "            </tr>\n",
              "            <tr>\n",
              "                        <th id=\"T_1e140e48_cd08_11eb_8d12_0242ac1c0002level0_row8\" class=\"row_heading level0 row8\" >Haryana</th>\n",
              "                        <td id=\"T_1e140e48_cd08_11eb_8d12_0242ac1c0002row8_col0\" class=\"data row8 col0\" >30</td>\n",
              "            </tr>\n",
              "            <tr>\n",
              "                        <th id=\"T_1e140e48_cd08_11eb_8d12_0242ac1c0002level0_row9\" class=\"row_heading level0 row9\" >Punjab</th>\n",
              "                        <td id=\"T_1e140e48_cd08_11eb_8d12_0242ac1c0002row9_col0\" class=\"data row9 col0\" >29</td>\n",
              "            </tr>\n",
              "            <tr>\n",
              "                        <th id=\"T_1e140e48_cd08_11eb_8d12_0242ac1c0002level0_row10\" class=\"row_heading level0 row10\" >Madhya Pradesh</th>\n",
              "                        <td id=\"T_1e140e48_cd08_11eb_8d12_0242ac1c0002row10_col0\" class=\"data row10 col0\" >23</td>\n",
              "            </tr>\n",
              "            <tr>\n",
              "                        <th id=\"T_1e140e48_cd08_11eb_8d12_0242ac1c0002level0_row11\" class=\"row_heading level0 row11\" >Karnataka</th>\n",
              "                        <td id=\"T_1e140e48_cd08_11eb_8d12_0242ac1c0002row11_col0\" class=\"data row11 col0\" >20</td>\n",
              "            </tr>\n",
              "            <tr>\n",
              "                        <th id=\"T_1e140e48_cd08_11eb_8d12_0242ac1c0002level0_row12\" class=\"row_heading level0 row12\" >Jammu and Kashmir</th>\n",
              "                        <td id=\"T_1e140e48_cd08_11eb_8d12_0242ac1c0002row12_col0\" class=\"data row12 col0\" >18</td>\n",
              "            </tr>\n",
              "            <tr>\n",
              "                        <th id=\"T_1e140e48_cd08_11eb_8d12_0242ac1c0002level0_row13\" class=\"row_heading level0 row13\" >Ladakh</th>\n",
              "                        <td id=\"T_1e140e48_cd08_11eb_8d12_0242ac1c0002row13_col0\" class=\"data row13 col0\" >13</td>\n",
              "            </tr>\n",
              "            <tr>\n",
              "                        <th id=\"T_1e140e48_cd08_11eb_8d12_0242ac1c0002level0_row14\" class=\"row_heading level0 row14\" >Andhra Pradesh</th>\n",
              "                        <td id=\"T_1e140e48_cd08_11eb_8d12_0242ac1c0002row14_col0\" class=\"data row14 col0\" >12</td>\n",
              "            </tr>\n",
              "            <tr>\n",
              "                        <th id=\"T_1e140e48_cd08_11eb_8d12_0242ac1c0002level0_row15\" class=\"row_heading level0 row15\" >West Bengal</th>\n",
              "                        <td id=\"T_1e140e48_cd08_11eb_8d12_0242ac1c0002row15_col0\" class=\"data row15 col0\" >11</td>\n",
              "            </tr>\n",
              "            <tr>\n",
              "                        <th id=\"T_1e140e48_cd08_11eb_8d12_0242ac1c0002level0_row16\" class=\"row_heading level0 row16\" >Chandigarh</th>\n",
              "                        <td id=\"T_1e140e48_cd08_11eb_8d12_0242ac1c0002row16_col0\" class=\"data row16 col0\" >7</td>\n",
              "            </tr>\n",
              "            <tr>\n",
              "                        <th id=\"T_1e140e48_cd08_11eb_8d12_0242ac1c0002level0_row17\" class=\"row_heading level0 row17\" >Bihar</th>\n",
              "                        <td id=\"T_1e140e48_cd08_11eb_8d12_0242ac1c0002row17_col0\" class=\"data row17 col0\" >7</td>\n",
              "            </tr>\n",
              "            <tr>\n",
              "                        <th id=\"T_1e140e48_cd08_11eb_8d12_0242ac1c0002level0_row18\" class=\"row_heading level0 row18\" >Goa</th>\n",
              "                        <td id=\"T_1e140e48_cd08_11eb_8d12_0242ac1c0002row18_col0\" class=\"data row18 col0\" >6</td>\n",
              "            </tr>\n",
              "            <tr>\n",
              "                        <th id=\"T_1e140e48_cd08_11eb_8d12_0242ac1c0002level0_row19\" class=\"row_heading level0 row19\" >Chhattisgarh</th>\n",
              "                        <td id=\"T_1e140e48_cd08_11eb_8d12_0242ac1c0002row19_col0\" class=\"data row19 col0\" >6</td>\n",
              "            </tr>\n",
              "            <tr>\n",
              "                        <th id=\"T_1e140e48_cd08_11eb_8d12_0242ac1c0002level0_row20\" class=\"row_heading level0 row20\" >Uttarakhand</th>\n",
              "                        <td id=\"T_1e140e48_cd08_11eb_8d12_0242ac1c0002row20_col0\" class=\"data row20 col0\" >4</td>\n",
              "            </tr>\n",
              "            <tr>\n",
              "                        <th id=\"T_1e140e48_cd08_11eb_8d12_0242ac1c0002level0_row21\" class=\"row_heading level0 row21\" >Himachal Pradesh</th>\n",
              "                        <td id=\"T_1e140e48_cd08_11eb_8d12_0242ac1c0002row21_col0\" class=\"data row21 col0\" >4</td>\n",
              "            </tr>\n",
              "            <tr>\n",
              "                        <th id=\"T_1e140e48_cd08_11eb_8d12_0242ac1c0002level0_row22\" class=\"row_heading level0 row22\" >Odisha</th>\n",
              "                        <td id=\"T_1e140e48_cd08_11eb_8d12_0242ac1c0002row22_col0\" class=\"data row22 col0\" >3</td>\n",
              "            </tr>\n",
              "            <tr>\n",
              "                        <th id=\"T_1e140e48_cd08_11eb_8d12_0242ac1c0002level0_row23\" class=\"row_heading level0 row23\" >Manipur</th>\n",
              "                        <td id=\"T_1e140e48_cd08_11eb_8d12_0242ac1c0002row23_col0\" class=\"data row23 col0\" >1</td>\n",
              "            </tr>\n",
              "            <tr>\n",
              "                        <th id=\"T_1e140e48_cd08_11eb_8d12_0242ac1c0002level0_row24\" class=\"row_heading level0 row24\" >Mizoram</th>\n",
              "                        <td id=\"T_1e140e48_cd08_11eb_8d12_0242ac1c0002row24_col0\" class=\"data row24 col0\" >1</td>\n",
              "            </tr>\n",
              "            <tr>\n",
              "                        <th id=\"T_1e140e48_cd08_11eb_8d12_0242ac1c0002level0_row25\" class=\"row_heading level0 row25\" >Puducherry</th>\n",
              "                        <td id=\"T_1e140e48_cd08_11eb_8d12_0242ac1c0002row25_col0\" class=\"data row25 col0\" >1</td>\n",
              "            </tr>\n",
              "    </tbody></table>"
            ],
            "text/plain": [
              "<pandas.io.formats.style.Styler at 0x7f5815d5e5d0>"
            ]
          },
          "metadata": {
            "tags": []
          },
          "execution_count": 70
        }
      ]
    },
    {
      "cell_type": "code",
      "metadata": {
        "id": "nKw1WWVXwGBH"
      },
      "source": [
        "# Graphical Represantaion"
      ],
      "execution_count": null,
      "outputs": []
    },
    {
      "cell_type": "code",
      "metadata": {
        "colab": {
          "base_uri": "https://localhost:8080/",
          "height": 895
        },
        "id": "6ApG0dSfwNLT",
        "outputId": "47a961f7-85a4-4798-d568-97b5c3e4f77d"
      },
      "source": [
        "#Pandas vis\n",
        "df.plot(kind='bar',x='Name of State / UT',y='Total Cases')\n",
        "plt.show()\n",
        "#Plotly\n",
        "df.iplot(kind='bar',x='Name of State / UT',y='Total Cases')"
      ],
      "execution_count": null,
      "outputs": [
        {
          "output_type": "display_data",
          "data": {
            "image/png": "[encoded data removed]",
            "text/plain": [
              "<Figure size 432x288 with 1 Axes>"
            ]
          },
          "metadata": {
            "tags": [],
            "needs_background": "light"
          }
        },
        {
          "output_type": "display_data",
          "data": {
            "text/html": [
              "<div>\n",
              "        \n",
              "        \n",
              "            <div id=\"aabb4a65-011c-4beb-bba1-8397eb233fd9\" class=\"plotly-graph-div\" style=\"height:525px; width:100%;\"></div>\n",
              "            <script type=\"text/javascript\">\n",
              "                require([\"plotly\"], function(Plotly) {\n",
              "                    window.PLOTLYENV=window.PLOTLYENV || {};\n",
              "                    window.PLOTLYENV.BASE_URL='https://plot.ly';\n",
              "                    \n",
              "                if (document.getElementById(\"aabb4a65-011c-4beb-bba1-8397eb233fd9\")) {\n",
              "                    Plotly.newPlot(\n",
              "                        'aabb4a65-011c-4beb-bba1-8397eb233fd9',\n",
              "                        [{\"marker\": {\"color\": \"rgba(255, 153, 51, 0.6)\", \"line\": {\"color\": \"rgba(255, 153, 51, 1.0)\", \"width\": 1}}, \"name\": \"Total Cases\", \"orientation\": \"v\", \"text\": \"\", \"type\": \"bar\", \"x\": [\"Andhra Pradesh\", \"Chhattisgarh\", \"Delhi\", \"Gujarat\", \"Haryana\", \"Himachal Pradesh\", \"Karnataka\", \"Kerala\", \"Madhya Pradesh\", \"Maharashtra\", \"Odisha\", \"Puducherry\", \"Punjab\", \"Rajasthan\", \"Tamil Nadu\", \"Telengana\", \"Chandigarh\", \"Jammu and Kashmir\", \"Ladakh\", \"Uttar Pradesh\", \"Uttarakhand\", \"West Bengal\", \"Bihar\", \"Mizoram\", \"Goa\", \"Manipur\"], \"y\": [12, 6, 39, 43, 30, 4, 20, 138, 23, 147, 3, 1, 29, 43, 35, 45, 7, 18, 13, 43, 4, 11, 7, 1, 6, 1]}],\n",
              "                        {\"legend\": {\"bgcolor\": \"#F5F6F9\", \"font\": {\"color\": \"#4D5663\"}}, \"paper_bgcolor\": \"#F5F6F9\", \"plot_bgcolor\": \"#F5F6F9\", \"template\": {\"data\": {\"bar\": [{\"error_x\": {\"color\": \"#2a3f5f\"}, \"error_y\": {\"color\": \"#2a3f5f\"}, \"marker\": {\"line\": {\"color\": \"#E5ECF6\", \"width\": 0.5}}, \"type\": \"bar\"}], \"barpolar\": [{\"marker\": {\"line\": {\"color\": \"#E5ECF6\", \"width\": 0.5}}, \"type\": \"barpolar\"}], \"carpet\": [{\"aaxis\": {\"endlinecolor\": \"#2a3f5f\", \"gridcolor\": \"white\", \"linecolor\": \"white\", \"minorgridcolor\": \"white\", \"startlinecolor\": \"#2a3f5f\"}, \"baxis\": {\"endlinecolor\": \"#2a3f5f\", \"gridcolor\": \"white\", \"linecolor\": \"white\", \"minorgridcolor\": \"white\", \"startlinecolor\": \"#2a3f5f\"}, \"type\": \"carpet\"}], \"choropleth\": [{\"colorbar\": {\"outlinewidth\": 0, \"ticks\": \"\"}, \"type\": \"choropleth\"}], \"contour\": [{\"colorbar\": {\"outlinewidth\": 0, \"ticks\": \"\"}, \"colorscale\": [[0.0, \"#0d0887\"], [0.1111111111111111, \"#46039f\"], [0.2222222222222222, \"#7201a8\"], [0.3333333333333333, \"#9c179e\"], [0.4444444444444444, \"#bd3786\"], [0.5555555555555556, \"#d8576b\"], [0.6666666666666666, \"#ed7953\"], [0.7777777777777778, \"#fb9f3a\"], [0.8888888888888888, \"#fdca26\"], [1.0, \"#f0f921\"]], \"type\": \"contour\"}], \"contourcarpet\": [{\"colorbar\": {\"outlinewidth\": 0, \"ticks\": \"\"}, \"type\": \"contourcarpet\"}], \"heatmap\": [{\"colorbar\": {\"outlinewidth\": 0, \"ticks\": \"\"}, \"colorscale\": [[0.0, \"#0d0887\"], [0.1111111111111111, \"#46039f\"], [0.2222222222222222, \"#7201a8\"], [0.3333333333333333, \"#9c179e\"], [0.4444444444444444, \"#bd3786\"], [0.5555555555555556, \"#d8576b\"], [0.6666666666666666, \"#ed7953\"], [0.7777777777777778, \"#fb9f3a\"], [0.8888888888888888, \"#fdca26\"], [1.0, \"#f0f921\"]], \"type\": \"heatmap\"}], \"heatmapgl\": [{\"colorbar\": {\"outlinewidth\": 0, \"ticks\": \"\"}, \"colorscale\": [[0.0, \"#0d0887\"], [0.1111111111111111, \"#46039f\"], [0.2222222222222222, \"#7201a8\"], [0.3333333333333333, \"#9c179e\"], [0.4444444444444444, \"#bd3786\"], [0.5555555555555556, \"#d8576b\"], [0.6666666666666666, \"#ed7953\"], [0.7777777777777778, \"#fb9f3a\"], [0.8888888888888888, \"#fdca26\"], [1.0, \"#f0f921\"]], \"type\": \"heatmapgl\"}], \"histogram\": [{\"marker\": {\"colorbar\": {\"outlinewidth\": 0, \"ticks\": \"\"}}, \"type\": \"histogram\"}], \"histogram2d\": [{\"colorbar\": {\"outlinewidth\": 0, \"ticks\": \"\"}, \"colorscale\": [[0.0, \"#0d0887\"], [0.1111111111111111, \"#46039f\"], [0.2222222222222222, \"#7201a8\"], [0.3333333333333333, \"#9c179e\"], [0.4444444444444444, \"#bd3786\"], [0.5555555555555556, \"#d8576b\"], [0.6666666666666666, \"#ed7953\"], [0.7777777777777778, \"#fb9f3a\"], [0.8888888888888888, \"#fdca26\"], [1.0, \"#f0f921\"]], \"type\": \"histogram2d\"}], \"histogram2dcontour\": [{\"colorbar\": {\"outlinewidth\": 0, \"ticks\": \"\"}, \"colorscale\": [[0.0, \"#0d0887\"], [0.1111111111111111, \"#46039f\"], [0.2222222222222222, \"#7201a8\"], [0.3333333333333333, \"#9c179e\"], [0.4444444444444444, \"#bd3786\"], [0.5555555555555556, \"#d8576b\"], [0.6666666666666666, \"#ed7953\"], [0.7777777777777778, \"#fb9f3a\"], [0.8888888888888888, \"#fdca26\"], [1.0, \"#f0f921\"]], \"type\": \"histogram2dcontour\"}], \"mesh3d\": [{\"colorbar\": {\"outlinewidth\": 0, \"ticks\": \"\"}, \"type\": \"mesh3d\"}], \"parcoords\": [{\"line\": {\"colorbar\": {\"outlinewidth\": 0, \"ticks\": \"\"}}, \"type\": \"parcoords\"}], \"pie\": [{\"automargin\": true, \"type\": \"pie\"}], \"scatter\": [{\"marker\": {\"colorbar\": {\"outlinewidth\": 0, \"ticks\": \"\"}}, \"type\": \"scatter\"}], \"scatter3d\": [{\"line\": {\"colorbar\": {\"outlinewidth\": 0, \"ticks\": \"\"}}, \"marker\": {\"colorbar\": {\"outlinewidth\": 0, \"ticks\": \"\"}}, \"type\": \"scatter3d\"}], \"scattercarpet\": [{\"marker\": {\"colorbar\": {\"outlinewidth\": 0, \"ticks\": \"\"}}, \"type\": \"scattercarpet\"}], \"scattergeo\": [{\"marker\": {\"colorbar\": {\"outlinewidth\": 0, \"ticks\": \"\"}}, \"type\": \"scattergeo\"}], \"scattergl\": [{\"marker\": {\"colorbar\": {\"outlinewidth\": 0, \"ticks\": \"\"}}, \"type\": \"scattergl\"}], \"scattermapbox\": [{\"marker\": {\"colorbar\": {\"outlinewidth\": 0, \"ticks\": \"\"}}, \"type\": \"scattermapbox\"}], \"scatterpolar\": [{\"marker\": {\"colorbar\": {\"outlinewidth\": 0, \"ticks\": \"\"}}, \"type\": \"scatterpolar\"}], \"scatterpolargl\": [{\"marker\": {\"colorbar\": {\"outlinewidth\": 0, \"ticks\": \"\"}}, \"type\": \"scatterpolargl\"}], \"scatterternary\": [{\"marker\": {\"colorbar\": {\"outlinewidth\": 0, \"ticks\": \"\"}}, \"type\": \"scatterternary\"}], \"surface\": [{\"colorbar\": {\"outlinewidth\": 0, \"ticks\": \"\"}, \"colorscale\": [[0.0, \"#0d0887\"], [0.1111111111111111, \"#46039f\"], [0.2222222222222222, \"#7201a8\"], [0.3333333333333333, \"#9c179e\"], [0.4444444444444444, \"#bd3786\"], [0.5555555555555556, \"#d8576b\"], [0.6666666666666666, \"#ed7953\"], [0.7777777777777778, \"#fb9f3a\"], [0.8888888888888888, \"#fdca26\"], [1.0, \"#f0f921\"]], \"type\": \"surface\"}], \"table\": [{\"cells\": {\"fill\": {\"color\": \"#EBF0F8\"}, \"line\": {\"color\": \"white\"}}, \"header\": {\"fill\": {\"color\": \"#C8D4E3\"}, \"line\": {\"color\": \"white\"}}, \"type\": \"table\"}]}, \"layout\": {\"annotationdefaults\": {\"arrowcolor\": \"#2a3f5f\", \"arrowhead\": 0, \"arrowwidth\": 1}, \"coloraxis\": {\"colorbar\": {\"outlinewidth\": 0, \"ticks\": \"\"}}, \"colorscale\": {\"diverging\": [[0, \"#8e0152\"], [0.1, \"#c51b7d\"], [0.2, \"#de77ae\"], [0.3, \"#f1b6da\"], [0.4, \"#fde0ef\"], [0.5, \"#f7f7f7\"], [0.6, \"#e6f5d0\"], [0.7, \"#b8e186\"], [0.8, \"#7fbc41\"], [0.9, \"#4d9221\"], [1, \"#276419\"]], \"sequential\": [[0.0, \"#0d0887\"], [0.1111111111111111, \"#46039f\"], [0.2222222222222222, \"#7201a8\"], [0.3333333333333333, \"#9c179e\"], [0.4444444444444444, \"#bd3786\"], [0.5555555555555556, \"#d8576b\"], [0.6666666666666666, \"#ed7953\"], [0.7777777777777778, \"#fb9f3a\"], [0.8888888888888888, \"#fdca26\"], [1.0, \"#f0f921\"]], \"sequentialminus\": [[0.0, \"#0d0887\"], [0.1111111111111111, \"#46039f\"], [0.2222222222222222, \"#7201a8\"], [0.3333333333333333, \"#9c179e\"], [0.4444444444444444, \"#bd3786\"], [0.5555555555555556, \"#d8576b\"], [0.6666666666666666, \"#ed7953\"], [0.7777777777777778, \"#fb9f3a\"], [0.8888888888888888, \"#fdca26\"], [1.0, \"#f0f921\"]]}, \"colorway\": [\"#636efa\", \"#EF553B\", \"#00cc96\", \"#ab63fa\", \"#FFA15A\", \"#19d3f3\", \"#FF6692\", \"#B6E880\", \"#FF97FF\", \"#FECB52\"], \"font\": {\"color\": \"#2a3f5f\"}, \"geo\": {\"bgcolor\": \"white\", \"lakecolor\": \"white\", \"landcolor\": \"#E5ECF6\", \"showlakes\": true, \"showland\": true, \"subunitcolor\": \"white\"}, \"hoverlabel\": {\"align\": \"left\"}, \"hovermode\": \"closest\", \"mapbox\": {\"style\": \"light\"}, \"paper_bgcolor\": \"white\", \"plot_bgcolor\": \"#E5ECF6\", \"polar\": {\"angularaxis\": {\"gridcolor\": \"white\", \"linecolor\": \"white\", \"ticks\": \"\"}, \"bgcolor\": \"#E5ECF6\", \"radialaxis\": {\"gridcolor\": \"white\", \"linecolor\": \"white\", \"ticks\": \"\"}}, \"scene\": {\"xaxis\": {\"backgroundcolor\": \"#E5ECF6\", \"gridcolor\": \"white\", \"gridwidth\": 2, \"linecolor\": \"white\", \"showbackground\": true, \"ticks\": \"\", \"zerolinecolor\": \"white\"}, \"yaxis\": {\"backgroundcolor\": \"#E5ECF6\", \"gridcolor\": \"white\", \"gridwidth\": 2, \"linecolor\": \"white\", \"showbackground\": true, \"ticks\": \"\", \"zerolinecolor\": \"white\"}, \"zaxis\": {\"backgroundcolor\": \"#E5ECF6\", \"gridcolor\": \"white\", \"gridwidth\": 2, \"linecolor\": \"white\", \"showbackground\": true, \"ticks\": \"\", \"zerolinecolor\": \"white\"}}, \"shapedefaults\": {\"line\": {\"color\": \"#2a3f5f\"}}, \"ternary\": {\"aaxis\": {\"gridcolor\": \"white\", \"linecolor\": \"white\", \"ticks\": \"\"}, \"baxis\": {\"gridcolor\": \"white\", \"linecolor\": \"white\", \"ticks\": \"\"}, \"bgcolor\": \"#E5ECF6\", \"caxis\": {\"gridcolor\": \"white\", \"linecolor\": \"white\", \"ticks\": \"\"}}, \"title\": {\"x\": 0.05}, \"xaxis\": {\"automargin\": true, \"gridcolor\": \"white\", \"linecolor\": \"white\", \"ticks\": \"\", \"title\": {\"standoff\": 15}, \"zerolinecolor\": \"white\", \"zerolinewidth\": 2}, \"yaxis\": {\"automargin\": true, \"gridcolor\": \"white\", \"linecolor\": \"white\", \"ticks\": \"\", \"title\": {\"standoff\": 15}, \"zerolinecolor\": \"white\", \"zerolinewidth\": 2}}}, \"title\": {\"font\": {\"color\": \"#4D5663\"}}, \"xaxis\": {\"gridcolor\": \"#E1E5ED\", \"showgrid\": true, \"tickfont\": {\"color\": \"#4D5663\"}, \"title\": {\"font\": {\"color\": \"#4D5663\"}, \"text\": \"\"}, \"zerolinecolor\": \"#E1E5ED\"}, \"yaxis\": {\"gridcolor\": \"#E1E5ED\", \"showgrid\": true, \"tickfont\": {\"color\": \"#4D5663\"}, \"title\": {\"font\": {\"color\": \"#4D5663\"}, \"text\": \"\"}, \"zerolinecolor\": \"#E1E5ED\"}},\n",
              "                        {\"showLink\": true, \"linkText\": \"Export to plot.ly\", \"plotlyServerURL\": \"https://plot.ly\", \"responsive\": true}\n",
              "                    ).then(function(){\n",
              "                            \n",
              "var gd = document.getElementById('aabb4a65-011c-4beb-bba1-8397eb233fd9');\n",
              "var x = new MutationObserver(function (mutations, observer) {{\n",
              "        var display = window.getComputedStyle(gd).display;\n",
              "        if (!display || display === 'none') {{\n",
              "            console.log([gd, 'removed!']);\n",
              "            Plotly.purge(gd);\n",
              "            observer.disconnect();\n",
              "        }}\n",
              "}});\n",
              "\n",
              "// Listen for the removal of the full notebook cells\n",
              "var notebookContainer = gd.closest('#notebook-container');\n",
              "if (notebookContainer) {{\n",
              "    x.observe(notebookContainer, {childList: true});\n",
              "}}\n",
              "\n",
              "// Listen for the clearing of the current output cell\n",
              "var outputEl = gd.closest('.output');\n",
              "if (outputEl) {{\n",
              "    x.observe(outputEl, {childList: true});\n",
              "}}\n",
              "\n",
              "                        })\n",
              "                };\n",
              "                });\n",
              "            </script>\n",
              "        </div>"
            ],
            "application/vnd.plotly.v1+json": {
              "data": [
                {
                  "name": "Total Cases",
                  "text": "",
                  "y": [
                    12,
                    6,
                    39,
                    43,
                    30,
                    4,
                    20,
                    138,
                    23,
                    147,
                    3,
                    1,
                    29,
                    43,
                    35,
                    45,
                    7,
                    18,
                    13,
                    43,
                    4,
                    11,
                    7,
                    1,
                    6,
                    1
                  ],
                  "marker": {
                    "color": "rgba(255, 153, 51, 0.6)",
                    "line": {
                      "color": "rgba(255, 153, 51, 1.0)",
                      "width": 1
                    }
                  },
                  "x": [
                    "Andhra Pradesh",
                    "Chhattisgarh",
                    "Delhi",
                    "Gujarat",
                    "Haryana",
                    "Himachal Pradesh",
                    "Karnataka",
                    "Kerala",
                    "Madhya Pradesh",
                    "Maharashtra",
                    "Odisha",
                    "Puducherry",
                    "Punjab",
                    "Rajasthan",
                    "Tamil Nadu",
                    "Telengana",
                    "Chandigarh",
                    "Jammu and Kashmir",
                    "Ladakh",
                    "Uttar Pradesh",
                    "Uttarakhand",
                    "West Bengal",
                    "Bihar",
                    "Mizoram",
                    "Goa",
                    "Manipur"
                  ],
                  "type": "bar",
                  "orientation": "v"
                }
              ],
              "config": {
                "plotlyServerURL": "https://plot.ly",
                "linkText": "Export to plot.ly",
                "showLink": true
              },
              "layout": {
                "template": {
                  "layout": {
                    "shapedefaults": {
                      "line": {
                        "color": "#2a3f5f"
                      }
                    },
                    "polar": {
                      "radialaxis": {
                        "ticks": "",
                        "gridcolor": "white",
                        "linecolor": "white"
                      },
                      "bgcolor": "#E5ECF6",
                      "angularaxis": {
                        "ticks": "",
                        "gridcolor": "white",
                        "linecolor": "white"
                      }
                    },
                    "colorway": [
                      "#636efa",
                      "#EF553B",
                      "#00cc96",
                      "#ab63fa",
                      "#FFA15A",
                      "#19d3f3",
                      "#FF6692",
                      "#B6E880",
                      "#FF97FF",
                      "#FECB52"
                    ],
                    "xaxis": {
                      "automargin": true,
                      "title": {
                        "standoff": 15
                      },
                      "zerolinewidth": 2,
                      "ticks": "",
                      "zerolinecolor": "white",
                      "gridcolor": "white",
                      "linecolor": "white"
                    },
                    "colorscale": {
                      "diverging": [
                        [
                          0,
                          "#8e0152"
                        ],
                        [
                          0.1,
                          "#c51b7d"
                        ],
                        [
                          0.2,
                          "#de77ae"
                        ],
                        [
                          0.3,
                          "#f1b6da"
                        ],
                        [
                          0.4,
                          "#fde0ef"
                        ],
                        [
                          0.5,
                          "#f7f7f7"
                        ],
                        [
                          0.6,
                          "#e6f5d0"
                        ],
                        [
                          0.7,
                          "#b8e186"
                        ],
                        [
                          0.8,
                          "#7fbc41"
                        ],
                        [
                          0.9,
                          "#4d9221"
                        ],
                        [
                          1,
                          "#276419"
                        ]
                      ],
                      "sequential": [
                        [
                          0,
                          "#0d0887"
                        ],
                        [
                          0.1111111111111111,
                          "#46039f"
                        ],
                        [
                          0.2222222222222222,
                          "#7201a8"
                        ],
                        [
                          0.3333333333333333,
                          "#9c179e"
                        ],
                        [
                          0.4444444444444444,
                          "#bd3786"
                        ],
                        [
                          0.5555555555555556,
                          "#d8576b"
                        ],
                        [
                          0.6666666666666666,
                          "#ed7953"
                        ],
                        [
                          0.7777777777777778,
                          "#fb9f3a"
                        ],
                        [
                          0.8888888888888888,
                          "#fdca26"
                        ],
                        [
                          1,
                          "#f0f921"
                        ]
                      ],
                      "sequentialminus": [
                        [
                          0,
                          "#0d0887"
                        ],
                        [
                          0.1111111111111111,
                          "#46039f"
                        ],
                        [
                          0.2222222222222222,
                          "#7201a8"
                        ],
                        [
                          0.3333333333333333,
                          "#9c179e"
                        ],
                        [
                          0.4444444444444444,
                          "#bd3786"
                        ],
                        [
                          0.5555555555555556,
                          "#d8576b"
                        ],
                        [
                          0.6666666666666666,
                          "#ed7953"
                        ],
                        [
                          0.7777777777777778,
                          "#fb9f3a"
                        ],
                        [
                          0.8888888888888888,
                          "#fdca26"
                        ],
                        [
                          1,
                          "#f0f921"
                        ]
                      ]
                    },
                    "paper_bgcolor": "white",
                    "plot_bgcolor": "#E5ECF6",
                    "title": {
                      "x": 0.05
                    },
                    "scene": {
                      "zaxis": {
                        "backgroundcolor": "#E5ECF6",
                        "ticks": "",
                        "gridwidth": 2,
                        "showbackground": true,
                        "zerolinecolor": "white",
                        "gridcolor": "white",
                        "linecolor": "white"
                      },
                      "xaxis": {
                        "backgroundcolor": "#E5ECF6",
                        "ticks": "",
                        "gridwidth": 2,
                        "showbackground": true,
                        "zerolinecolor": "white",
                        "gridcolor": "white",
                        "linecolor": "white"
                      },
                      "yaxis": {
                        "backgroundcolor": "#E5ECF6",
                        "ticks": "",
                        "gridwidth": 2,
                        "showbackground": true,
                        "zerolinecolor": "white",
                        "gridcolor": "white",
                        "linecolor": "white"
                      }
                    },
                    "yaxis": {
                      "automargin": true,
                      "title": {
                        "standoff": 15
                      },
                      "zerolinewidth": 2,
                      "ticks": "",
                      "zerolinecolor": "white",
                      "gridcolor": "white",
                      "linecolor": "white"
                    },
                    "annotationdefaults": {
                      "arrowwidth": 1,
                      "arrowhead": 0,
                      "arrowcolor": "#2a3f5f"
                    },
                    "hoverlabel": {
                      "align": "left"
                    },
                    "ternary": {
                      "bgcolor": "#E5ECF6",
                      "baxis": {
                        "ticks": "",
                        "gridcolor": "white",
                        "linecolor": "white"
                      },
                      "caxis": {
                        "ticks": "",
                        "gridcolor": "white",
                        "linecolor": "white"
                      },
                      "aaxis": {
                        "ticks": "",
                        "gridcolor": "white",
                        "linecolor": "white"
                      }
                    },
                    "mapbox": {
                      "style": "light"
                    },
                    "hovermode": "closest",
                    "font": {
                      "color": "#2a3f5f"
                    },
                    "geo": {
                      "showland": true,
                      "landcolor": "#E5ECF6",
                      "showlakes": true,
                      "bgcolor": "white",
                      "subunitcolor": "white",
                      "lakecolor": "white"
                    },
                    "coloraxis": {
                      "colorbar": {
                        "outlinewidth": 0,
                        "ticks": ""
                      }
                    }
                  },
                  "data": {
                    "mesh3d": [
                      {
                        "colorbar": {
                          "outlinewidth": 0,
                          "ticks": ""
                        },
                        "type": "mesh3d"
                      }
                    ],
                    "scattercarpet": [
                      {
                        "marker": {
                          "colorbar": {
                            "outlinewidth": 0,
                            "ticks": ""
                          }
                        },
                        "type": "scattercarpet"
                      }
                    ],
                    "pie": [
                      {
                        "automargin": true,
                        "type": "pie"
                      }
                    ],
                    "surface": [
                      {
                        "colorbar": {
                          "outlinewidth": 0,
                          "ticks": ""
                        },
                        "type": "surface",
                        "colorscale": [
                          [
                            0,
                            "#0d0887"
                          ],
                          [
                            0.1111111111111111,
                            "#46039f"
                          ],
                          [
                            0.2222222222222222,
                            "#7201a8"
                          ],
                          [
                            0.3333333333333333,
                            "#9c179e"
                          ],
                          [
                            0.4444444444444444,
                            "#bd3786"
                          ],
                          [
                            0.5555555555555556,
                            "#d8576b"
                          ],
                          [
                            0.6666666666666666,
                            "#ed7953"
                          ],
                          [
                            0.7777777777777778,
                            "#fb9f3a"
                          ],
                          [
                            0.8888888888888888,
                            "#fdca26"
                          ],
                          [
                            1,
                            "#f0f921"
                          ]
                        ]
                      }
                    ],
                    "table": [
                      {
                        "header": {
                          "line": {
                            "color": "white"
                          },
                          "fill": {
                            "color": "#C8D4E3"
                          }
                        },
                        "cells": {
                          "line": {
                            "color": "white"
                          },
                          "fill": {
                            "color": "#EBF0F8"
                          }
                        },
                        "type": "table"
                      }
                    ],
                    "scatterpolargl": [
                      {
                        "marker": {
                          "colorbar": {
                            "outlinewidth": 0,
                            "ticks": ""
                          }
                        },
                        "type": "scatterpolargl"
                      }
                    ],
                    "contour": [
                      {
                        "colorbar": {
                          "outlinewidth": 0,
                          "ticks": ""
                        },
                        "type": "contour",
                        "colorscale": [
                          [
                            0,
                            "#0d0887"
                          ],
                          [
                            0.1111111111111111,
                            "#46039f"
                          ],
                          [
                            0.2222222222222222,
                            "#7201a8"
                          ],
                          [
                            0.3333333333333333,
                            "#9c179e"
                          ],
                          [
                            0.4444444444444444,
                            "#bd3786"
                          ],
                          [
                            0.5555555555555556,
                            "#d8576b"
                          ],
                          [
                            0.6666666666666666,
                            "#ed7953"
                          ],
                          [
                            0.7777777777777778,
                            "#fb9f3a"
                          ],
                          [
                            0.8888888888888888,
                            "#fdca26"
                          ],
                          [
                            1,
                            "#f0f921"
                          ]
                        ]
                      }
                    ],
                    "carpet": [
                      {
                        "type": "carpet",
                        "baxis": {
                          "minorgridcolor": "white",
                          "gridcolor": "white",
                          "linecolor": "white",
                          "endlinecolor": "#2a3f5f",
                          "startlinecolor": "#2a3f5f"
                        },
                        "aaxis": {
                          "minorgridcolor": "white",
                          "gridcolor": "white",
                          "linecolor": "white",
                          "endlinecolor": "#2a3f5f",
                          "startlinecolor": "#2a3f5f"
                        }
                      }
                    ],
                    "contourcarpet": [
                      {
                        "colorbar": {
                          "outlinewidth": 0,
                          "ticks": ""
                        },
                        "type": "contourcarpet"
                      }
                    ],
                    "heatmap": [
                      {
                        "colorbar": {
                          "outlinewidth": 0,
                          "ticks": ""
                        },
                        "type": "heatmap",
                        "colorscale": [
                          [
                            0,
                            "#0d0887"
                          ],
                          [
                            0.1111111111111111,
                            "#46039f"
                          ],
                          [
                            0.2222222222222222,
                            "#7201a8"
                          ],
                          [
                            0.3333333333333333,
                            "#9c179e"
                          ],
                          [
                            0.4444444444444444,
                            "#bd3786"
                          ],
                          [
                            0.5555555555555556,
                            "#d8576b"
                          ],
                          [
                            0.6666666666666666,
                            "#ed7953"
                          ],
                          [
                            0.7777777777777778,
                            "#fb9f3a"
                          ],
                          [
                            0.8888888888888888,
                            "#fdca26"
                          ],
                          [
                            1,
                            "#f0f921"
                          ]
                        ]
                      }
                    ],
                    "scattermapbox": [
                      {
                        "marker": {
                          "colorbar": {
                            "outlinewidth": 0,
                            "ticks": ""
                          }
                        },
                        "type": "scattermapbox"
                      }
                    ],
                    "scatter3d": [
                      {
                        "marker": {
                          "colorbar": {
                            "outlinewidth": 0,
                            "ticks": ""
                          }
                        },
                        "line": {
                          "colorbar": {
                            "outlinewidth": 0,
                            "ticks": ""
                          }
                        },
                        "type": "scatter3d"
                      }
                    ],
                    "scattergl": [
                      {
                        "marker": {
                          "colorbar": {
                            "outlinewidth": 0,
                            "ticks": ""
                          }
                        },
                        "type": "scattergl"
                      }
                    ],
                    "scatterternary": [
                      {
                        "marker": {
                          "colorbar": {
                            "outlinewidth": 0,
                            "ticks": ""
                          }
                        },
                        "type": "scatterternary"
                      }
                    ],
                    "histogram": [
                      {
                        "marker": {
                          "colorbar": {
                            "outlinewidth": 0,
                            "ticks": ""
                          }
                        },
                        "type": "histogram"
                      }
                    ],
                    "heatmapgl": [
                      {
                        "colorbar": {
                          "outlinewidth": 0,
                          "ticks": ""
                        },
                        "type": "heatmapgl",
                        "colorscale": [
                          [
                            0,
                            "#0d0887"
                          ],
                          [
                            0.1111111111111111,
                            "#46039f"
                          ],
                          [
                            0.2222222222222222,
                            "#7201a8"
                          ],
                          [
                            0.3333333333333333,
                            "#9c179e"
                          ],
                          [
                            0.4444444444444444,
                            "#bd3786"
                          ],
                          [
                            0.5555555555555556,
                            "#d8576b"
                          ],
                          [
                            0.6666666666666666,
                            "#ed7953"
                          ],
                          [
                            0.7777777777777778,
                            "#fb9f3a"
                          ],
                          [
                            0.8888888888888888,
                            "#fdca26"
                          ],
                          [
                            1,
                            "#f0f921"
                          ]
                        ]
                      }
                    ],
                    "scatterpolar": [
                      {
                        "marker": {
                          "colorbar": {
                            "outlinewidth": 0,
                            "ticks": ""
                          }
                        },
                        "type": "scatterpolar"
                      }
                    ],
                    "histogram2d": [
                      {
                        "colorbar": {
                          "outlinewidth": 0,
                          "ticks": ""
                        },
                        "type": "histogram2d",
                        "colorscale": [
                          [
                            0,
                            "#0d0887"
                          ],
                          [
                            0.1111111111111111,
                            "#46039f"
                          ],
                          [
                            0.2222222222222222,
                            "#7201a8"
                          ],
                          [
                            0.3333333333333333,
                            "#9c179e"
                          ],
                          [
                            0.4444444444444444,
                            "#bd3786"
                          ],
                          [
                            0.5555555555555556,
                            "#d8576b"
                          ],
                          [
                            0.6666666666666666,
                            "#ed7953"
                          ],
                          [
                            0.7777777777777778,
                            "#fb9f3a"
                          ],
                          [
                            0.8888888888888888,
                            "#fdca26"
                          ],
                          [
                            1,
                            "#f0f921"
                          ]
                        ]
                      }
                    ],
                    "scattergeo": [
                      {
                        "marker": {
                          "colorbar": {
                            "outlinewidth": 0,
                            "ticks": ""
                          }
                        },
                        "type": "scattergeo"
                      }
                    ],
                    "bar": [
                      {
                        "marker": {
                          "line": {
                            "color": "#E5ECF6",
                            "width": 0.5
                          }
                        },
                        "type": "bar",
                        "error_x": {
                          "color": "#2a3f5f"
                        },
                        "error_y": {
                          "color": "#2a3f5f"
                        }
                      }
                    ],
                    "choropleth": [
                      {
                        "colorbar": {
                          "outlinewidth": 0,
                          "ticks": ""
                        },
                        "type": "choropleth"
                      }
                    ],
                    "parcoords": [
                      {
                        "line": {
                          "colorbar": {
                            "outlinewidth": 0,
                            "ticks": ""
                          }
                        },
                        "type": "parcoords"
                      }
                    ],
                    "barpolar": [
                      {
                        "marker": {
                          "line": {
                            "color": "#E5ECF6",
                            "width": 0.5
                          }
                        },
                        "type": "barpolar"
                      }
                    ],
                    "histogram2dcontour": [
                      {
                        "colorbar": {
                          "outlinewidth": 0,
                          "ticks": ""
                        },
                        "type": "histogram2dcontour",
                        "colorscale": [
                          [
                            0,
                            "#0d0887"
                          ],
                          [
                            0.1111111111111111,
                            "#46039f"
                          ],
                          [
                            0.2222222222222222,
                            "#7201a8"
                          ],
                          [
                            0.3333333333333333,
                            "#9c179e"
                          ],
                          [
                            0.4444444444444444,
                            "#bd3786"
                          ],
                          [
                            0.5555555555555556,
                            "#d8576b"
                          ],
                          [
                            0.6666666666666666,
                            "#ed7953"
                          ],
                          [
                            0.7777777777777778,
                            "#fb9f3a"
                          ],
                          [
                            0.8888888888888888,
                            "#fdca26"
                          ],
                          [
                            1,
                            "#f0f921"
                          ]
                        ]
                      }
                    ],
                    "scatter": [
                      {
                        "marker": {
                          "colorbar": {
                            "outlinewidth": 0,
                            "ticks": ""
                          }
                        },
                        "type": "scatter"
                      }
                    ]
                  }
                },
                "title": {
                  "font": {
                    "color": "#4D5663"
                  }
                },
                "paper_bgcolor": "#F5F6F9",
                "plot_bgcolor": "#F5F6F9",
                "yaxis": {
                  "tickfont": {
                    "color": "#4D5663"
                  },
                  "zerolinecolor": "#E1E5ED",
                  "title": {
                    "text": "",
                    "font": {
                      "color": "#4D5663"
                    }
                  },
                  "gridcolor": "#E1E5ED",
                  "showgrid": true
                },
                "xaxis": {
                  "tickfont": {
                    "color": "#4D5663"
                  },
                  "zerolinecolor": "#E1E5ED",
                  "title": {
                    "text": "",
                    "font": {
                      "color": "#4D5663"
                    }
                  },
                  "gridcolor": "#E1E5ED",
                  "showgrid": true
                },
                "legend": {
                  "bgcolor": "#F5F6F9",
                  "font": {
                    "color": "#4D5663"
                  }
                }
              }
            }
          },
          "metadata": {
            "tags": []
          }
        }
      ]
    },
    {
      "cell_type": "code",
      "metadata": {
        "colab": {
          "base_uri": "https://localhost:8080/",
          "height": 562
        },
        "id": "kTpnjWATwRby",
        "outputId": "8f45f614-9440-4301-869d-ada59fd0c5e1"
      },
      "source": [
        "#Matplotlib vis\n",
        "plt.figure(figsize=(10,5),dpi=100)\n",
        "plt.xticks(rotation=75)\n",
        "plt.bar(df['Name of State / UT'],df['Total Cases'])\n",
        "plt.show()"
      ],
      "execution_count": null,
      "outputs": [
        {
          "output_type": "display_data",
          "data": {
            "image/png": "[encoded data removed]",
            "text/plain": [
              "<Figure size 1000x500 with 1 Axes>"
            ]
          },
          "metadata": {
            "tags": [],
            "needs_background": "light"
          }
        }
      ]
    },
    {
      "cell_type": "code",
      "metadata": {
        "colab": {
          "base_uri": "https://localhost:8080/",
          "height": 542
        },
        "id": "drb61CjHwYyW",
        "outputId": "79a3df51-fcbe-4e84-a8d9-24f3a59b9748"
      },
      "source": [
        "px.bar(df,x='Name of State / UT',y='Total Cases')"
      ],
      "execution_count": null,
      "outputs": [
        {
          "output_type": "display_data",
          "data": {
            "text/html": [
              "<div>\n",
              "        \n",
              "        \n",
              "            <div id=\"d7b0dfb4-0b95-4dce-b423-93fca2b34c8e\" class=\"plotly-graph-div\" style=\"height:525px; width:100%;\"></div>\n",
              "            <script type=\"text/javascript\">\n",
              "                require([\"plotly\"], function(Plotly) {\n",
              "                    window.PLOTLYENV=window.PLOTLYENV || {};\n",
              "                    \n",
              "                if (document.getElementById(\"d7b0dfb4-0b95-4dce-b423-93fca2b34c8e\")) {\n",
              "                    Plotly.newPlot(\n",
              "                        'd7b0dfb4-0b95-4dce-b423-93fca2b34c8e',\n",
              "                        [{\"alignmentgroup\": \"True\", \"hoverlabel\": {\"namelength\": 0}, \"hovertemplate\": \"Name of State / UT=%{x}<br>Total Cases=%{y}\", \"legendgroup\": \"\", \"marker\": {\"color\": \"#636efa\"}, \"name\": \"\", \"offsetgroup\": \"\", \"orientation\": \"v\", \"showlegend\": false, \"textposition\": \"auto\", \"type\": \"bar\", \"x\": [\"Andhra Pradesh\", \"Chhattisgarh\", \"Delhi\", \"Gujarat\", \"Haryana\", \"Himachal Pradesh\", \"Karnataka\", \"Kerala\", \"Madhya Pradesh\", \"Maharashtra\", \"Odisha\", \"Puducherry\", \"Punjab\", \"Rajasthan\", \"Tamil Nadu\", \"Telengana\", \"Chandigarh\", \"Jammu and Kashmir\", \"Ladakh\", \"Uttar Pradesh\", \"Uttarakhand\", \"West Bengal\", \"Bihar\", \"Mizoram\", \"Goa\", \"Manipur\"], \"xaxis\": \"x\", \"y\": [12, 6, 39, 43, 30, 4, 20, 138, 23, 147, 3, 1, 29, 43, 35, 45, 7, 18, 13, 43, 4, 11, 7, 1, 6, 1], \"yaxis\": \"y\"}],\n",
              "                        {\"barmode\": \"relative\", \"legend\": {\"tracegroupgap\": 0}, \"margin\": {\"t\": 60}, \"template\": {\"data\": {\"bar\": [{\"error_x\": {\"color\": \"#2a3f5f\"}, \"error_y\": {\"color\": \"#2a3f5f\"}, \"marker\": {\"line\": {\"color\": \"#E5ECF6\", \"width\": 0.5}}, \"type\": \"bar\"}], \"barpolar\": [{\"marker\": {\"line\": {\"color\": \"#E5ECF6\", \"width\": 0.5}}, \"type\": \"barpolar\"}], \"carpet\": [{\"aaxis\": {\"endlinecolor\": \"#2a3f5f\", \"gridcolor\": \"white\", \"linecolor\": \"white\", \"minorgridcolor\": \"white\", \"startlinecolor\": \"#2a3f5f\"}, \"baxis\": {\"endlinecolor\": \"#2a3f5f\", \"gridcolor\": \"white\", \"linecolor\": \"white\", \"minorgridcolor\": \"white\", \"startlinecolor\": \"#2a3f5f\"}, \"type\": \"carpet\"}], \"choropleth\": [{\"colorbar\": {\"outlinewidth\": 0, \"ticks\": \"\"}, \"type\": \"choropleth\"}], \"contour\": [{\"colorbar\": {\"outlinewidth\": 0, \"ticks\": \"\"}, \"colorscale\": [[0.0, \"#0d0887\"], [0.1111111111111111, \"#46039f\"], [0.2222222222222222, \"#7201a8\"], [0.3333333333333333, \"#9c179e\"], [0.4444444444444444, \"#bd3786\"], [0.5555555555555556, \"#d8576b\"], [0.6666666666666666, \"#ed7953\"], [0.7777777777777778, \"#fb9f3a\"], [0.8888888888888888, \"#fdca26\"], [1.0, \"#f0f921\"]], \"type\": \"contour\"}], \"contourcarpet\": [{\"colorbar\": {\"outlinewidth\": 0, \"ticks\": \"\"}, \"type\": \"contourcarpet\"}], \"heatmap\": [{\"colorbar\": {\"outlinewidth\": 0, \"ticks\": \"\"}, \"colorscale\": [[0.0, \"#0d0887\"], [0.1111111111111111, \"#46039f\"], [0.2222222222222222, \"#7201a8\"], [0.3333333333333333, \"#9c179e\"], [0.4444444444444444, \"#bd3786\"], [0.5555555555555556, \"#d8576b\"], [0.6666666666666666, \"#ed7953\"], [0.7777777777777778, \"#fb9f3a\"], [0.8888888888888888, \"#fdca26\"], [1.0, \"#f0f921\"]], \"type\": \"heatmap\"}], \"heatmapgl\": [{\"colorbar\": {\"outlinewidth\": 0, \"ticks\": \"\"}, \"colorscale\": [[0.0, \"#0d0887\"], [0.1111111111111111, \"#46039f\"], [0.2222222222222222, \"#7201a8\"], [0.3333333333333333, \"#9c179e\"], [0.4444444444444444, \"#bd3786\"], [0.5555555555555556, \"#d8576b\"], [0.6666666666666666, \"#ed7953\"], [0.7777777777777778, \"#fb9f3a\"], [0.8888888888888888, \"#fdca26\"], [1.0, \"#f0f921\"]], \"type\": \"heatmapgl\"}], \"histogram\": [{\"marker\": {\"colorbar\": {\"outlinewidth\": 0, \"ticks\": \"\"}}, \"type\": \"histogram\"}], \"histogram2d\": [{\"colorbar\": {\"outlinewidth\": 0, \"ticks\": \"\"}, \"colorscale\": [[0.0, \"#0d0887\"], [0.1111111111111111, \"#46039f\"], [0.2222222222222222, \"#7201a8\"], [0.3333333333333333, \"#9c179e\"], [0.4444444444444444, \"#bd3786\"], [0.5555555555555556, \"#d8576b\"], [0.6666666666666666, \"#ed7953\"], [0.7777777777777778, \"#fb9f3a\"], [0.8888888888888888, \"#fdca26\"], [1.0, \"#f0f921\"]], \"type\": \"histogram2d\"}], \"histogram2dcontour\": [{\"colorbar\": {\"outlinewidth\": 0, \"ticks\": \"\"}, \"colorscale\": [[0.0, \"#0d0887\"], [0.1111111111111111, \"#46039f\"], [0.2222222222222222, \"#7201a8\"], [0.3333333333333333, \"#9c179e\"], [0.4444444444444444, \"#bd3786\"], [0.5555555555555556, \"#d8576b\"], [0.6666666666666666, \"#ed7953\"], [0.7777777777777778, \"#fb9f3a\"], [0.8888888888888888, \"#fdca26\"], [1.0, \"#f0f921\"]], \"type\": \"histogram2dcontour\"}], \"mesh3d\": [{\"colorbar\": {\"outlinewidth\": 0, \"ticks\": \"\"}, \"type\": \"mesh3d\"}], \"parcoords\": [{\"line\": {\"colorbar\": {\"outlinewidth\": 0, \"ticks\": \"\"}}, \"type\": \"parcoords\"}], \"pie\": [{\"automargin\": true, \"type\": \"pie\"}], \"scatter\": [{\"marker\": {\"colorbar\": {\"outlinewidth\": 0, \"ticks\": \"\"}}, \"type\": \"scatter\"}], \"scatter3d\": [{\"line\": {\"colorbar\": {\"outlinewidth\": 0, \"ticks\": \"\"}}, \"marker\": {\"colorbar\": {\"outlinewidth\": 0, \"ticks\": \"\"}}, \"type\": \"scatter3d\"}], \"scattercarpet\": [{\"marker\": {\"colorbar\": {\"outlinewidth\": 0, \"ticks\": \"\"}}, \"type\": \"scattercarpet\"}], \"scattergeo\": [{\"marker\": {\"colorbar\": {\"outlinewidth\": 0, \"ticks\": \"\"}}, \"type\": \"scattergeo\"}], \"scattergl\": [{\"marker\": {\"colorbar\": {\"outlinewidth\": 0, \"ticks\": \"\"}}, \"type\": \"scattergl\"}], \"scattermapbox\": [{\"marker\": {\"colorbar\": {\"outlinewidth\": 0, \"ticks\": \"\"}}, \"type\": \"scattermapbox\"}], \"scatterpolar\": [{\"marker\": {\"colorbar\": {\"outlinewidth\": 0, \"ticks\": \"\"}}, \"type\": \"scatterpolar\"}], \"scatterpolargl\": [{\"marker\": {\"colorbar\": {\"outlinewidth\": 0, \"ticks\": \"\"}}, \"type\": \"scatterpolargl\"}], \"scatterternary\": [{\"marker\": {\"colorbar\": {\"outlinewidth\": 0, \"ticks\": \"\"}}, \"type\": \"scatterternary\"}], \"surface\": [{\"colorbar\": {\"outlinewidth\": 0, \"ticks\": \"\"}, \"colorscale\": [[0.0, \"#0d0887\"], [0.1111111111111111, \"#46039f\"], [0.2222222222222222, \"#7201a8\"], [0.3333333333333333, \"#9c179e\"], [0.4444444444444444, \"#bd3786\"], [0.5555555555555556, \"#d8576b\"], [0.6666666666666666, \"#ed7953\"], [0.7777777777777778, \"#fb9f3a\"], [0.8888888888888888, \"#fdca26\"], [1.0, \"#f0f921\"]], \"type\": \"surface\"}], \"table\": [{\"cells\": {\"fill\": {\"color\": \"#EBF0F8\"}, \"line\": {\"color\": \"white\"}}, \"header\": {\"fill\": {\"color\": \"#C8D4E3\"}, \"line\": {\"color\": \"white\"}}, \"type\": \"table\"}]}, \"layout\": {\"annotationdefaults\": {\"arrowcolor\": \"#2a3f5f\", \"arrowhead\": 0, \"arrowwidth\": 1}, \"coloraxis\": {\"colorbar\": {\"outlinewidth\": 0, \"ticks\": \"\"}}, \"colorscale\": {\"diverging\": [[0, \"#8e0152\"], [0.1, \"#c51b7d\"], [0.2, \"#de77ae\"], [0.3, \"#f1b6da\"], [0.4, \"#fde0ef\"], [0.5, \"#f7f7f7\"], [0.6, \"#e6f5d0\"], [0.7, \"#b8e186\"], [0.8, \"#7fbc41\"], [0.9, \"#4d9221\"], [1, \"#276419\"]], \"sequential\": [[0.0, \"#0d0887\"], [0.1111111111111111, \"#46039f\"], [0.2222222222222222, \"#7201a8\"], [0.3333333333333333, \"#9c179e\"], [0.4444444444444444, \"#bd3786\"], [0.5555555555555556, \"#d8576b\"], [0.6666666666666666, \"#ed7953\"], [0.7777777777777778, \"#fb9f3a\"], [0.8888888888888888, \"#fdca26\"], [1.0, \"#f0f921\"]], \"sequentialminus\": [[0.0, \"#0d0887\"], [0.1111111111111111, \"#46039f\"], [0.2222222222222222, \"#7201a8\"], [0.3333333333333333, \"#9c179e\"], [0.4444444444444444, \"#bd3786\"], [0.5555555555555556, \"#d8576b\"], [0.6666666666666666, \"#ed7953\"], [0.7777777777777778, \"#fb9f3a\"], [0.8888888888888888, \"#fdca26\"], [1.0, \"#f0f921\"]]}, \"colorway\": [\"#636efa\", \"#EF553B\", \"#00cc96\", \"#ab63fa\", \"#FFA15A\", \"#19d3f3\", \"#FF6692\", \"#B6E880\", \"#FF97FF\", \"#FECB52\"], \"font\": {\"color\": \"#2a3f5f\"}, \"geo\": {\"bgcolor\": \"white\", \"lakecolor\": \"white\", \"landcolor\": \"#E5ECF6\", \"showlakes\": true, \"showland\": true, \"subunitcolor\": \"white\"}, \"hoverlabel\": {\"align\": \"left\"}, \"hovermode\": \"closest\", \"mapbox\": {\"style\": \"light\"}, \"paper_bgcolor\": \"white\", \"plot_bgcolor\": \"#E5ECF6\", \"polar\": {\"angularaxis\": {\"gridcolor\": \"white\", \"linecolor\": \"white\", \"ticks\": \"\"}, \"bgcolor\": \"#E5ECF6\", \"radialaxis\": {\"gridcolor\": \"white\", \"linecolor\": \"white\", \"ticks\": \"\"}}, \"scene\": {\"xaxis\": {\"backgroundcolor\": \"#E5ECF6\", \"gridcolor\": \"white\", \"gridwidth\": 2, \"linecolor\": \"white\", \"showbackground\": true, \"ticks\": \"\", \"zerolinecolor\": \"white\"}, \"yaxis\": {\"backgroundcolor\": \"#E5ECF6\", \"gridcolor\": \"white\", \"gridwidth\": 2, \"linecolor\": \"white\", \"showbackground\": true, \"ticks\": \"\", \"zerolinecolor\": \"white\"}, \"zaxis\": {\"backgroundcolor\": \"#E5ECF6\", \"gridcolor\": \"white\", \"gridwidth\": 2, \"linecolor\": \"white\", \"showbackground\": true, \"ticks\": \"\", \"zerolinecolor\": \"white\"}}, \"shapedefaults\": {\"line\": {\"color\": \"#2a3f5f\"}}, \"ternary\": {\"aaxis\": {\"gridcolor\": \"white\", \"linecolor\": \"white\", \"ticks\": \"\"}, \"baxis\": {\"gridcolor\": \"white\", \"linecolor\": \"white\", \"ticks\": \"\"}, \"bgcolor\": \"#E5ECF6\", \"caxis\": {\"gridcolor\": \"white\", \"linecolor\": \"white\", \"ticks\": \"\"}}, \"title\": {\"x\": 0.05}, \"xaxis\": {\"automargin\": true, \"gridcolor\": \"white\", \"linecolor\": \"white\", \"ticks\": \"\", \"title\": {\"standoff\": 15}, \"zerolinecolor\": \"white\", \"zerolinewidth\": 2}, \"yaxis\": {\"automargin\": true, \"gridcolor\": \"white\", \"linecolor\": \"white\", \"ticks\": \"\", \"title\": {\"standoff\": 15}, \"zerolinecolor\": \"white\", \"zerolinewidth\": 2}}}, \"xaxis\": {\"anchor\": \"y\", \"domain\": [0.0, 1.0], \"title\": {\"text\": \"Name of State / UT\"}}, \"yaxis\": {\"anchor\": \"x\", \"domain\": [0.0, 1.0], \"title\": {\"text\": \"Total Cases\"}}},\n",
              "                        {\"responsive\": true}\n",
              "                    ).then(function(){\n",
              "                            \n",
              "var gd = document.getElementById('d7b0dfb4-0b95-4dce-b423-93fca2b34c8e');\n",
              "var x = new MutationObserver(function (mutations, observer) {{\n",
              "        var display = window.getComputedStyle(gd).display;\n",
              "        if (!display || display === 'none') {{\n",
              "            console.log([gd, 'removed!']);\n",
              "            Plotly.purge(gd);\n",
              "            observer.disconnect();\n",
              "        }}\n",
              "}});\n",
              "\n",
              "// Listen for the removal of the full notebook cells\n",
              "var notebookContainer = gd.closest('#notebook-container');\n",
              "if (notebookContainer) {{\n",
              "    x.observe(notebookContainer, {childList: true});\n",
              "}}\n",
              "\n",
              "// Listen for the clearing of the current output cell\n",
              "var outputEl = gd.closest('.output');\n",
              "if (outputEl) {{\n",
              "    x.observe(outputEl, {childList: true});\n",
              "}}\n",
              "\n",
              "                        })\n",
              "                };\n",
              "                });\n",
              "            </script>\n",
              "        </div>"
            ],
            "application/vnd.plotly.v1+json": {
              "data": [
                {
                  "textposition": "auto",
                  "hovertemplate": "Name of State / UT=%{x}<br>Total Cases=%{y}",
                  "showlegend": false,
                  "legendgroup": "",
                  "name": "",
                  "yaxis": "y",
                  "y": [
                    12,
                    6,
                    39,
                    43,
                    30,
                    4,
                    20,
                    138,
                    23,
                    147,
                    3,
                    1,
                    29,
                    43,
                    35,
                    45,
                    7,
                    18,
                    13,
                    43,
                    4,
                    11,
                    7,
                    1,
                    6,
                    1
                  ],
                  "hoverlabel": {
                    "namelength": 0
                  },
                  "offsetgroup": "",
                  "xaxis": "x",
                  "marker": {
                    "color": "#636efa"
                  },
                  "x": [
                    "Andhra Pradesh",
                    "Chhattisgarh",
                    "Delhi",
                    "Gujarat",
                    "Haryana",
                    "Himachal Pradesh",
                    "Karnataka",
                    "Kerala",
                    "Madhya Pradesh",
                    "Maharashtra",
                    "Odisha",
                    "Puducherry",
                    "Punjab",
                    "Rajasthan",
                    "Tamil Nadu",
                    "Telengana",
                    "Chandigarh",
                    "Jammu and Kashmir",
                    "Ladakh",
                    "Uttar Pradesh",
                    "Uttarakhand",
                    "West Bengal",
                    "Bihar",
                    "Mizoram",
                    "Goa",
                    "Manipur"
                  ],
                  "alignmentgroup": "True",
                  "type": "bar",
                  "orientation": "v"
                }
              ],
              "config": {
                "plotlyServerURL": "https://plot.ly"
              },
              "layout": {
                "xaxis": {
                  "domain": [
                    0,
                    1
                  ],
                  "anchor": "y",
                  "title": {
                    "text": "Name of State / UT"
                  }
                },
                "yaxis": {
                  "domain": [
                    0,
                    1
                  ],
                  "anchor": "x",
                  "title": {
                    "text": "Total Cases"
                  }
                },
                "barmode": "relative",
                "template": {
                  "layout": {
                    "shapedefaults": {
                      "line": {
                        "color": "#2a3f5f"
                      }
                    },
                    "polar": {
                      "radialaxis": {
                        "ticks": "",
                        "gridcolor": "white",
                        "linecolor": "white"
                      },
                      "bgcolor": "#E5ECF6",
                      "angularaxis": {
                        "ticks": "",
                        "gridcolor": "white",
                        "linecolor": "white"
                      }
                    },
                    "colorway": [
                      "#636efa",
                      "#EF553B",
                      "#00cc96",
                      "#ab63fa",
                      "#FFA15A",
                      "#19d3f3",
                      "#FF6692",
                      "#B6E880",
                      "#FF97FF",
                      "#FECB52"
                    ],
                    "xaxis": {
                      "automargin": true,
                      "title": {
                        "standoff": 15
                      },
                      "zerolinewidth": 2,
                      "ticks": "",
                      "zerolinecolor": "white",
                      "gridcolor": "white",
                      "linecolor": "white"
                    },
                    "colorscale": {
                      "diverging": [
                        [
                          0,
                          "#8e0152"
                        ],
                        [
                          0.1,
                          "#c51b7d"
                        ],
                        [
                          0.2,
                          "#de77ae"
                        ],
                        [
                          0.3,
                          "#f1b6da"
                        ],
                        [
                          0.4,
                          "#fde0ef"
                        ],
                        [
                          0.5,
                          "#f7f7f7"
                        ],
                        [
                          0.6,
                          "#e6f5d0"
                        ],
                        [
                          0.7,
                          "#b8e186"
                        ],
                        [
                          0.8,
                          "#7fbc41"
                        ],
                        [
                          0.9,
                          "#4d9221"
                        ],
                        [
                          1,
                          "#276419"
                        ]
                      ],
                      "sequential": [
                        [
                          0,
                          "#0d0887"
                        ],
                        [
                          0.1111111111111111,
                          "#46039f"
                        ],
                        [
                          0.2222222222222222,
                          "#7201a8"
                        ],
                        [
                          0.3333333333333333,
                          "#9c179e"
                        ],
                        [
                          0.4444444444444444,
                          "#bd3786"
                        ],
                        [
                          0.5555555555555556,
                          "#d8576b"
                        ],
                        [
                          0.6666666666666666,
                          "#ed7953"
                        ],
                        [
                          0.7777777777777778,
                          "#fb9f3a"
                        ],
                        [
                          0.8888888888888888,
                          "#fdca26"
                        ],
                        [
                          1,
                          "#f0f921"
                        ]
                      ],
                      "sequentialminus": [
                        [
                          0,
                          "#0d0887"
                        ],
                        [
                          0.1111111111111111,
                          "#46039f"
                        ],
                        [
                          0.2222222222222222,
                          "#7201a8"
                        ],
                        [
                          0.3333333333333333,
                          "#9c179e"
                        ],
                        [
                          0.4444444444444444,
                          "#bd3786"
                        ],
                        [
                          0.5555555555555556,
                          "#d8576b"
                        ],
                        [
                          0.6666666666666666,
                          "#ed7953"
                        ],
                        [
                          0.7777777777777778,
                          "#fb9f3a"
                        ],
                        [
                          0.8888888888888888,
                          "#fdca26"
                        ],
                        [
                          1,
                          "#f0f921"
                        ]
                      ]
                    },
                    "paper_bgcolor": "white",
                    "plot_bgcolor": "#E5ECF6",
                    "title": {
                      "x": 0.05
                    },
                    "scene": {
                      "zaxis": {
                        "backgroundcolor": "#E5ECF6",
                        "ticks": "",
                        "gridwidth": 2,
                        "showbackground": true,
                        "zerolinecolor": "white",
                        "gridcolor": "white",
                        "linecolor": "white"
                      },
                      "xaxis": {
                        "backgroundcolor": "#E5ECF6",
                        "ticks": "",
                        "gridwidth": 2,
                        "showbackground": true,
                        "zerolinecolor": "white",
                        "gridcolor": "white",
                        "linecolor": "white"
                      },
                      "yaxis": {
                        "backgroundcolor": "#E5ECF6",
                        "ticks": "",
                        "gridwidth": 2,
                        "showbackground": true,
                        "zerolinecolor": "white",
                        "gridcolor": "white",
                        "linecolor": "white"
                      }
                    },
                    "yaxis": {
                      "automargin": true,
                      "title": {
                        "standoff": 15
                      },
                      "zerolinewidth": 2,
                      "ticks": "",
                      "zerolinecolor": "white",
                      "gridcolor": "white",
                      "linecolor": "white"
                    },
                    "annotationdefaults": {
                      "arrowwidth": 1,
                      "arrowhead": 0,
                      "arrowcolor": "#2a3f5f"
                    },
                    "hoverlabel": {
                      "align": "left"
                    },
                    "ternary": {
                      "bgcolor": "#E5ECF6",
                      "baxis": {
                        "ticks": "",
                        "gridcolor": "white",
                        "linecolor": "white"
                      },
                      "caxis": {
                        "ticks": "",
                        "gridcolor": "white",
                        "linecolor": "white"
                      },
                      "aaxis": {
                        "ticks": "",
                        "gridcolor": "white",
                        "linecolor": "white"
                      }
                    },
                    "mapbox": {
                      "style": "light"
                    },
                    "hovermode": "closest",
                    "font": {
                      "color": "#2a3f5f"
                    },
                    "geo": {
                      "showland": true,
                      "landcolor": "#E5ECF6",
                      "showlakes": true,
                      "bgcolor": "white",
                      "subunitcolor": "white",
                      "lakecolor": "white"
                    },
                    "coloraxis": {
                      "colorbar": {
                        "outlinewidth": 0,
                        "ticks": ""
                      }
                    }
                  },
                  "data": {
                    "mesh3d": [
                      {
                        "colorbar": {
                          "outlinewidth": 0,
                          "ticks": ""
                        },
                        "type": "mesh3d"
                      }
                    ],
                    "scattercarpet": [
                      {
                        "marker": {
                          "colorbar": {
                            "outlinewidth": 0,
                            "ticks": ""
                          }
                        },
                        "type": "scattercarpet"
                      }
                    ],
                    "pie": [
                      {
                        "automargin": true,
                        "type": "pie"
                      }
                    ],
                    "surface": [
                      {
                        "colorbar": {
                          "outlinewidth": 0,
                          "ticks": ""
                        },
                        "type": "surface",
                        "colorscale": [
                          [
                            0,
                            "#0d0887"
                          ],
                          [
                            0.1111111111111111,
                            "#46039f"
                          ],
                          [
                            0.2222222222222222,
                            "#7201a8"
                          ],
                          [
                            0.3333333333333333,
                            "#9c179e"
                          ],
                          [
                            0.4444444444444444,
                            "#bd3786"
                          ],
                          [
                            0.5555555555555556,
                            "#d8576b"
                          ],
                          [
                            0.6666666666666666,
                            "#ed7953"
                          ],
                          [
                            0.7777777777777778,
                            "#fb9f3a"
                          ],
                          [
                            0.8888888888888888,
                            "#fdca26"
                          ],
                          [
                            1,
                            "#f0f921"
                          ]
                        ]
                      }
                    ],
                    "table": [
                      {
                        "header": {
                          "line": {
                            "color": "white"
                          },
                          "fill": {
                            "color": "#C8D4E3"
                          }
                        },
                        "cells": {
                          "line": {
                            "color": "white"
                          },
                          "fill": {
                            "color": "#EBF0F8"
                          }
                        },
                        "type": "table"
                      }
                    ],
                    "scatterpolargl": [
                      {
                        "marker": {
                          "colorbar": {
                            "outlinewidth": 0,
                            "ticks": ""
                          }
                        },
                        "type": "scatterpolargl"
                      }
                    ],
                    "contour": [
                      {
                        "colorbar": {
                          "outlinewidth": 0,
                          "ticks": ""
                        },
                        "type": "contour",
                        "colorscale": [
                          [
                            0,
                            "#0d0887"
                          ],
                          [
                            0.1111111111111111,
                            "#46039f"
                          ],
                          [
                            0.2222222222222222,
                            "#7201a8"
                          ],
                          [
                            0.3333333333333333,
                            "#9c179e"
                          ],
                          [
                            0.4444444444444444,
                            "#bd3786"
                          ],
                          [
                            0.5555555555555556,
                            "#d8576b"
                          ],
                          [
                            0.6666666666666666,
                            "#ed7953"
                          ],
                          [
                            0.7777777777777778,
                            "#fb9f3a"
                          ],
                          [
                            0.8888888888888888,
                            "#fdca26"
                          ],
                          [
                            1,
                            "#f0f921"
                          ]
                        ]
                      }
                    ],
                    "carpet": [
                      {
                        "type": "carpet",
                        "baxis": {
                          "minorgridcolor": "white",
                          "gridcolor": "white",
                          "linecolor": "white",
                          "endlinecolor": "#2a3f5f",
                          "startlinecolor": "#2a3f5f"
                        },
                        "aaxis": {
                          "minorgridcolor": "white",
                          "gridcolor": "white",
                          "linecolor": "white",
                          "endlinecolor": "#2a3f5f",
                          "startlinecolor": "#2a3f5f"
                        }
                      }
                    ],
                    "contourcarpet": [
                      {
                        "colorbar": {
                          "outlinewidth": 0,
                          "ticks": ""
                        },
                        "type": "contourcarpet"
                      }
                    ],
                    "heatmap": [
                      {
                        "colorbar": {
                          "outlinewidth": 0,
                          "ticks": ""
                        },
                        "type": "heatmap",
                        "colorscale": [
                          [
                            0,
                            "#0d0887"
                          ],
                          [
                            0.1111111111111111,
                            "#46039f"
                          ],
                          [
                            0.2222222222222222,
                            "#7201a8"
                          ],
                          [
                            0.3333333333333333,
                            "#9c179e"
                          ],
                          [
                            0.4444444444444444,
                            "#bd3786"
                          ],
                          [
                            0.5555555555555556,
                            "#d8576b"
                          ],
                          [
                            0.6666666666666666,
                            "#ed7953"
                          ],
                          [
                            0.7777777777777778,
                            "#fb9f3a"
                          ],
                          [
                            0.8888888888888888,
                            "#fdca26"
                          ],
                          [
                            1,
                            "#f0f921"
                          ]
                        ]
                      }
                    ],
                    "scattermapbox": [
                      {
                        "marker": {
                          "colorbar": {
                            "outlinewidth": 0,
                            "ticks": ""
                          }
                        },
                        "type": "scattermapbox"
                      }
                    ],
                    "scatter3d": [
                      {
                        "marker": {
                          "colorbar": {
                            "outlinewidth": 0,
                            "ticks": ""
                          }
                        },
                        "line": {
                          "colorbar": {
                            "outlinewidth": 0,
                            "ticks": ""
                          }
                        },
                        "type": "scatter3d"
                      }
                    ],
                    "scattergl": [
                      {
                        "marker": {
                          "colorbar": {
                            "outlinewidth": 0,
                            "ticks": ""
                          }
                        },
                        "type": "scattergl"
                      }
                    ],
                    "scatterternary": [
                      {
                        "marker": {
                          "colorbar": {
                            "outlinewidth": 0,
                            "ticks": ""
                          }
                        },
                        "type": "scatterternary"
                      }
                    ],
                    "histogram": [
                      {
                        "marker": {
                          "colorbar": {
                            "outlinewidth": 0,
                            "ticks": ""
                          }
                        },
                        "type": "histogram"
                      }
                    ],
                    "heatmapgl": [
                      {
                        "colorbar": {
                          "outlinewidth": 0,
                          "ticks": ""
                        },
                        "type": "heatmapgl",
                        "colorscale": [
                          [
                            0,
                            "#0d0887"
                          ],
                          [
                            0.1111111111111111,
                            "#46039f"
                          ],
                          [
                            0.2222222222222222,
                            "#7201a8"
                          ],
                          [
                            0.3333333333333333,
                            "#9c179e"
                          ],
                          [
                            0.4444444444444444,
                            "#bd3786"
                          ],
                          [
                            0.5555555555555556,
                            "#d8576b"
                          ],
                          [
                            0.6666666666666666,
                            "#ed7953"
                          ],
                          [
                            0.7777777777777778,
                            "#fb9f3a"
                          ],
                          [
                            0.8888888888888888,
                            "#fdca26"
                          ],
                          [
                            1,
                            "#f0f921"
                          ]
                        ]
                      }
                    ],
                    "scatterpolar": [
                      {
                        "marker": {
                          "colorbar": {
                            "outlinewidth": 0,
                            "ticks": ""
                          }
                        },
                        "type": "scatterpolar"
                      }
                    ],
                    "histogram2d": [
                      {
                        "colorbar": {
                          "outlinewidth": 0,
                          "ticks": ""
                        },
                        "type": "histogram2d",
                        "colorscale": [
                          [
                            0,
                            "#0d0887"
                          ],
                          [
                            0.1111111111111111,
                            "#46039f"
                          ],
                          [
                            0.2222222222222222,
                            "#7201a8"
                          ],
                          [
                            0.3333333333333333,
                            "#9c179e"
                          ],
                          [
                            0.4444444444444444,
                            "#bd3786"
                          ],
                          [
                            0.5555555555555556,
                            "#d8576b"
                          ],
                          [
                            0.6666666666666666,
                            "#ed7953"
                          ],
                          [
                            0.7777777777777778,
                            "#fb9f3a"
                          ],
                          [
                            0.8888888888888888,
                            "#fdca26"
                          ],
                          [
                            1,
                            "#f0f921"
                          ]
                        ]
                      }
                    ],
                    "scattergeo": [
                      {
                        "marker": {
                          "colorbar": {
                            "outlinewidth": 0,
                            "ticks": ""
                          }
                        },
                        "type": "scattergeo"
                      }
                    ],
                    "bar": [
                      {
                        "marker": {
                          "line": {
                            "color": "#E5ECF6",
                            "width": 0.5
                          }
                        },
                        "type": "bar",
                        "error_x": {
                          "color": "#2a3f5f"
                        },
                        "error_y": {
                          "color": "#2a3f5f"
                        }
                      }
                    ],
                    "choropleth": [
                      {
                        "colorbar": {
                          "outlinewidth": 0,
                          "ticks": ""
                        },
                        "type": "choropleth"
                      }
                    ],
                    "parcoords": [
                      {
                        "line": {
                          "colorbar": {
                            "outlinewidth": 0,
                            "ticks": ""
                          }
                        },
                        "type": "parcoords"
                      }
                    ],
                    "barpolar": [
                      {
                        "marker": {
                          "line": {
                            "color": "#E5ECF6",
                            "width": 0.5
                          }
                        },
                        "type": "barpolar"
                      }
                    ],
                    "histogram2dcontour": [
                      {
                        "colorbar": {
                          "outlinewidth": 0,
                          "ticks": ""
                        },
                        "type": "histogram2dcontour",
                        "colorscale": [
                          [
                            0,
                            "#0d0887"
                          ],
                          [
                            0.1111111111111111,
                            "#46039f"
                          ],
                          [
                            0.2222222222222222,
                            "#7201a8"
                          ],
                          [
                            0.3333333333333333,
                            "#9c179e"
                          ],
                          [
                            0.4444444444444444,
                            "#bd3786"
                          ],
                          [
                            0.5555555555555556,
                            "#d8576b"
                          ],
                          [
                            0.6666666666666666,
                            "#ed7953"
                          ],
                          [
                            0.7777777777777778,
                            "#fb9f3a"
                          ],
                          [
                            0.8888888888888888,
                            "#fdca26"
                          ],
                          [
                            1,
                            "#f0f921"
                          ]
                        ]
                      }
                    ],
                    "scatter": [
                      {
                        "marker": {
                          "colorbar": {
                            "outlinewidth": 0,
                            "ticks": ""
                          }
                        },
                        "type": "scatter"
                      }
                    ]
                  }
                },
                "margin": {
                  "t": 60
                },
                "legend": {
                  "tracegroupgap": 0
                }
              }
            }
          },
          "metadata": {
            "tags": []
          }
        }
      ]
    },
    {
      "cell_type": "code",
      "metadata": {
        "colab": {
          "base_uri": "https://localhost:8080/",
          "height": 296
        },
        "id": "F_VxnIMkwecZ",
        "outputId": "b1c311b8-2d66-45cc-c32f-db1fdf1f16ab"
      },
      "source": [
        "df.plot(kind='scatter',x='Name of State / UT',y='Total Cases')"
      ],
      "execution_count": null,
      "outputs": [
        {
          "output_type": "execute_result",
          "data": {
            "text/plain": [
              "<matplotlib.axes._subplots.AxesSubplot at 0x7f5810b96ad0>"
            ]
          },
          "metadata": {
            "tags": []
          },
          "execution_count": 83
        },
        {
          "output_type": "display_data",
          "data": {
            "image/png": "[encoded data removed]",
            "text/plain": [
              "<Figure size 432x288 with 1 Axes>"
            ]
          },
          "metadata": {
            "tags": [],
            "needs_background": "light"
          }
        }
      ]
    },
    {
      "cell_type": "code",
      "metadata": {
        "id": "UmPhuK15wkO3"
      },
      "source": [
        "plt.scatter(df['Name of State / UT'],df['Total Cases'])"
      ],
      "execution_count": null,
      "outputs": []
    },
    {
      "cell_type": "code",
      "metadata": {
        "id": "O4TVd9cawoKq"
      },
      "source": [
        "df.iplot(kind='scatter',x='Name of State / UT',y='Total Cases',mode='markers+lines',title='My Graph',xTitle='Name of State / UT',yTitle='Total Cases',colors='red',size=20)\n",
        "px.scatter(df,x='Name of State / UT',y='Total Cases')"
      ],
      "execution_count": null,
      "outputs": []
    },
    {
      "cell_type": "code",
      "metadata": {
        "id": "Zd0-OCgqwt-w"
      },
      "source": [
        "#Matplotlib\n",
        "fig=plt.figure(figsize=(20,10),dpi=200)\n",
        "axes=fig.add_axes([0,0,1,1])\n",
        "axes.bar(df['Name of State / UT'],df['Total Cases'])\n",
        "axes.set_title(\"Total Cases in India\")\n",
        "axes.set_xlabel(\"Name of State / UT\")\n",
        "axes.set_ylabel(\"Total Cases\")\n",
        "plt.show()\n",
        "\n",
        "#plotly\n",
        "fig=go.Figure()\n",
        "fig.add_trace(go.Bar(x=df['Name of State / UT'],y=df['Total Cases']))\n",
        "fig.update_layout(title='Total Cases in India',xaxis=dict(title='Name of State / UT'),yaxis=dict(title='Total Cases'))"
      ],
      "execution_count": null,
      "outputs": []
    },
    {
      "cell_type": "code",
      "metadata": {
        "id": "KpNhc5hswz6f"
      },
      "source": [
        "Indian_Cord=pd.read_excel(\"/content/drive/MyDrive/python - april/Indian Coordinates.xlsx\")"
      ],
      "execution_count": null,
      "outputs": []
    },
    {
      "cell_type": "code",
      "metadata": {
        "id": "FeV45kaFw-iH"
      },
      "source": [
        "Indian_Cord"
      ],
      "execution_count": null,
      "outputs": []
    },
    {
      "cell_type": "code",
      "metadata": {
        "id": "a1TRfu84xndZ"
      },
      "source": [
        "df_full=pd.merge(Indian_Cord,df,on='Name of State / UT')"
      ],
      "execution_count": null,
      "outputs": []
    },
    {
      "cell_type": "code",
      "metadata": {
        "id": "exE97PC3yCO7"
      },
      "source": [
        "df_full"
      ],
      "execution_count": null,
      "outputs": []
    },
    {
      "cell_type": "code",
      "metadata": {
        "id": "hYk4w5bbyFoh"
      },
      "source": [
        "map=folium.Map(location=[20,70],zoom_start=4,tiles='Stamenterrain')\n",
        "\n",
        "for lat,long,value, name in zip(df_full['Latitude'],df_full['Longitude'],df_full['Total Cases'],df_full['Name of State / UT']):\n",
        "    folium.CircleMarker([lat,long],radius=value*0.8,popup=('<strong>State</strong>: '+str(name).capitalize()+'<br>''<strong>Total Cases</strong>: ' + str(value)+ '<br>'),color='red',fill_color='red',fill_opacity=0.3).add_to(map)"
      ],
      "execution_count": null,
      "outputs": []
    },
    {
      "cell_type": "code",
      "metadata": {
        "id": "-KKgivIzyKJ6"
      },
      "source": [
        "map"
      ],
      "execution_count": null,
      "outputs": []
    },
    {
      "cell_type": "code",
      "metadata": {
        "id": "_Ua3bdiByNEc"
      },
      "source": [
        "# How corona virus is rising Globaly"
      ],
      "execution_count": null,
      "outputs": []
    },
    {
      "cell_type": "code",
      "metadata": {
        "id": "9oFNOC2oyWcC"
      },
      "source": [
        "dbd_India=pd.read_excel(\"/content/drive/MyDrive/python - april/per_day_cases.xlsx\",parse_dates=True,sheet_name=\"India\")\n",
        "dbd_Italy=pd.read_excel(\"/content/drive/MyDrive/python - april/per_day_cases.xlsx\",parse_dates=True,sheet_name=\"Italy\")\n",
        "dbd_Korea=pd.read_excel(\"/content/drive/MyDrive/python - april/per_day_cases.xlsx\",parse_dates=True,sheet_name=\"Korea\")\n",
        "dbd_Wuhan=pd.read_excel(\"/content/drive/MyDrive/python - april/per_day_cases.xlsx\",parse_dates=True,sheet_name=\"Wuhan\")"
      ],
      "execution_count": null,
      "outputs": []
    },
    {
      "cell_type": "code",
      "metadata": {
        "id": "93hqprdOyj4A"
      },
      "source": [
        "dbd_India"
      ],
      "execution_count": null,
      "outputs": []
    },
    {
      "cell_type": "code",
      "metadata": {
        "id": "5hLHne7JzO3a"
      },
      "source": [
        "#Matplotlib\n",
        "fig=plt.figure(figsize=(10,5),dpi=200)\n",
        "axes=fig.add_axes([0.1,0.1,0.8,0.8])\n",
        "axes.bar(dbd_India[\"Date\"],dbd_India[\"Total Cases\"],color='blue')\n",
        "axes.set_xlabel(\"Date\")\n",
        "axes.set_ylabel(\"Total Cases\")\n",
        "axes.set_title(\"Confirmed cases in India\")\n",
        "plt.show()\n",
        "\n",
        "\n",
        "#plotly Express\n",
        "\n",
        "fig=px.bar(dbd_India,x=\"Date\",y=\"Total Cases\",color='Total Cases',title='Confirmed cases in India')\n",
        "fig.show()"
      ],
      "execution_count": null,
      "outputs": []
    },
    {
      "cell_type": "code",
      "metadata": {
        "id": "NYiYtHPhzhMQ"
      },
      "source": [
        "fig=px.bar(dbd_Italy,x=\"Date\",y=\"Total Cases\",color='Total Cases',title='Confirmed cases in Italy')\n",
        "fig.show()\n",
        "\n",
        "fig=px.bar(dbd_Korea,x=\"Date\",y=\"Total Cases\",color='Total Cases',title='Confirmed cases in Korea')\n",
        "fig.show()\n",
        "\n",
        "fig=px.bar(dbd_Wuhan,x=\"Date\",y=\"Total Cases\",color='Total Cases',title='Confirmed cases in Wuhan')\n",
        "fig.show()"
      ],
      "execution_count": null,
      "outputs": []
    },
    {
      "cell_type": "code",
      "metadata": {
        "id": "Sa1S6pLozxlq"
      },
      "source": [
        "fig=plt.figure(figsize=(10,5),dpi=200)\n",
        "axes=fig.add_axes([0.1,0.1,0.8,0.8])\n",
        "axes.plot(dbd_India[\"Date\"],dbd_India[\"Total Cases\"],color='blue',marker='*')\n",
        "axes.set_xlabel(\"Date\")\n",
        "axes.set_ylabel(\"Total Cases\")\n",
        "axes.set_title(\"Confirmed cases in India\")\n",
        "plt.show()\n",
        "\n",
        "\n",
        "#plotly Express\n",
        "\n",
        "fig=px.scatter(dbd_India,x=\"Date\",y=\"Total Cases\",color='Total Cases',title='Confirmed cases in India')\n",
        "fig.show()"
      ],
      "execution_count": null,
      "outputs": []
    },
    {
      "cell_type": "code",
      "metadata": {
        "id": "jhMqdSnoz25T"
      },
      "source": [
        "#Plotly\n",
        "dbd_India.iplot(kind='scatter',x='Date',y='Total Cases',mode='lines+markers')"
      ],
      "execution_count": null,
      "outputs": []
    },
    {
      "cell_type": "code",
      "metadata": {
        "id": "9q0mAt0S0FdH"
      },
      "source": [
        "fig=go.Figure()\n",
        "fig.add_trace(go.Scatter(x=dbd_India['Date'],y=dbd_India['Total Cases'],mode='lines+markers'))"
      ],
      "execution_count": null,
      "outputs": []
    },
    {
      "cell_type": "code",
      "metadata": {
        "id": "oZ7Sk8qJ0KQq"
      },
      "source": [
        "from plotly.subplots import make_subplots"
      ],
      "execution_count": null,
      "outputs": []
    },
    {
      "cell_type": "code",
      "metadata": {
        "id": "cX653tqA0OAp"
      },
      "source": [
        "fig=make_subplots(\n",
        "    rows=2,cols=2,\n",
        "    specs=[[{\"secondary_y\":True},{\"secondary_y\":True}],[{\"secondary_y\":True},{\"secondary_y\":True}]],\n",
        "    subplot_titles=(\"S.Korea\",\"Italy\",\"India\",\"Wuhan\"))\n",
        "\n",
        "fig.add_trace(go.Bar(x=dbd_Korea['Date'],y=dbd_Korea['Total Cases'],\n",
        "                    marker=dict(color=dbd_Korea['Total Cases'],coloraxis=\"coloraxis\")),1,1)\n",
        "\n",
        "fig.add_trace(go.Bar(x=dbd_Italy['Date'],y=dbd_Italy['Total Cases'],\n",
        "                    marker=dict(color=dbd_Italy['Total Cases'],coloraxis=\"coloraxis\")),1,2)\n",
        "\n",
        "fig.add_trace(go.Bar(x=dbd_India['Date'],y=dbd_India['Total Cases'],\n",
        "                    marker=dict(color=dbd_India['Total Cases'],coloraxis=\"coloraxis\")),2,1)\n",
        "\n",
        "fig.add_trace(go.Bar(x=dbd_Wuhan['Date'],y=dbd_Wuhan['Total Cases'],\n",
        "                    marker=dict(color=dbd_Wuhan['Total Cases'],coloraxis=\"coloraxis\")),2,2)\n",
        "\n",
        "\n",
        "\n",
        "fig.update_layout(coloraxis=dict(colorscale='Bluered_r'),showlegend=False,title_text=\"Total Cases in 4 Countries\")\n",
        "\n",
        "fig.update_layout(plot_bgcolor='rgb(230,230,230)')"
      ],
      "execution_count": null,
      "outputs": []
    },
    {
      "cell_type": "code",
      "metadata": {
        "id": "scNxK9u70TSC"
      },
      "source": [
        "fig=make_subplots(\n",
        "    rows=2,cols=2,\n",
        "    specs=[[{\"secondary_y\":True},{\"secondary_y\":True}],[{\"secondary_y\":True},{\"secondary_y\":True}]],\n",
        "    subplot_titles=(\"S.Korea\",\"Italy\",\"India\",\"Wuhan\"))\n",
        "\n",
        "fig.add_trace(go.Scatter(x=dbd_Korea['Date'],y=dbd_Korea['Total Cases'],\n",
        "                    marker=dict(color=dbd_Korea['Total Cases'],coloraxis=\"coloraxis\")),1,1)\n",
        "\n",
        "fig.add_trace(go.Scatter(x=dbd_Italy['Date'],y=dbd_Italy['Total Cases'],\n",
        "                    marker=dict(color=dbd_Italy['Total Cases'],coloraxis=\"coloraxis\")),1,2)\n",
        "\n",
        "fig.add_trace(go.Scatter(x=dbd_India['Date'],y=dbd_India['Total Cases'],\n",
        "                    marker=dict(color=dbd_India['Total Cases'],coloraxis=\"coloraxis\")),2,1)\n",
        "\n",
        "fig.add_trace(go.Scatter(x=dbd_Wuhan['Date'],y=dbd_Wuhan['Total Cases'],\n",
        "                    marker=dict(color=dbd_Wuhan['Total Cases'],coloraxis=\"coloraxis\")),2,2)\n",
        "\n",
        "\n",
        "\n",
        "fig.update_layout(coloraxis=dict(colorscale='Bluered_r'),showlegend=False,title_text=\"Total Cases in 4 Countries\")\n",
        "\n",
        "fig.update_layout(plot_bgcolor='rgb(230,230,230)')"
      ],
      "execution_count": null,
      "outputs": []
    },
    {
      "cell_type": "code",
      "metadata": {
        "id": "1iaDXNSk0Yny"
      },
      "source": [
        "\n",
        "df=pd.read_csv('/content/drive/MyDrive/python - april/covid_19_data.csv',parse_dates=['Last Update'])"
      ],
      "execution_count": null,
      "outputs": []
    },
    {
      "cell_type": "code",
      "metadata": {
        "id": "ZbwPObLq4wDu"
      },
      "source": [
        "df.rename(columns={'ObservationDate':'Date','Country/Region':'Country'},inplace=True)\n"
      ],
      "execution_count": null,
      "outputs": []
    },
    {
      "cell_type": "code",
      "metadata": {
        "id": "GeFBXpg4qFQZ"
      },
      "source": [
        "df"
      ],
      "execution_count": null,
      "outputs": []
    },
    {
      "cell_type": "code",
      "metadata": {
        "id": "PkkjXRcyqLBQ"
      },
      "source": [
        "df.query('Country==\"UK\"')"
      ],
      "execution_count": null,
      "outputs": []
    },
    {
      "cell_type": "code",
      "metadata": {
        "id": "t-9xfmvsqNoR"
      },
      "source": [
        "df.groupby('Date').sum()"
      ],
      "execution_count": null,
      "outputs": []
    },
    {
      "cell_type": "code",
      "metadata": {
        "id": "LrXU_wAPqSVR"
      },
      "source": [
        "confirmed=df.groupby('Date').sum()['Confirmed'].reset_index()\n",
        "death=df.groupby('Date').sum()['Deaths'].reset_index()\n",
        "rec=df.groupby('Date').sum()['Recovered'].reset_index()"
      ],
      "execution_count": null,
      "outputs": []
    },
    {
      "cell_type": "code",
      "metadata": {
        "id": "ymcgXqMLqYcY"
      },
      "source": [
        "\n",
        "fig=go.Figure()\n",
        "fig.add_trace(go.Scatter(x=confirmed['Date'],y=confirmed['Confirmed'],mode='lines+markers',name='Confirmed',line=dict(color='blue',width=2)))\n",
        "\n",
        "fig.add_trace(go.Scatter(x=death['Date'],y=death['Deaths'],mode='lines+markers',name='Deaths',line=dict(color='red',width=2)))\n",
        "fig.add_trace(go.Scatter(x=rec['Date'],y=rec['Recovered'],mode='lines+markers',name='Recovered',line=dict(color='green',width=2)))"
      ],
      "execution_count": null,
      "outputs": []
    },
    {
      "cell_type": "code",
      "metadata": {
        "id": "Osyhi0ssqbE7"
      },
      "source": [
        "df_confirmed=pd.read_csv('/content/drive/MyDrive/mp covid/time_series_covid_19_confirmed.csv')"
      ],
      "execution_count": null,
      "outputs": []
    },
    {
      "cell_type": "code",
      "metadata": {
        "id": "YX3MNdtCqrgR"
      },
      "source": [
        "df_confirmed.rename(columns={'Country/Region':'Country'},inplace=True)"
      ],
      "execution_count": null,
      "outputs": []
    },
    {
      "cell_type": "code",
      "metadata": {
        "id": "WxmjN6eeq2CK"
      },
      "source": [
        "\n",
        "df_latlong=pd.merge(df,df_confirmed,on=['Country','Province/State'])"
      ],
      "execution_count": null,
      "outputs": []
    },
    {
      "cell_type": "code",
      "metadata": {
        "id": "G-ZqMRRwq4qV"
      },
      "source": [
        "df_latlong"
      ],
      "execution_count": null,
      "outputs": []
    },
    {
      "cell_type": "code",
      "metadata": {
        "id": "YGpEt8vsq6dp"
      },
      "source": [
        "fig=px.density_mapbox(df_latlong,lat=\"Lat\",lon=\"Long\",hover_name=\"Province/State\",hover_data=[\"Confirmed\",\"Deaths\",\"Recovered\"],animation_frame=\"Date\",color_continuous_scale=\"Portland\",radius=7,zoom=0,height=700)\n",
        "fig.update_layout(title='Worldwide Corona Virus Cases')\n",
        "fig.update_layout(mapbox_style=\"open-street-map\",mapbox_center_lon=0)\n",
        "fig.update_layout(margin={\"r\":0,\"t\":0,\"l\":0,\"b\":0})"
      ],
      "execution_count": null,
      "outputs": []
    },
    {
      "cell_type": "code",
      "metadata": {
        "id": "xjcZ8RMrq-Hv"
      },
      "source": [
        ""
      ],
      "execution_count": null,
      "outputs": []
    }
  ]
}